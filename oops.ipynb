{
 "cells": [
  {
   "cell_type": "code",
   "execution_count": 1,
   "metadata": {},
   "outputs": [
    {
     "name": "stdout",
     "output_type": "stream",
     "text": [
      "this is class\n"
     ]
    }
   ],
   "source": [
    "def fun():\n",
    "    print(\"this is fun\")\n",
    "class Emp:\n",
    "    print(\"this is class\")"
   ]
  },
  {
   "cell_type": "code",
   "execution_count": 2,
   "metadata": {},
   "outputs": [
    {
     "name": "stdout",
     "output_type": "stream",
     "text": [
      "this is fun\n"
     ]
    }
   ],
   "source": [
    "fun()"
   ]
  },
  {
   "cell_type": "code",
   "execution_count": 4,
   "metadata": {},
   "outputs": [
    {
     "name": "stdout",
     "output_type": "stream",
     "text": [
      "<class '__main__.Emp'>\n"
     ]
    }
   ],
   "source": [
    "class Emp: \n",
    "# class object(Emp), in stack it will create a frame. in the fram it will add(name,emp_id)\n",
    "    name=\"Jay\"\n",
    "    emp_id=20\n",
    "print(Emp)"
   ]
  },
  {
   "cell_type": "code",
   "execution_count": 5,
   "metadata": {},
   "outputs": [
    {
     "name": "stdout",
     "output_type": "stream",
     "text": [
      "<class '__main__.Emp'>\n",
      "Jay\n",
      "20\n"
     ]
    }
   ],
   "source": [
    "class Emp: \n",
    "# class object(Emp), in stack it will create a frame. in the fram it will add(name,emp_id)\n",
    "    name=\"Jay\"\n",
    "    emp_id=20\n",
    "print(Emp)\n",
    "print(Emp.name)\n",
    "print(Emp.emp_id)"
   ]
  },
  {
   "cell_type": "code",
   "execution_count": 6,
   "metadata": {},
   "outputs": [],
   "source": [
    "class Emp: \n",
    "# class object(Emp), in stack it will create a frame. \n",
    "#in the frame it will add(name,fun,emp_id)\n",
    "    name=\"Jay\"\n",
    "    emp_id=20\n",
    "    def fun(x):\n",
    "        print(\"this is fun in class\")\n"
   ]
  },
  {
   "cell_type": "code",
   "execution_count": 7,
   "metadata": {},
   "outputs": [
    {
     "name": "stdout",
     "output_type": "stream",
     "text": [
      "this is fun in class\n"
     ]
    }
   ],
   "source": [
    "class Emp: \n",
    "# class object(Emp), in stack it will create a frame. \n",
    "#in the frame it will add(name,fun,emp_id)\n",
    "    name=\"Jay\"\n",
    "    emp_id=20\n",
    "    def fun(x):\n",
    "        print(\"this is fun in class\")\n",
    "Emp.fun(10)"
   ]
  },
  {
   "cell_type": "code",
   "execution_count": 8,
   "metadata": {},
   "outputs": [],
   "source": [
    "class Emp: \n",
    "# class object(Emp), in stack it will create a frame. \n",
    "#in the frame it will add(get)\n",
    "    def get(x):\n",
    "        print(\"this is get\")\n",
    "    \n",
    "jay=Emp() # Emp() is a data object, jay is a reference of data object"
   ]
  },
  {
   "cell_type": "code",
   "execution_count": 9,
   "metadata": {},
   "outputs": [
    {
     "name": "stdout",
     "output_type": "stream",
     "text": [
      "jayaram 20 Khyaathi\n"
     ]
    }
   ],
   "source": [
    "class Emp: \n",
    "# class object(Emp), in stack it will create a frame. \n",
    "#in the frame it will add(get)\n",
    "    company_name=\"Khyaathi\"# class object attribute\n",
    "    def get(x):\n",
    "        print(\"this is get\")\n",
    "    \n",
    "jay=Emp() # Emp() is a data object, jay is a reference of data object\n",
    "jay.name=\"jayaram\"\n",
    "jay.id=20 #name,id are data object attributes\n",
    "print(jay.name,jay.id,jay.company_name)\n",
    "# the class object attributes(company_name) can be access using data object"
   ]
  },
  {
   "cell_type": "code",
   "execution_count": 10,
   "metadata": {},
   "outputs": [
    {
     "name": "stdout",
     "output_type": "stream",
     "text": [
      "jayaram 20 Khyaathi\n"
     ]
    },
    {
     "ename": "AttributeError",
     "evalue": "type object 'Emp' has no attribute 'name'",
     "output_type": "error",
     "traceback": [
      "\u001b[0;31m---------------------------------------------------------------------------\u001b[0m",
      "\u001b[0;31mAttributeError\u001b[0m                            Traceback (most recent call last)",
      "\u001b[0;32m<ipython-input-10-9eb1b00ee73f>\u001b[0m in \u001b[0;36m<module>\u001b[0;34m\u001b[0m\n\u001b[1;32m     11\u001b[0m \u001b[0mprint\u001b[0m\u001b[0;34m(\u001b[0m\u001b[0mjay\u001b[0m\u001b[0;34m.\u001b[0m\u001b[0mname\u001b[0m\u001b[0;34m,\u001b[0m\u001b[0mjay\u001b[0m\u001b[0;34m.\u001b[0m\u001b[0mid\u001b[0m\u001b[0;34m,\u001b[0m\u001b[0mjay\u001b[0m\u001b[0;34m.\u001b[0m\u001b[0mcompany_name\u001b[0m\u001b[0;34m)\u001b[0m\u001b[0;34m\u001b[0m\u001b[0;34m\u001b[0m\u001b[0m\n\u001b[1;32m     12\u001b[0m \u001b[0;31m# the class object attributes(company_name) can be access using data object\u001b[0m\u001b[0;34m\u001b[0m\u001b[0;34m\u001b[0m\u001b[0;34m\u001b[0m\u001b[0m\n\u001b[0;32m---> 13\u001b[0;31m \u001b[0mprint\u001b[0m\u001b[0;34m(\u001b[0m\u001b[0mEmp\u001b[0m\u001b[0;34m.\u001b[0m\u001b[0mname\u001b[0m\u001b[0;34m)\u001b[0m\u001b[0;31m# the data object attribute cant access using class object\u001b[0m\u001b[0;34m\u001b[0m\u001b[0;34m\u001b[0m\u001b[0m\n\u001b[0m",
      "\u001b[0;31mAttributeError\u001b[0m: type object 'Emp' has no attribute 'name'"
     ]
    }
   ],
   "source": [
    "class Emp: \n",
    "# class object(Emp), in stack it will create a frame. \n",
    "#in the frame it will add(get)\n",
    "    company_name=\"Khyaathi\"# class object attribute\n",
    "    def get(x):\n",
    "        print(\"this is get\")\n",
    "    \n",
    "jay=Emp() # Emp() is a data object, jay is a reference of data object\n",
    "jay.name=\"jayaram\"\n",
    "jay.id=20 #name,id are data object attributes\n",
    "print(jay.name,jay.id,jay.company_name)\n",
    "# the class object attributes(company_name) can be access using data object\n",
    "print(Emp.name)# the data object attribute cant access using class object"
   ]
  },
  {
   "cell_type": "code",
   "execution_count": 11,
   "metadata": {},
   "outputs": [
    {
     "name": "stdout",
     "output_type": "stream",
     "text": [
      "jayaram 20 Khyaathi\n",
      "Khyaathi\n"
     ]
    }
   ],
   "source": [
    "class Emp: \n",
    "# class object(Emp), in stack it will create a frame. \n",
    "#in the frame it will add(get)\n",
    "    company_name=\"Khyaathi\"# class object attribute\n",
    "    def get(x):\n",
    "        print(\"this is get\")\n",
    "    \n",
    "jay=Emp() # Emp() is a data object, jay is a reference of data object\n",
    "jay.name=\"jayaram\"\n",
    "jay.id=20 #name,id are data object attributes\n",
    "print(jay.name,jay.id,jay.company_name)\n",
    "# the class object attributes(company_name) can be access using data object\n",
    "jay.company_name=\"KHYAATHI\"\n",
    "print(Emp.company_name)\n",
    "print(jay.company_name)"
   ]
  },
  {
   "cell_type": "code",
   "execution_count": 12,
   "metadata": {},
   "outputs": [
    {
     "name": "stdout",
     "output_type": "stream",
     "text": [
      "jayaram 20\n"
     ]
    }
   ],
   "source": [
    "class Emp: \n",
    "    def get(x):\n",
    "        print(x.name,x.id)\n",
    "jay=Emp()\n",
    "jay.name=\"jayaram\"\n",
    "jay.id=20\n",
    "Emp.get(jay)"
   ]
  },
  {
   "cell_type": "code",
   "execution_count": 13,
   "metadata": {},
   "outputs": [
    {
     "name": "stdout",
     "output_type": "stream",
     "text": [
      "jayaram 20\n",
      "Vedhanvesh 23\n"
     ]
    }
   ],
   "source": [
    "class Emp: \n",
    "    def get(x):\n",
    "        print(x.name,x.id)\n",
    "jay=Emp()\n",
    "jay.name=\"jayaram\"\n",
    "jay.id=20\n",
    "Emp.get(jay)\n",
    "vedha = Emp()\n",
    "vedha.name=\"Vedhanvesh\"\n",
    "vedha.id=23\n",
    "Emp.get(vedha)"
   ]
  },
  {
   "cell_type": "code",
   "execution_count": 14,
   "metadata": {},
   "outputs": [
    {
     "name": "stdout",
     "output_type": "stream",
     "text": [
      "jayaram 20 KHYAATHI\n",
      "Vedhanvesh 23 KHYAATHI\n"
     ]
    }
   ],
   "source": [
    "class Emp:\n",
    "    company_name=\"khyaathi\"\n",
    "    def get(x):\n",
    "        print(x.name,x.id,x.company_name)\n",
    "jay=Emp()\n",
    "jay.name=\"jayaram\"\n",
    "jay.id=20\n",
    "jay.company_name=\"KHYAATHI\"\n",
    "Emp.get(jay)\n",
    "vedha = Emp()\n",
    "vedha.name=\"Vedhanvesh\"\n",
    "vedha.id=23\n",
    "vedha.company_name=\"KHYAATHI\"\n",
    "Emp.get(vedha)"
   ]
  },
  {
   "cell_type": "code",
   "execution_count": null,
   "metadata": {},
   "outputs": [],
   "source": [
    "class Emp:\n",
    "    company_name=\"khyaathi\"\n",
    "    def get(x):\n",
    "        print(x.name,x.id,x.company_name)\n",
    "jay=Emp()\n",
    "jay.name=\"jayaram\"\n",
    "jay.id=20\n",
    "jay.company_name=\"KHYAATHI\"\n",
    "Emp.get(jay)\n",
    "vedha = Emp()\n",
    "vedha.name=\"Vedhanvesh\"\n",
    "vedha.id=23\n",
    "vedha.company_name=\"KHYAATHI\"\n",
    "Emp.get(vedha)"
   ]
  },
  {
   "cell_type": "code",
   "execution_count": 15,
   "metadata": {},
   "outputs": [
    {
     "name": "stdout",
     "output_type": "stream",
     "text": [
      "['__class__', '__delattr__', '__dict__', '__dir__', '__doc__', '__eq__', '__format__', '__ge__', '__getattribute__', '__gt__', '__hash__', '__init__', '__init_subclass__', '__le__', '__lt__', '__module__', '__ne__', '__new__', '__reduce__', '__reduce_ex__', '__repr__', '__setattr__', '__sizeof__', '__str__', '__subclasshook__', '__weakref__', 'company_name', 'get', 'id', 'name']\n"
     ]
    }
   ],
   "source": [
    "print(dir(jay))"
   ]
  },
  {
   "cell_type": "code",
   "execution_count": 17,
   "metadata": {},
   "outputs": [
    {
     "name": "stdout",
     "output_type": "stream",
     "text": [
      "jayaram 20 khyaathi KHYAATHI\n",
      "Vedhanvesh 23 khyaathi KHYAATHI\n"
     ]
    }
   ],
   "source": [
    "class Emp:\n",
    "    company_name=\"khyaathi\"\n",
    "    def get(x):\n",
    "        print(x.name,x.id,x.__class__.company_name,x.company_name)\n",
    "jay=Emp()\n",
    "jay.name=\"jayaram\"\n",
    "jay.id=20\n",
    "jay.company_name=\"KHYAATHI\"\n",
    "Emp.get(jay)\n",
    "vedha = Emp()\n",
    "vedha.name=\"Vedhanvesh\"\n",
    "vedha.id=23\n",
    "vedha.company_name=\"KHYAATHI\"\n",
    "Emp.get(vedha)"
   ]
  },
  {
   "cell_type": "code",
   "execution_count": 20,
   "metadata": {},
   "outputs": [
    {
     "name": "stdout",
     "output_type": "stream",
     "text": [
      "jayaram 20\n",
      "Vedhanvesh 23\n"
     ]
    }
   ],
   "source": [
    "class Emp:\n",
    "    def get(x):\n",
    "        print(x.name,x.id)\n",
    "jay=Emp()\n",
    "jay.name=\"jayaram\"\n",
    "jay.id=20\n",
    "Emp.get(jay)\n",
    "vedha = Emp()\n",
    "vedha.name=\"Vedhanvesh\"\n",
    "vedha.id=23\n",
    "vedha.sal=23456\n",
    "Emp.get(vedha)"
   ]
  },
  {
   "cell_type": "code",
   "execution_count": 21,
   "metadata": {},
   "outputs": [
    {
     "ename": "AttributeError",
     "evalue": "'Emp' object has no attribute 'sal'",
     "output_type": "error",
     "traceback": [
      "\u001b[0;31m---------------------------------------------------------------------------\u001b[0m",
      "\u001b[0;31mAttributeError\u001b[0m                            Traceback (most recent call last)",
      "\u001b[0;32m<ipython-input-21-53ede08bc42c>\u001b[0m in \u001b[0;36m<module>\u001b[0;34m\u001b[0m\n\u001b[1;32m      5\u001b[0m \u001b[0mjay\u001b[0m\u001b[0;34m.\u001b[0m\u001b[0mname\u001b[0m\u001b[0;34m=\u001b[0m\u001b[0;34m\"jayaram\"\u001b[0m\u001b[0;34m\u001b[0m\u001b[0;34m\u001b[0m\u001b[0m\n\u001b[1;32m      6\u001b[0m \u001b[0mjay\u001b[0m\u001b[0;34m.\u001b[0m\u001b[0mid\u001b[0m\u001b[0;34m=\u001b[0m\u001b[0;36m20\u001b[0m\u001b[0;34m\u001b[0m\u001b[0;34m\u001b[0m\u001b[0m\n\u001b[0;32m----> 7\u001b[0;31m \u001b[0mEmp\u001b[0m\u001b[0;34m.\u001b[0m\u001b[0mget\u001b[0m\u001b[0;34m(\u001b[0m\u001b[0mjay\u001b[0m\u001b[0;34m)\u001b[0m\u001b[0;34m\u001b[0m\u001b[0;34m\u001b[0m\u001b[0m\n\u001b[0m\u001b[1;32m      8\u001b[0m \u001b[0mvedha\u001b[0m \u001b[0;34m=\u001b[0m \u001b[0mEmp\u001b[0m\u001b[0;34m(\u001b[0m\u001b[0;34m)\u001b[0m\u001b[0;34m\u001b[0m\u001b[0;34m\u001b[0m\u001b[0m\n\u001b[1;32m      9\u001b[0m \u001b[0mvedha\u001b[0m\u001b[0;34m.\u001b[0m\u001b[0mname\u001b[0m\u001b[0;34m=\u001b[0m\u001b[0;34m\"Vedhanvesh\"\u001b[0m\u001b[0;34m\u001b[0m\u001b[0;34m\u001b[0m\u001b[0m\n",
      "\u001b[0;32m<ipython-input-21-53ede08bc42c>\u001b[0m in \u001b[0;36mget\u001b[0;34m(x)\u001b[0m\n\u001b[1;32m      1\u001b[0m \u001b[0;32mclass\u001b[0m \u001b[0mEmp\u001b[0m\u001b[0;34m:\u001b[0m\u001b[0;34m\u001b[0m\u001b[0;34m\u001b[0m\u001b[0m\n\u001b[1;32m      2\u001b[0m     \u001b[0;32mdef\u001b[0m \u001b[0mget\u001b[0m\u001b[0;34m(\u001b[0m\u001b[0mx\u001b[0m\u001b[0;34m)\u001b[0m\u001b[0;34m:\u001b[0m\u001b[0;34m\u001b[0m\u001b[0;34m\u001b[0m\u001b[0m\n\u001b[0;32m----> 3\u001b[0;31m         \u001b[0mprint\u001b[0m\u001b[0;34m(\u001b[0m\u001b[0mx\u001b[0m\u001b[0;34m.\u001b[0m\u001b[0mname\u001b[0m\u001b[0;34m,\u001b[0m\u001b[0mx\u001b[0m\u001b[0;34m.\u001b[0m\u001b[0mid\u001b[0m\u001b[0;34m,\u001b[0m\u001b[0mx\u001b[0m\u001b[0;34m.\u001b[0m\u001b[0msal\u001b[0m\u001b[0;34m)\u001b[0m\u001b[0;34m\u001b[0m\u001b[0;34m\u001b[0m\u001b[0m\n\u001b[0m\u001b[1;32m      4\u001b[0m \u001b[0mjay\u001b[0m\u001b[0;34m=\u001b[0m\u001b[0mEmp\u001b[0m\u001b[0;34m(\u001b[0m\u001b[0;34m)\u001b[0m\u001b[0;34m\u001b[0m\u001b[0;34m\u001b[0m\u001b[0m\n\u001b[1;32m      5\u001b[0m \u001b[0mjay\u001b[0m\u001b[0;34m.\u001b[0m\u001b[0mname\u001b[0m\u001b[0;34m=\u001b[0m\u001b[0;34m\"jayaram\"\u001b[0m\u001b[0;34m\u001b[0m\u001b[0;34m\u001b[0m\u001b[0m\n",
      "\u001b[0;31mAttributeError\u001b[0m: 'Emp' object has no attribute 'sal'"
     ]
    }
   ],
   "source": [
    "class Emp:\n",
    "    \n",
    "    def get(x):\n",
    "        print(x.name,x.id,x.sal)\n",
    "jay=Emp()\n",
    "jay.name=\"jayaram\"\n",
    "jay.id=20\n",
    "Emp.get(jay)\n",
    "vedha = Emp()\n",
    "vedha.name=\"Vedhanvesh\"\n",
    "vedha.id=23\n",
    "vedha.sal=23456\n",
    "Emp.get(vedha)"
   ]
  },
  {
   "cell_type": "code",
   "execution_count": 22,
   "metadata": {},
   "outputs": [
    {
     "name": "stdout",
     "output_type": "stream",
     "text": [
      "jayaram 20 0\n",
      "vedjanvesh 23 23456\n"
     ]
    }
   ],
   "source": [
    "class Emp:\n",
    "    def set_data(x,name,e_id,sal=0):\n",
    "        x.name=name\n",
    "        x.id=e_id\n",
    "        x.sal=sal\n",
    "    \n",
    "    def get(x):\n",
    "        print(x.name,x.id,x.sal)\n",
    "jay=Emp()\n",
    "Emp.set_data(jay,\"jayaram\",20)\n",
    "#jay.name=\"jayaram\"\n",
    "#jay.id=20\n",
    "Emp.get(jay)\n",
    "vedha = Emp()\n",
    "#vedha.name=\"Vedhanvesh\"\n",
    "#vedha.id=23\n",
    "#vedha.sal=23456\n",
    "Emp.set_data(vedha,\"vedjanvesh\",23,23456)\n",
    "Emp.get(vedha)"
   ]
  },
  {
   "cell_type": "code",
   "execution_count": 23,
   "metadata": {},
   "outputs": [
    {
     "name": "stdout",
     "output_type": "stream",
     "text": [
      "jayaram 20 0\n",
      "vedjanvesh 23 23456\n"
     ]
    }
   ],
   "source": [
    "class Emp:\n",
    "    def set_data(x,name,e_id,sal=0):\n",
    "        x.name=name\n",
    "        x.id=e_id\n",
    "        x.sal=sal\n",
    "    def get(x):\n",
    "        print(x.name,x.id,x.sal)\n",
    "jay=Emp()\n",
    "Emp.set_data(jay,\"jayaram\",20)\n",
    "Emp.get(jay)\n",
    "vedha = Emp()\n",
    "Emp.set_data(vedha,\"vedjanvesh\",23,23456)\n",
    "Emp.get(vedha)"
   ]
  },
  {
   "cell_type": "code",
   "execution_count": 24,
   "metadata": {},
   "outputs": [
    {
     "name": "stdout",
     "output_type": "stream",
     "text": [
      "jayaram 20 0\n",
      "vedjanvesh 23 23456\n"
     ]
    }
   ],
   "source": [
    "class Emp:\n",
    "    def set_data(x,name,e_id,sal=0):\n",
    "        x.name=name\n",
    "        x.id=e_id\n",
    "        x.sal=sal\n",
    "    def get(x):\n",
    "        print(x.name,x.id,x.sal)\n",
    "jay=Emp()\n",
    "jay.set_data(\"jayaram\",20)\n",
    "#Emp.set_data(jay,\"jayaram\",20)\n",
    "Emp.get(jay)\n",
    "vedha = Emp()\n",
    "vedha.set_data(\"vedjanvesh\",23,23456)\n",
    "#Emp.set_data(vedha,\"vedjanvesh\",23,23456)\n",
    "#Emp.get(vedha)\n",
    "vedha.get()"
   ]
  },
  {
   "cell_type": "code",
   "execution_count": 25,
   "metadata": {},
   "outputs": [
    {
     "name": "stdout",
     "output_type": "stream",
     "text": [
      "jayaram 20 0\n",
      "vedjanvesh 23 23456\n"
     ]
    }
   ],
   "source": [
    "class Emp:\n",
    "    def set_data(x,name,e_id,sal=0):\n",
    "        x.name=name\n",
    "        x.id=e_id\n",
    "        x.sal=sal\n",
    "    def get(x):\n",
    "        print(x.name,x.id,x.sal)\n",
    "jay=Emp()\n",
    "jay.set_data(\"jayaram\",20)\n",
    "jay.get()\n",
    "vedha = Emp()\n",
    "vedha.set_data(\"vedjanvesh\",23,23456)\n",
    "vedha.get()"
   ]
  },
  {
   "cell_type": "code",
   "execution_count": 26,
   "metadata": {},
   "outputs": [
    {
     "name": "stdout",
     "output_type": "stream",
     "text": [
      "jayaram 20 0\n",
      "vedjanvesh 23 23456\n"
     ]
    },
    {
     "ename": "AttributeError",
     "evalue": "'Emp' object has no attribute 'name'",
     "output_type": "error",
     "traceback": [
      "\u001b[0;31m---------------------------------------------------------------------------\u001b[0m",
      "\u001b[0;31mAttributeError\u001b[0m                            Traceback (most recent call last)",
      "\u001b[0;32m<ipython-input-26-bddbb6ce08fb>\u001b[0m in \u001b[0;36m<module>\u001b[0;34m\u001b[0m\n\u001b[1;32m     13\u001b[0m \u001b[0mvedha\u001b[0m\u001b[0;34m.\u001b[0m\u001b[0mget\u001b[0m\u001b[0;34m(\u001b[0m\u001b[0;34m)\u001b[0m\u001b[0;34m\u001b[0m\u001b[0;34m\u001b[0m\u001b[0m\n\u001b[1;32m     14\u001b[0m \u001b[0msai\u001b[0m\u001b[0;34m=\u001b[0m\u001b[0mEmp\u001b[0m\u001b[0;34m(\u001b[0m\u001b[0;34m)\u001b[0m\u001b[0;34m\u001b[0m\u001b[0;34m\u001b[0m\u001b[0m\n\u001b[0;32m---> 15\u001b[0;31m \u001b[0msai\u001b[0m\u001b[0;34m.\u001b[0m\u001b[0mget\u001b[0m\u001b[0;34m(\u001b[0m\u001b[0;34m)\u001b[0m\u001b[0;34m\u001b[0m\u001b[0;34m\u001b[0m\u001b[0m\n\u001b[0m",
      "\u001b[0;32m<ipython-input-26-bddbb6ce08fb>\u001b[0m in \u001b[0;36mget\u001b[0;34m(x)\u001b[0m\n\u001b[1;32m      5\u001b[0m         \u001b[0mx\u001b[0m\u001b[0;34m.\u001b[0m\u001b[0msal\u001b[0m\u001b[0;34m=\u001b[0m\u001b[0msal\u001b[0m\u001b[0;34m\u001b[0m\u001b[0;34m\u001b[0m\u001b[0m\n\u001b[1;32m      6\u001b[0m     \u001b[0;32mdef\u001b[0m \u001b[0mget\u001b[0m\u001b[0;34m(\u001b[0m\u001b[0mx\u001b[0m\u001b[0;34m)\u001b[0m\u001b[0;34m:\u001b[0m\u001b[0;34m\u001b[0m\u001b[0;34m\u001b[0m\u001b[0m\n\u001b[0;32m----> 7\u001b[0;31m         \u001b[0mprint\u001b[0m\u001b[0;34m(\u001b[0m\u001b[0mx\u001b[0m\u001b[0;34m.\u001b[0m\u001b[0mname\u001b[0m\u001b[0;34m,\u001b[0m\u001b[0mx\u001b[0m\u001b[0;34m.\u001b[0m\u001b[0mid\u001b[0m\u001b[0;34m,\u001b[0m\u001b[0mx\u001b[0m\u001b[0;34m.\u001b[0m\u001b[0msal\u001b[0m\u001b[0;34m)\u001b[0m\u001b[0;34m\u001b[0m\u001b[0;34m\u001b[0m\u001b[0m\n\u001b[0m\u001b[1;32m      8\u001b[0m \u001b[0mjay\u001b[0m\u001b[0;34m=\u001b[0m\u001b[0mEmp\u001b[0m\u001b[0;34m(\u001b[0m\u001b[0;34m)\u001b[0m\u001b[0;34m\u001b[0m\u001b[0;34m\u001b[0m\u001b[0m\n\u001b[1;32m      9\u001b[0m \u001b[0mjay\u001b[0m\u001b[0;34m.\u001b[0m\u001b[0mset_data\u001b[0m\u001b[0;34m(\u001b[0m\u001b[0;34m\"jayaram\"\u001b[0m\u001b[0;34m,\u001b[0m\u001b[0;36m20\u001b[0m\u001b[0;34m)\u001b[0m\u001b[0;34m\u001b[0m\u001b[0;34m\u001b[0m\u001b[0m\n",
      "\u001b[0;31mAttributeError\u001b[0m: 'Emp' object has no attribute 'name'"
     ]
    }
   ],
   "source": [
    "class Emp:\n",
    "    def set_data(x,name,e_id,sal=0):\n",
    "        x.name=name\n",
    "        x.id=e_id\n",
    "        x.sal=sal\n",
    "    def get(x):\n",
    "        print(x.name,x.id,x.sal)\n",
    "jay=Emp()\n",
    "jay.set_data(\"jayaram\",20)\n",
    "jay.get()\n",
    "vedha = Emp()\n",
    "vedha.set_data(\"vedjanvesh\",23,23456)\n",
    "vedha.get()\n",
    "sai=Emp()\n",
    "sai.get()"
   ]
  },
  {
   "cell_type": "code",
   "execution_count": null,
   "metadata": {},
   "outputs": [],
   "source": [
    "class Emp:\n",
    "    def set_data(x,name,e_id,sal=0):\n",
    "        x.name=name\n",
    "        x.id=e_id\n",
    "        x.sal=sal\n",
    "    def get(x):\n",
    "        print(x.name,x.id,x.sal)\n",
    "jay=Emp()\n",
    "jay.set_data(\"jayaram\",20)\n",
    "jay.get()\n",
    "vedha = Emp()\n",
    "vedha.set_data(\"vedjanvesh\",23,23456)\n",
    "vedha.get()\n",
    "sai=Emp()\n",
    "sai.get()"
   ]
  },
  {
   "cell_type": "code",
   "execution_count": 27,
   "metadata": {},
   "outputs": [
    {
     "name": "stdout",
     "output_type": "stream",
     "text": [
      "this is class\n"
     ]
    }
   ],
   "source": [
    "class Emp:\n",
    "    print(\"this is class\")"
   ]
  },
  {
   "cell_type": "code",
   "execution_count": 28,
   "metadata": {},
   "outputs": [
    {
     "name": "stdout",
     "output_type": "stream",
     "text": [
      "this is class\n"
     ]
    }
   ],
   "source": [
    "class Emp:\n",
    "    print(\"this is class\")\n",
    "    def get(x):\n",
    "        print(\"this is get\")\n"
   ]
  },
  {
   "cell_type": "code",
   "execution_count": 29,
   "metadata": {},
   "outputs": [
    {
     "name": "stdout",
     "output_type": "stream",
     "text": [
      "this is class\n"
     ]
    }
   ],
   "source": [
    "class Emp:\n",
    "    print(\"this is class\")\n",
    "    def get(x):\n",
    "        print(\"this is get\")\n",
    "jay=Emp()"
   ]
  },
  {
   "cell_type": "code",
   "execution_count": 30,
   "metadata": {},
   "outputs": [
    {
     "name": "stdout",
     "output_type": "stream",
     "text": [
      "this is class\n",
      "this is get\n"
     ]
    }
   ],
   "source": [
    "class Emp:\n",
    "    print(\"this is class\")\n",
    "    def get(x):\n",
    "        print(\"this is get\")\n",
    "jay=Emp()\n",
    "jay.get()"
   ]
  },
  {
   "cell_type": "code",
   "execution_count": 31,
   "metadata": {},
   "outputs": [
    {
     "name": "stdout",
     "output_type": "stream",
     "text": [
      "this is class\n",
      "this is init\n",
      "this is get\n"
     ]
    }
   ],
   "source": [
    "class Emp:\n",
    "    print(\"this is class\")\n",
    "    def __init__(x):\n",
    "        print(\"this is init\")\n",
    "    def get(x):\n",
    "        print(\"this is get\")\n",
    "jay=Emp()\n",
    "jay.get()"
   ]
  },
  {
   "cell_type": "code",
   "execution_count": 32,
   "metadata": {},
   "outputs": [
    {
     "name": "stdout",
     "output_type": "stream",
     "text": [
      "this is class\n",
      "this is init\n"
     ]
    }
   ],
   "source": [
    "class Emp:\n",
    "    print(\"this is class\")\n",
    "    def __init__(x):\n",
    "        print(\"this is init\")\n",
    "    def get(x):\n",
    "        print(\"this is get\")\n",
    "jay=Emp()\n"
   ]
  },
  {
   "cell_type": "code",
   "execution_count": 33,
   "metadata": {},
   "outputs": [
    {
     "name": "stdout",
     "output_type": "stream",
     "text": [
      "this is class\n"
     ]
    }
   ],
   "source": [
    "class Emp:\n",
    "    print(\"this is class\")\n",
    "    def __init__(x):\n",
    "        print(\"this is init\")\n",
    "    def get(x):\n",
    "        print(\"this is get\")\n",
    "\n"
   ]
  },
  {
   "cell_type": "code",
   "execution_count": 35,
   "metadata": {},
   "outputs": [
    {
     "name": "stdout",
     "output_type": "stream",
     "text": [
      "this is class\n",
      "this is init\n",
      "this is init\n"
     ]
    }
   ],
   "source": [
    "class Emp:\n",
    "    print(\"this is class\")\n",
    "    def __init__(x):\n",
    "        print(\"this is init\")\n",
    "    def get(x):\n",
    "        print(\"this is get\")\n",
    "jay=Emp()\n",
    "vedha=Emp()"
   ]
  },
  {
   "cell_type": "code",
   "execution_count": 36,
   "metadata": {},
   "outputs": [
    {
     "name": "stdout",
     "output_type": "stream",
     "text": [
      "this is class\n",
      "('jayaram', 20, 0)\n",
      "('vedhanvesh', 23, 23456)\n"
     ]
    }
   ],
   "source": [
    "class Emp:\n",
    "    print(\"this is class\")\n",
    "    def __init__(x,name,e_id,sal=0):\n",
    "        x.name=name\n",
    "        x.id=e_id\n",
    "        x.sal=sal\n",
    "    def get(x):\n",
    "        return x.name,x.id,x.sal\n",
    "jay=Emp(\"jayaram\",20)\n",
    "vedha=Emp(\"vedhanvesh\",23,23456)\n",
    "print(jay.get())\n",
    "print(vedha.get())"
   ]
  },
  {
   "cell_type": "code",
   "execution_count": 37,
   "metadata": {},
   "outputs": [
    {
     "name": "stdout",
     "output_type": "stream",
     "text": [
      "this is class\n",
      "('jayaram', 20, 0)\n",
      "('vedhanvesh', 23, 23456)\n"
     ]
    },
    {
     "ename": "TypeError",
     "evalue": "__init__() missing 2 required positional arguments: 'name' and 'e_id'",
     "output_type": "error",
     "traceback": [
      "\u001b[0;31m---------------------------------------------------------------------------\u001b[0m",
      "\u001b[0;31mTypeError\u001b[0m                                 Traceback (most recent call last)",
      "\u001b[0;32m<ipython-input-37-cb76f0a7d4fe>\u001b[0m in \u001b[0;36m<module>\u001b[0;34m\u001b[0m\n\u001b[1;32m     11\u001b[0m \u001b[0mprint\u001b[0m\u001b[0;34m(\u001b[0m\u001b[0mjay\u001b[0m\u001b[0;34m.\u001b[0m\u001b[0mget\u001b[0m\u001b[0;34m(\u001b[0m\u001b[0;34m)\u001b[0m\u001b[0;34m)\u001b[0m\u001b[0;34m\u001b[0m\u001b[0;34m\u001b[0m\u001b[0m\n\u001b[1;32m     12\u001b[0m \u001b[0mprint\u001b[0m\u001b[0;34m(\u001b[0m\u001b[0mvedha\u001b[0m\u001b[0;34m.\u001b[0m\u001b[0mget\u001b[0m\u001b[0;34m(\u001b[0m\u001b[0;34m)\u001b[0m\u001b[0;34m)\u001b[0m\u001b[0;34m\u001b[0m\u001b[0;34m\u001b[0m\u001b[0m\n\u001b[0;32m---> 13\u001b[0;31m \u001b[0msai\u001b[0m\u001b[0;34m=\u001b[0m\u001b[0mEmp\u001b[0m\u001b[0;34m(\u001b[0m\u001b[0;34m)\u001b[0m\u001b[0;34m\u001b[0m\u001b[0;34m\u001b[0m\u001b[0m\n\u001b[0m\u001b[1;32m     14\u001b[0m \u001b[0mprint\u001b[0m\u001b[0;34m(\u001b[0m\u001b[0msai\u001b[0m\u001b[0;34m.\u001b[0m\u001b[0mget\u001b[0m\u001b[0;34m(\u001b[0m\u001b[0;34m)\u001b[0m\u001b[0;34m)\u001b[0m\u001b[0;34m\u001b[0m\u001b[0;34m\u001b[0m\u001b[0m\n",
      "\u001b[0;31mTypeError\u001b[0m: __init__() missing 2 required positional arguments: 'name' and 'e_id'"
     ]
    }
   ],
   "source": [
    "class Emp:\n",
    "    print(\"this is class\")\n",
    "    def __init__(x,name,e_id,sal=0):\n",
    "        x.name=name\n",
    "        x.id=e_id\n",
    "        x.sal=sal\n",
    "    def get(x):\n",
    "        return x.name,x.id,x.sal\n",
    "jay=Emp(\"jayaram\",20)\n",
    "vedha=Emp(\"vedhanvesh\",23,23456)\n",
    "print(jay.get())\n",
    "print(vedha.get())\n",
    "sai=Emp()\n",
    "print(sai.get())"
   ]
  },
  {
   "cell_type": "code",
   "execution_count": 38,
   "metadata": {},
   "outputs": [
    {
     "name": "stdout",
     "output_type": "stream",
     "text": [
      "this is class\n",
      "('jayaram', 20, 0)\n",
      "('vedhanvesh', 23, 23456)\n",
      "('', 0, 0)\n"
     ]
    }
   ],
   "source": [
    "class Emp:\n",
    "    print(\"this is class\")\n",
    "    def __init__(x,name=\"\",e_id=0,sal=0):\n",
    "        x.name=name\n",
    "        x.id=e_id\n",
    "        x.sal=sal\n",
    "    def get(x):\n",
    "        return x.name,x.id,x.sal\n",
    "jay=Emp(\"jayaram\",20)\n",
    "vedha=Emp(\"vedhanvesh\",23,23456)\n",
    "print(jay.get())\n",
    "print(vedha.get())\n",
    "sai=Emp()\n",
    "print(sai.get())"
   ]
  },
  {
   "cell_type": "code",
   "execution_count": 39,
   "metadata": {},
   "outputs": [
    {
     "name": "stdout",
     "output_type": "stream",
     "text": [
      "this is class\n",
      "('jayaram', 20, 0)\n",
      "('vedhanvesh', 23, 23456)\n",
      "('', 0, 0)\n"
     ]
    }
   ],
   "source": [
    "class Emp:\n",
    "    print(\"this is class\")\n",
    "    def __init__(self,name=\"\",e_id=0,sal=0):\n",
    "        self.name=name\n",
    "        self.id=e_id\n",
    "        self.sal=sal\n",
    "    def get(self):\n",
    "        return self.name,self.id,self.sal\n",
    "jay=Emp(\"jayaram\",20)\n",
    "vedha=Emp(\"vedhanvesh\",23,23456)\n",
    "print(jay.get())\n",
    "print(vedha.get())\n",
    "sai=Emp()\n",
    "print(sai.get())"
   ]
  },
  {
   "cell_type": "code",
   "execution_count": null,
   "metadata": {},
   "outputs": [],
   "source": [
    "class Emp:\n",
    "    print(\"this is class\")\n",
    "    def __init__(self,name=\"\",e_id=0,sal=0):\n",
    "        self.name=name\n",
    "        self.id=e_id\n",
    "        self.sal=sal\n",
    "    def get(self):\n",
    "        return self.name,self.id,self.sal\n",
    "jay=Emp(\"jayaram\",20)\n",
    "vedha=Emp(\"vedhanvesh\",23,23456)\n",
    "print(jay.get())\n",
    "print(vedha.get())\n",
    "sai=Emp()\n",
    "print(sai.get())"
   ]
  },
  {
   "cell_type": "code",
   "execution_count": 40,
   "metadata": {},
   "outputs": [
    {
     "name": "stdout",
     "output_type": "stream",
     "text": [
      "this is class\n"
     ]
    },
    {
     "ename": "TypeError",
     "evalue": "get() takes 0 positional arguments but 1 was given",
     "output_type": "error",
     "traceback": [
      "\u001b[0;31m---------------------------------------------------------------------------\u001b[0m",
      "\u001b[0;31mTypeError\u001b[0m                                 Traceback (most recent call last)",
      "\u001b[0;32m<ipython-input-40-b07f9810ff54>\u001b[0m in \u001b[0;36m<module>\u001b[0;34m\u001b[0m\n\u001b[1;32m      8\u001b[0m         \u001b[0;32mreturn\u001b[0m \u001b[0mself\u001b[0m\u001b[0;34m.\u001b[0m\u001b[0mname\u001b[0m\u001b[0;34m,\u001b[0m\u001b[0mself\u001b[0m\u001b[0;34m.\u001b[0m\u001b[0mid\u001b[0m\u001b[0;34m,\u001b[0m\u001b[0mself\u001b[0m\u001b[0;34m.\u001b[0m\u001b[0msal\u001b[0m\u001b[0;34m\u001b[0m\u001b[0;34m\u001b[0m\u001b[0m\n\u001b[1;32m      9\u001b[0m \u001b[0mjay\u001b[0m\u001b[0;34m=\u001b[0m\u001b[0mEmp\u001b[0m\u001b[0;34m(\u001b[0m\u001b[0;34m\"jayaram\"\u001b[0m\u001b[0;34m,\u001b[0m\u001b[0;36m20\u001b[0m\u001b[0;34m)\u001b[0m\u001b[0;34m\u001b[0m\u001b[0;34m\u001b[0m\u001b[0m\n\u001b[0;32m---> 10\u001b[0;31m \u001b[0mjay\u001b[0m\u001b[0;34m.\u001b[0m\u001b[0mget\u001b[0m\u001b[0;34m(\u001b[0m\u001b[0;34m)\u001b[0m\u001b[0;34m\u001b[0m\u001b[0;34m\u001b[0m\u001b[0m\n\u001b[0m",
      "\u001b[0;31mTypeError\u001b[0m: get() takes 0 positional arguments but 1 was given"
     ]
    }
   ],
   "source": [
    "class Emp:\n",
    "    print(\"this is class\")\n",
    "    def __init__(self,name=\"\",e_id=0,sal=0):\n",
    "        self.name=name\n",
    "        self.id=e_id\n",
    "        self.sal=sal\n",
    "    def get():\n",
    "        return self.name,self.id,self.sal\n",
    "jay=Emp(\"jayaram\",20)\n",
    "jay.get()#Emp.get(jay)"
   ]
  },
  {
   "cell_type": "code",
   "execution_count": 41,
   "metadata": {},
   "outputs": [
    {
     "name": "stdout",
     "output_type": "stream",
     "text": [
      "this is class\n"
     ]
    },
    {
     "ename": "NameError",
     "evalue": "name 'self' is not defined",
     "output_type": "error",
     "traceback": [
      "\u001b[0;31m---------------------------------------------------------------------------\u001b[0m",
      "\u001b[0;31mNameError\u001b[0m                                 Traceback (most recent call last)",
      "\u001b[0;32m<ipython-input-41-4d02d993fd84>\u001b[0m in \u001b[0;36m<module>\u001b[0;34m\u001b[0m\n\u001b[1;32m      8\u001b[0m         \u001b[0;32mreturn\u001b[0m \u001b[0mself\u001b[0m\u001b[0;34m.\u001b[0m\u001b[0mname\u001b[0m\u001b[0;34m,\u001b[0m\u001b[0mself\u001b[0m\u001b[0;34m.\u001b[0m\u001b[0mid\u001b[0m\u001b[0;34m,\u001b[0m\u001b[0mself\u001b[0m\u001b[0;34m.\u001b[0m\u001b[0msal\u001b[0m\u001b[0;34m\u001b[0m\u001b[0;34m\u001b[0m\u001b[0m\n\u001b[1;32m      9\u001b[0m \u001b[0mjay\u001b[0m\u001b[0;34m=\u001b[0m\u001b[0mEmp\u001b[0m\u001b[0;34m(\u001b[0m\u001b[0;34m\"jayaram\"\u001b[0m\u001b[0;34m,\u001b[0m\u001b[0;36m20\u001b[0m\u001b[0;34m)\u001b[0m\u001b[0;34m\u001b[0m\u001b[0;34m\u001b[0m\u001b[0m\n\u001b[0;32m---> 10\u001b[0;31m \u001b[0mjay\u001b[0m\u001b[0;34m.\u001b[0m\u001b[0mget\u001b[0m\u001b[0;34m(\u001b[0m\u001b[0;34m)\u001b[0m\u001b[0;31m#Emp.get(jay)\u001b[0m\u001b[0;34m\u001b[0m\u001b[0;34m\u001b[0m\u001b[0m\n\u001b[0m",
      "\u001b[0;32m<ipython-input-41-4d02d993fd84>\u001b[0m in \u001b[0;36mget\u001b[0;34m(x)\u001b[0m\n\u001b[1;32m      6\u001b[0m         \u001b[0mself\u001b[0m\u001b[0;34m.\u001b[0m\u001b[0msal\u001b[0m\u001b[0;34m=\u001b[0m\u001b[0msal\u001b[0m\u001b[0;34m\u001b[0m\u001b[0;34m\u001b[0m\u001b[0m\n\u001b[1;32m      7\u001b[0m     \u001b[0;32mdef\u001b[0m \u001b[0mget\u001b[0m\u001b[0;34m(\u001b[0m\u001b[0mx\u001b[0m\u001b[0;34m)\u001b[0m\u001b[0;34m:\u001b[0m\u001b[0;34m\u001b[0m\u001b[0;34m\u001b[0m\u001b[0m\n\u001b[0;32m----> 8\u001b[0;31m         \u001b[0;32mreturn\u001b[0m \u001b[0mself\u001b[0m\u001b[0;34m.\u001b[0m\u001b[0mname\u001b[0m\u001b[0;34m,\u001b[0m\u001b[0mself\u001b[0m\u001b[0;34m.\u001b[0m\u001b[0mid\u001b[0m\u001b[0;34m,\u001b[0m\u001b[0mself\u001b[0m\u001b[0;34m.\u001b[0m\u001b[0msal\u001b[0m\u001b[0;34m\u001b[0m\u001b[0;34m\u001b[0m\u001b[0m\n\u001b[0m\u001b[1;32m      9\u001b[0m \u001b[0mjay\u001b[0m\u001b[0;34m=\u001b[0m\u001b[0mEmp\u001b[0m\u001b[0;34m(\u001b[0m\u001b[0;34m\"jayaram\"\u001b[0m\u001b[0;34m,\u001b[0m\u001b[0;36m20\u001b[0m\u001b[0;34m)\u001b[0m\u001b[0;34m\u001b[0m\u001b[0;34m\u001b[0m\u001b[0m\n\u001b[1;32m     10\u001b[0m \u001b[0mjay\u001b[0m\u001b[0;34m.\u001b[0m\u001b[0mget\u001b[0m\u001b[0;34m(\u001b[0m\u001b[0;34m)\u001b[0m\u001b[0;31m#Emp.get(jay)\u001b[0m\u001b[0;34m\u001b[0m\u001b[0;34m\u001b[0m\u001b[0m\n",
      "\u001b[0;31mNameError\u001b[0m: name 'self' is not defined"
     ]
    }
   ],
   "source": [
    "class Emp:\n",
    "    print(\"this is class\")\n",
    "    def __init__(self,name=\"\",e_id=0,sal=0):\n",
    "        self.name=name\n",
    "        self.id=e_id\n",
    "        self.sal=sal\n",
    "    def get(x):\n",
    "        return self.name,self.id,self.sal\n",
    "jay=Emp(\"jayaram\",20)\n",
    "jay.get()#Emp.get(jay)"
   ]
  },
  {
   "cell_type": "code",
   "execution_count": 42,
   "metadata": {},
   "outputs": [
    {
     "name": "stdout",
     "output_type": "stream",
     "text": [
      "this is class\n"
     ]
    },
    {
     "data": {
      "text/plain": [
       "('jayaram', 20, 0)"
      ]
     },
     "execution_count": 42,
     "metadata": {},
     "output_type": "execute_result"
    }
   ],
   "source": [
    "class Emp:\n",
    "    print(\"this is class\")\n",
    "    def __init__(self,name=\"\",e_id=0,sal=0):\n",
    "        self.name=name\n",
    "        self.id=e_id\n",
    "        self.sal=sal\n",
    "    def get(x):\n",
    "        return x.name,x.id,x.sal\n",
    "jay=Emp(\"jayaram\",20)\n",
    "jay.get()#Emp.get(jay)"
   ]
  },
  {
   "cell_type": "code",
   "execution_count": 43,
   "metadata": {},
   "outputs": [
    {
     "name": "stdout",
     "output_type": "stream",
     "text": [
      "this is class\n"
     ]
    },
    {
     "data": {
      "text/plain": [
       "('jayaram', 20, 0)"
      ]
     },
     "execution_count": 43,
     "metadata": {},
     "output_type": "execute_result"
    }
   ],
   "source": [
    "class Emp:\n",
    "    print(\"this is class\")\n",
    "    def __init__(self,name=\"\",e_id=0,sal=0):\n",
    "        self.name=name\n",
    "        self.id=e_id\n",
    "        self.sal=sal\n",
    "    def get(self):\n",
    "        return self.name,self.id,self.sal\n",
    "jay=Emp(\"jayaram\",20)\n",
    "jay.get()#Emp.get(jay)"
   ]
  },
  {
   "cell_type": "code",
   "execution_count": 44,
   "metadata": {},
   "outputs": [
    {
     "name": "stdout",
     "output_type": "stream",
     "text": [
      "this is class\n"
     ]
    },
    {
     "ename": "TypeError",
     "evalue": "get() takes 0 positional arguments but 1 was given",
     "output_type": "error",
     "traceback": [
      "\u001b[0;31m---------------------------------------------------------------------------\u001b[0m",
      "\u001b[0;31mTypeError\u001b[0m                                 Traceback (most recent call last)",
      "\u001b[0;32m<ipython-input-44-1945b291a522>\u001b[0m in \u001b[0;36m<module>\u001b[0;34m\u001b[0m\n\u001b[1;32m      8\u001b[0m         \u001b[0;32mreturn\u001b[0m \u001b[0mname\u001b[0m\u001b[0;34m,\u001b[0m\u001b[0mid\u001b[0m\u001b[0;34m,\u001b[0m\u001b[0msal\u001b[0m\u001b[0;34m\u001b[0m\u001b[0;34m\u001b[0m\u001b[0m\n\u001b[1;32m      9\u001b[0m \u001b[0mjay\u001b[0m\u001b[0;34m=\u001b[0m\u001b[0mEmp\u001b[0m\u001b[0;34m(\u001b[0m\u001b[0;34m\"jayaram\"\u001b[0m\u001b[0;34m,\u001b[0m\u001b[0;36m20\u001b[0m\u001b[0;34m)\u001b[0m\u001b[0;34m\u001b[0m\u001b[0;34m\u001b[0m\u001b[0m\n\u001b[0;32m---> 10\u001b[0;31m \u001b[0mjay\u001b[0m\u001b[0;34m.\u001b[0m\u001b[0mget\u001b[0m\u001b[0;34m(\u001b[0m\u001b[0;34m)\u001b[0m\u001b[0;31m#Emp.get(jay)\u001b[0m\u001b[0;34m\u001b[0m\u001b[0;34m\u001b[0m\u001b[0m\n\u001b[0m",
      "\u001b[0;31mTypeError\u001b[0m: get() takes 0 positional arguments but 1 was given"
     ]
    }
   ],
   "source": [
    "class Emp:\n",
    "    print(\"this is class\")\n",
    "    def __init__(self,name=\"\",e_id=0,sal=0):\n",
    "        self.name=name\n",
    "        self.id=e_id\n",
    "        self.sal=sal\n",
    "    def get():\n",
    "        return name,id,sal\n",
    "jay=Emp(\"jayaram\",20)\n",
    "jay.get()#Emp.get(jay)"
   ]
  },
  {
   "cell_type": "code",
   "execution_count": 45,
   "metadata": {},
   "outputs": [
    {
     "name": "stdout",
     "output_type": "stream",
     "text": [
      "this is class\n"
     ]
    },
    {
     "ename": "NameError",
     "evalue": "name 'name' is not defined",
     "output_type": "error",
     "traceback": [
      "\u001b[0;31m---------------------------------------------------------------------------\u001b[0m",
      "\u001b[0;31mNameError\u001b[0m                                 Traceback (most recent call last)",
      "\u001b[0;32m<ipython-input-45-823d28844611>\u001b[0m in \u001b[0;36m<module>\u001b[0;34m\u001b[0m\n\u001b[1;32m      9\u001b[0m \u001b[0mjay\u001b[0m\u001b[0;34m=\u001b[0m\u001b[0mEmp\u001b[0m\u001b[0;34m(\u001b[0m\u001b[0;34m\"jayaram\"\u001b[0m\u001b[0;34m,\u001b[0m\u001b[0;36m20\u001b[0m\u001b[0;34m)\u001b[0m\u001b[0;34m\u001b[0m\u001b[0;34m\u001b[0m\u001b[0m\n\u001b[1;32m     10\u001b[0m \u001b[0;31m#jay.get()#Emp.get(jay)\u001b[0m\u001b[0;34m\u001b[0m\u001b[0;34m\u001b[0m\u001b[0;34m\u001b[0m\u001b[0m\n\u001b[0;32m---> 11\u001b[0;31m \u001b[0mEmp\u001b[0m\u001b[0;34m.\u001b[0m\u001b[0mget\u001b[0m\u001b[0;34m(\u001b[0m\u001b[0;34m)\u001b[0m\u001b[0;34m\u001b[0m\u001b[0;34m\u001b[0m\u001b[0m\n\u001b[0m",
      "\u001b[0;32m<ipython-input-45-823d28844611>\u001b[0m in \u001b[0;36mget\u001b[0;34m()\u001b[0m\n\u001b[1;32m      6\u001b[0m         \u001b[0mself\u001b[0m\u001b[0;34m.\u001b[0m\u001b[0msal\u001b[0m\u001b[0;34m=\u001b[0m\u001b[0msal\u001b[0m\u001b[0;34m\u001b[0m\u001b[0;34m\u001b[0m\u001b[0m\n\u001b[1;32m      7\u001b[0m     \u001b[0;32mdef\u001b[0m \u001b[0mget\u001b[0m\u001b[0;34m(\u001b[0m\u001b[0;34m)\u001b[0m\u001b[0;34m:\u001b[0m\u001b[0;34m\u001b[0m\u001b[0;34m\u001b[0m\u001b[0m\n\u001b[0;32m----> 8\u001b[0;31m         \u001b[0;32mreturn\u001b[0m \u001b[0mname\u001b[0m\u001b[0;34m,\u001b[0m\u001b[0mid\u001b[0m\u001b[0;34m,\u001b[0m\u001b[0msal\u001b[0m\u001b[0;34m\u001b[0m\u001b[0;34m\u001b[0m\u001b[0m\n\u001b[0m\u001b[1;32m      9\u001b[0m \u001b[0mjay\u001b[0m\u001b[0;34m=\u001b[0m\u001b[0mEmp\u001b[0m\u001b[0;34m(\u001b[0m\u001b[0;34m\"jayaram\"\u001b[0m\u001b[0;34m,\u001b[0m\u001b[0;36m20\u001b[0m\u001b[0;34m)\u001b[0m\u001b[0;34m\u001b[0m\u001b[0;34m\u001b[0m\u001b[0m\n\u001b[1;32m     10\u001b[0m \u001b[0;31m#jay.get()#Emp.get(jay)\u001b[0m\u001b[0;34m\u001b[0m\u001b[0;34m\u001b[0m\u001b[0;34m\u001b[0m\u001b[0m\n",
      "\u001b[0;31mNameError\u001b[0m: name 'name' is not defined"
     ]
    }
   ],
   "source": [
    "class Emp:\n",
    "    print(\"this is class\")\n",
    "    def __init__(self,name=\"\",e_id=0,sal=0):\n",
    "        self.name=name\n",
    "        self.id=e_id\n",
    "        self.sal=sal\n",
    "    def get():\n",
    "        return name,id,sal\n",
    "jay=Emp(\"jayaram\",20)\n",
    "#jay.get()#Emp.get(jay)\n",
    "Emp.get()"
   ]
  },
  {
   "cell_type": "code",
   "execution_count": 2,
   "metadata": {},
   "outputs": [
    {
     "name": "stdout",
     "output_type": "stream",
     "text": [
      "('Jayaram', 12, 'Khyaathi')\n"
     ]
    }
   ],
   "source": [
    "class Emp:\n",
    "    company_name=\"Khyaathi\"\n",
    "    def __init__(self,name,e_id):\n",
    "        self.name=name\n",
    "        self.id=e_id\n",
    "    def get(self):\n",
    "        return self.name,self.id,self.company_name\n",
    "jay=Emp(\"Jayaram\",12)\n",
    "print(jay.get())\n",
    "        "
   ]
  },
  {
   "cell_type": "code",
   "execution_count": 4,
   "metadata": {},
   "outputs": [
    {
     "name": "stdout",
     "output_type": "stream",
     "text": [
      "44000.0\n"
     ]
    }
   ],
   "source": [
    "class Emp:\n",
    "    company_name=\"Khyaathi\"\n",
    "    def __init__(self,name,e_id,sal,incp):\n",
    "        self.name=name\n",
    "        self.id=e_id\n",
    "        self.sal=sal\n",
    "        self.incp=incp\n",
    "    def sal_cal(self):\n",
    "        return self.sal+self.sal*self.incp/100\n",
    "    def get(self):\n",
    "        return self.name,self.id,self.company_name\n",
    "jay=Emp(\"Jayaram\",12,40000,10)\n",
    "print(jay.sal_cal())\n",
    "        "
   ]
  },
  {
   "cell_type": "code",
   "execution_count": 5,
   "metadata": {},
   "outputs": [
    {
     "name": "stdout",
     "output_type": "stream",
     "text": [
      "80000.0\n"
     ]
    }
   ],
   "source": [
    "class Emp:\n",
    "    company_name=\"Khyaathi\"\n",
    "    def __init__(self,name,e_id,sal,incp):\n",
    "        self.name=name\n",
    "        self.id=e_id\n",
    "        self.sal=sal\n",
    "        self.incp=incp\n",
    "    def sal_cal(self):\n",
    "        return self.sal+self.sal*self.incp/100\n",
    "    def get(self):\n",
    "        return self.name,self.id,self.company_name\n",
    "jay=Emp(\"Jayaram\",12,40000,10)\n",
    "jay.incp=100\n",
    "print(jay.sal_cal())\n",
    "        "
   ]
  },
  {
   "cell_type": "code",
   "execution_count": 7,
   "metadata": {},
   "outputs": [
    {
     "name": "stdout",
     "output_type": "stream",
     "text": [
      "44000.0\n"
     ]
    }
   ],
   "source": [
    "class Emp:\n",
    "    company_name=\"Khyaathi\"\n",
    "    def __init__(self,name,e_id,sal,incp):\n",
    "        self.name=name\n",
    "        self.id=e_id\n",
    "        self.sal=sal\n",
    "        self.__incp=incp # __incp secured attribute\n",
    "    def sal_cal(self):\n",
    "        return self.sal+self.sal*self.__incp/100\n",
    "    def get(self):\n",
    "        return self.name,self.id,self.company_name\n",
    "jay=Emp(\"Jayaram\",12,40000,10)\n",
    "jay.__incp=100\n",
    "print(jay.sal_cal())\n",
    "        "
   ]
  },
  {
   "cell_type": "code",
   "execution_count": 8,
   "metadata": {},
   "outputs": [
    {
     "name": "stdout",
     "output_type": "stream",
     "text": [
      "80000.0\n"
     ]
    }
   ],
   "source": [
    "class Emp:\n",
    "    company_name=\"Khyaathi\"\n",
    "    def __init__(self,name,e_id,sal,incp):\n",
    "        self.name=name\n",
    "        self.id=e_id\n",
    "        self.sal=sal\n",
    "        self.__incp=incp # __incp secured attribute\n",
    "    def change_incp(self,new_incp):\n",
    "        \n",
    "        self.__incp=new_incp\n",
    "    def sal_cal(self):\n",
    "        return self.sal+self.sal*self.__incp/100\n",
    "    def get(self):\n",
    "        return self.name,self.id,self.company_name\n",
    "jay=Emp(\"Jayaram\",12,40000,10)\n",
    "#jay.__incp=100\n",
    "jay.change_incp(100)\n",
    "print(jay.sal_cal())\n",
    "        "
   ]
  },
  {
   "cell_type": "code",
   "execution_count": 9,
   "metadata": {},
   "outputs": [
    {
     "name": "stdout",
     "output_type": "stream",
     "text": [
      "80000.0\n"
     ]
    }
   ],
   "source": [
    "class Emp:\n",
    "    company_name=\"Khyaathi\"\n",
    "    def __init__(self,name,e_id,sal,incp):\n",
    "        self.name=name\n",
    "        self.id=e_id\n",
    "        self.sal=sal\n",
    "        self.__incp=incp # __incp secured attribute\n",
    "    def change_incp(self,new_incp):\n",
    "        self.__update_incp(new_incp)\n",
    "        \n",
    "    def __update_incp(self,new_incp):\n",
    "        self.__incp=new_incp\n",
    "    def sal_cal(self):\n",
    "        return self.sal+self.sal*self.__incp/100\n",
    "    def get(self):\n",
    "        return self.name,self.id,self.company_name\n",
    "jay=Emp(\"Jayaram\",12,40000,10)\n",
    "#jay.__incp=100\n",
    "jay.change_incp(100)\n",
    "print(jay.sal_cal())\n",
    "        "
   ]
  },
  {
   "cell_type": "code",
   "execution_count": 10,
   "metadata": {},
   "outputs": [
    {
     "ename": "AttributeError",
     "evalue": "'Emp' object has no attribute '__update_incp'",
     "output_type": "error",
     "traceback": [
      "\u001b[0;31m---------------------------------------------------------------------------\u001b[0m",
      "\u001b[0;31mAttributeError\u001b[0m                            Traceback (most recent call last)",
      "\u001b[0;32m<ipython-input-10-528406e60707>\u001b[0m in \u001b[0;36m<module>\u001b[0;34m\u001b[0m\n\u001b[1;32m     17\u001b[0m \u001b[0mjay\u001b[0m\u001b[0;34m=\u001b[0m\u001b[0mEmp\u001b[0m\u001b[0;34m(\u001b[0m\u001b[0;34m\"Jayaram\"\u001b[0m\u001b[0;34m,\u001b[0m\u001b[0;36m12\u001b[0m\u001b[0;34m,\u001b[0m\u001b[0;36m40000\u001b[0m\u001b[0;34m,\u001b[0m\u001b[0;36m10\u001b[0m\u001b[0;34m)\u001b[0m\u001b[0;34m\u001b[0m\u001b[0;34m\u001b[0m\u001b[0m\n\u001b[1;32m     18\u001b[0m \u001b[0;31m#jay.__incp=100\u001b[0m\u001b[0;34m\u001b[0m\u001b[0;34m\u001b[0m\u001b[0;34m\u001b[0m\u001b[0m\n\u001b[0;32m---> 19\u001b[0;31m \u001b[0mjay\u001b[0m\u001b[0;34m.\u001b[0m\u001b[0m__update_incp\u001b[0m\u001b[0;34m(\u001b[0m\u001b[0;36m100\u001b[0m\u001b[0;34m)\u001b[0m\u001b[0;34m\u001b[0m\u001b[0;34m\u001b[0m\u001b[0m\n\u001b[0m\u001b[1;32m     20\u001b[0m \u001b[0mprint\u001b[0m\u001b[0;34m(\u001b[0m\u001b[0mjay\u001b[0m\u001b[0;34m.\u001b[0m\u001b[0msal_cal\u001b[0m\u001b[0;34m(\u001b[0m\u001b[0;34m)\u001b[0m\u001b[0;34m)\u001b[0m\u001b[0;34m\u001b[0m\u001b[0;34m\u001b[0m\u001b[0m\n\u001b[1;32m     21\u001b[0m \u001b[0;34m\u001b[0m\u001b[0m\n",
      "\u001b[0;31mAttributeError\u001b[0m: 'Emp' object has no attribute '__update_incp'"
     ]
    }
   ],
   "source": [
    "#encapsulation.\n",
    "class Emp:\n",
    "    company_name=\"Khyaathi\"\n",
    "    def __init__(self,name,e_id,sal,incp):\n",
    "        self.name=name\n",
    "        self.id=e_id\n",
    "        self.sal=sal\n",
    "        self.__incp=incp # __incp secured attribute\n",
    "    def change_incp(self,new_incp):\n",
    "        self.__update_incp(new_incp)\n",
    "        \n",
    "    def __update_incp(self,new_incp): # secured methods\n",
    "        self.__incp=new_incp\n",
    "    def sal_cal(self):\n",
    "        return self.sal+self.sal*self.__incp/100\n",
    "    def get(self):\n",
    "        return self.name,self.id,self.company_name\n",
    "jay=Emp(\"Jayaram\",12,40000,10)\n",
    "#jay.__incp=100\n",
    "jay.__update_incp(100)\n",
    "print(jay.sal_cal())\n",
    "        "
   ]
  },
  {
   "cell_type": "code",
   "execution_count": 11,
   "metadata": {},
   "outputs": [
    {
     "name": "stdout",
     "output_type": "stream",
     "text": [
      "('Jayaram', 12, 'Khyaathi')\n",
      "<class '__main__.Emp'>\n"
     ]
    }
   ],
   "source": [
    "class Emp:\n",
    "    company_name=\"Khyaathi\"\n",
    "    def __init__(self,name,e_id,sal,incp):\n",
    "        self.name=name\n",
    "        self.id=e_id\n",
    "        \n",
    "    def get(self):\n",
    "        return self.name,self.id,self.company_name\n",
    "jay=Emp(\"Jayaram\",12,40000,10)\n",
    "print(jay.get())\n",
    "print(type(jay))"
   ]
  },
  {
   "cell_type": "code",
   "execution_count": 12,
   "metadata": {},
   "outputs": [
    {
     "name": "stdout",
     "output_type": "stream",
     "text": [
      "<class 'int'>\n"
     ]
    }
   ],
   "source": [
    "a=10\n",
    "print(type(a))"
   ]
  },
  {
   "cell_type": "code",
   "execution_count": 13,
   "metadata": {},
   "outputs": [
    {
     "name": "stdout",
     "output_type": "stream",
     "text": [
      "<class 'int'>\n"
     ]
    }
   ],
   "source": [
    "a=int(10)\n",
    "print(type(a))"
   ]
  },
  {
   "cell_type": "code",
   "execution_count": 14,
   "metadata": {},
   "outputs": [
    {
     "ename": "TypeError",
     "evalue": "unsupported operand type(s) for +: 'Emp' and 'Emp'",
     "output_type": "error",
     "traceback": [
      "\u001b[0;31m---------------------------------------------------------------------------\u001b[0m",
      "\u001b[0;31mTypeError\u001b[0m                                 Traceback (most recent call last)",
      "\u001b[0;32m<ipython-input-14-2ee23c5b136f>\u001b[0m in \u001b[0;36m<module>\u001b[0;34m\u001b[0m\n\u001b[1;32m      9\u001b[0m \u001b[0mjay\u001b[0m\u001b[0;34m=\u001b[0m\u001b[0mEmp\u001b[0m\u001b[0;34m(\u001b[0m\u001b[0;34m\"Jayaram\"\u001b[0m\u001b[0;34m,\u001b[0m\u001b[0;36m12\u001b[0m\u001b[0;34m)\u001b[0m\u001b[0;34m\u001b[0m\u001b[0;34m\u001b[0m\u001b[0m\n\u001b[1;32m     10\u001b[0m \u001b[0mvedha\u001b[0m \u001b[0;34m=\u001b[0m \u001b[0mEmp\u001b[0m\u001b[0;34m(\u001b[0m\u001b[0;34m\"Vedhanvesh\"\u001b[0m\u001b[0;34m,\u001b[0m\u001b[0;36m13\u001b[0m\u001b[0;34m)\u001b[0m\u001b[0;34m\u001b[0m\u001b[0;34m\u001b[0m\u001b[0m\n\u001b[0;32m---> 11\u001b[0;31m \u001b[0mprint\u001b[0m\u001b[0;34m(\u001b[0m\u001b[0mjay\u001b[0m\u001b[0;34m+\u001b[0m\u001b[0mvedha\u001b[0m\u001b[0;34m)\u001b[0m\u001b[0;34m\u001b[0m\u001b[0;34m\u001b[0m\u001b[0m\n\u001b[0m",
      "\u001b[0;31mTypeError\u001b[0m: unsupported operand type(s) for +: 'Emp' and 'Emp'"
     ]
    }
   ],
   "source": [
    "class Emp:\n",
    "    company_name=\"Khyaathi\"\n",
    "    def __init__(self,name,e_id):\n",
    "        self.name=name\n",
    "        self.id=e_id\n",
    "        \n",
    "    def get(self):\n",
    "        return self.name,self.id,self.company_name\n",
    "jay=Emp(\"Jayaram\",12)\n",
    "vedha = Emp(\"Vedhanvesh\",13)\n",
    "print(jay+vedha)"
   ]
  },
  {
   "cell_type": "code",
   "execution_count": 15,
   "metadata": {},
   "outputs": [
    {
     "ename": "TypeError",
     "evalue": "unsupported operand type(s) for +: 'dict' and 'dict'",
     "output_type": "error",
     "traceback": [
      "\u001b[0;31m---------------------------------------------------------------------------\u001b[0m",
      "\u001b[0;31mTypeError\u001b[0m                                 Traceback (most recent call last)",
      "\u001b[0;32m<ipython-input-15-1bda8da8c77c>\u001b[0m in \u001b[0;36m<module>\u001b[0;34m\u001b[0m\n\u001b[1;32m      1\u001b[0m \u001b[0md1\u001b[0m\u001b[0;34m=\u001b[0m\u001b[0;34m{\u001b[0m\u001b[0;36m1\u001b[0m\u001b[0;34m:\u001b[0m\u001b[0;36m2\u001b[0m\u001b[0;34m}\u001b[0m\u001b[0;34m\u001b[0m\u001b[0;34m\u001b[0m\u001b[0m\n\u001b[1;32m      2\u001b[0m \u001b[0md2\u001b[0m\u001b[0;34m=\u001b[0m\u001b[0;34m{\u001b[0m\u001b[0;36m3\u001b[0m\u001b[0;34m:\u001b[0m\u001b[0;36m4\u001b[0m\u001b[0;34m}\u001b[0m\u001b[0;34m\u001b[0m\u001b[0;34m\u001b[0m\u001b[0m\n\u001b[0;32m----> 3\u001b[0;31m \u001b[0md1\u001b[0m\u001b[0;34m+\u001b[0m\u001b[0md2\u001b[0m\u001b[0;34m\u001b[0m\u001b[0;34m\u001b[0m\u001b[0m\n\u001b[0m",
      "\u001b[0;31mTypeError\u001b[0m: unsupported operand type(s) for +: 'dict' and 'dict'"
     ]
    }
   ],
   "source": [
    "d1={1:2}\n",
    "d2={3:4}\n",
    "d1+d2"
   ]
  },
  {
   "cell_type": "code",
   "execution_count": 16,
   "metadata": {},
   "outputs": [
    {
     "data": {
      "text/plain": [
       "30"
      ]
     },
     "execution_count": 16,
     "metadata": {},
     "output_type": "execute_result"
    }
   ],
   "source": [
    "a=10\n",
    "b=20\n",
    "a+b"
   ]
  },
  {
   "cell_type": "code",
   "execution_count": 17,
   "metadata": {},
   "outputs": [
    {
     "name": "stdout",
     "output_type": "stream",
     "text": [
      "p\n",
      "y\n",
      "t\n",
      "h\n",
      "o\n",
      "n\n"
     ]
    }
   ],
   "source": [
    "for i in \"python\":\n",
    "    print(i)"
   ]
  },
  {
   "cell_type": "code",
   "execution_count": 18,
   "metadata": {},
   "outputs": [
    {
     "ename": "TypeError",
     "evalue": "'int' object is not iterable",
     "output_type": "error",
     "traceback": [
      "\u001b[0;31m---------------------------------------------------------------------------\u001b[0m",
      "\u001b[0;31mTypeError\u001b[0m                                 Traceback (most recent call last)",
      "\u001b[0;32m<ipython-input-18-d84c485ddbc3>\u001b[0m in \u001b[0;36m<module>\u001b[0;34m\u001b[0m\n\u001b[0;32m----> 1\u001b[0;31m \u001b[0;32mfor\u001b[0m \u001b[0mi\u001b[0m \u001b[0;32min\u001b[0m \u001b[0;36m1000\u001b[0m\u001b[0;34m:\u001b[0m\u001b[0;34m\u001b[0m\u001b[0;34m\u001b[0m\u001b[0m\n\u001b[0m\u001b[1;32m      2\u001b[0m     \u001b[0mprint\u001b[0m\u001b[0;34m(\u001b[0m\u001b[0mi\u001b[0m\u001b[0;34m)\u001b[0m\u001b[0;34m\u001b[0m\u001b[0;34m\u001b[0m\u001b[0m\n",
      "\u001b[0;31mTypeError\u001b[0m: 'int' object is not iterable"
     ]
    }
   ],
   "source": [
    "for i in 1000:\n",
    "    print(i)"
   ]
  },
  {
   "cell_type": "code",
   "execution_count": 19,
   "metadata": {},
   "outputs": [
    {
     "name": "stdout",
     "output_type": "stream",
     "text": [
      "10\n"
     ]
    }
   ],
   "source": [
    "class Emp:\n",
    "    company_name=\"Khyaathi\"\n",
    "    def __init__(self,name,e_id):\n",
    "        self.name=name\n",
    "        self.id=e_id\n",
    "    def __add__(self1,self2):\n",
    "        return 10\n",
    "    def get(self):\n",
    "        return self.name,self.id,self.company_name\n",
    "jay=Emp(\"Jayaram\",12)\n",
    "vedha = Emp(\"Vedhanvesh\",13)\n",
    "print(jay+vedha)"
   ]
  },
  {
   "cell_type": "code",
   "execution_count": 20,
   "metadata": {},
   "outputs": [
    {
     "name": "stdout",
     "output_type": "stream",
     "text": [
      "('Jayaram', 'Vedhanvesh')\n"
     ]
    }
   ],
   "source": [
    "class Emp:\n",
    "    company_name=\"Khyaathi\"\n",
    "    def __init__(self,name,e_id):\n",
    "        self.name=name\n",
    "        self.id=e_id\n",
    "    def __add__(self1,self2):\n",
    "        return self1.name,self2.name\n",
    "    def get(self):\n",
    "        return self.name,self.id,self.company_name\n",
    "jay=Emp(\"Jayaram\",12)\n",
    "vedha = Emp(\"Vedhanvesh\",13)\n",
    "print(jay+vedha)"
   ]
  },
  {
   "cell_type": "code",
   "execution_count": 22,
   "metadata": {},
   "outputs": [
    {
     "name": "stdout",
     "output_type": "stream",
     "text": [
      "('Jayaram', 'Vedhanvesh')\n",
      "('Jayaram', 'Vedhanvesh')\n",
      "('Jayaram', 'Vedhanvesh')\n",
      "20\n"
     ]
    }
   ],
   "source": [
    "class Emp:\n",
    "    company_name=\"Khyaathi\"\n",
    "    def __init__(self,name,e_id):\n",
    "        self.name=name\n",
    "        self.id=e_id\n",
    "    def __add__(self1,self2):\n",
    "        return self1.name,self2.name\n",
    "    def __sub__(self1,self2):\n",
    "        return self1.name,self2.name\n",
    "    def __mul__(self1,self2):\n",
    "        return self1.name,self2.name\n",
    "    def __len__(self1):\n",
    "        return 20\n",
    "    def get(self):\n",
    "        return self.name,self.id,self.company_name\n",
    "jay=Emp(\"Jayaram\",12)\n",
    "vedha = Emp(\"Vedhanvesh\",13)\n",
    "print(jay+vedha)\n",
    "print(jay-vedha)\n",
    "print(jay*vedha)\n",
    "print(len(jay))"
   ]
  },
  {
   "cell_type": "code",
   "execution_count": 23,
   "metadata": {},
   "outputs": [
    {
     "name": "stdout",
     "output_type": "stream",
     "text": [
      "('Jayaram', 'Vedhanvesh')\n",
      "('Jayaram', 'Vedhanvesh')\n",
      "('Jayaram', 'Vedhanvesh')\n",
      "20\n",
      "{'name': 'Jayaram', 'id': 12}\n"
     ]
    }
   ],
   "source": [
    "class Emp:\n",
    "    company_name=\"Khyaathi\"\n",
    "    def __init__(self,name,e_id):\n",
    "        self.name=name\n",
    "        self.id=e_id\n",
    "    def __add__(self1,self2):\n",
    "        return self1.name,self2.name\n",
    "    def __sub__(self1,self2):\n",
    "        return self1.name,self2.name\n",
    "    def __mul__(self1,self2):\n",
    "        return self1.name,self2.name\n",
    "    def __len__(self1):\n",
    "        return 20\n",
    "    def get(self):\n",
    "        return self.name,self.id,self.company_name\n",
    "jay=Emp(\"Jayaram\",12)\n",
    "vedha = Emp(\"Vedhanvesh\",13)\n",
    "print(jay+vedha)\n",
    "print(jay-vedha)\n",
    "print(jay*vedha)\n",
    "print(len(jay))\n",
    "print(jay.__dict__)"
   ]
  },
  {
   "cell_type": "code",
   "execution_count": 24,
   "metadata": {},
   "outputs": [
    {
     "name": "stdout",
     "output_type": "stream",
     "text": [
      "('Jayaram', 'Vedhanvesh')\n",
      "('Jayaram', 'Vedhanvesh')\n",
      "('Jayaram', 'Vedhanvesh')\n",
      "20\n"
     ]
    },
    {
     "ename": "TypeError",
     "evalue": "'Emp' object is not iterable",
     "output_type": "error",
     "traceback": [
      "\u001b[0;31m---------------------------------------------------------------------------\u001b[0m",
      "\u001b[0;31mTypeError\u001b[0m                                 Traceback (most recent call last)",
      "\u001b[0;32m<ipython-input-24-383448ca11dc>\u001b[0m in \u001b[0;36m<module>\u001b[0;34m\u001b[0m\n\u001b[1;32m     20\u001b[0m \u001b[0mprint\u001b[0m\u001b[0;34m(\u001b[0m\u001b[0mjay\u001b[0m\u001b[0;34m*\u001b[0m\u001b[0mvedha\u001b[0m\u001b[0;34m)\u001b[0m\u001b[0;34m\u001b[0m\u001b[0;34m\u001b[0m\u001b[0m\n\u001b[1;32m     21\u001b[0m \u001b[0mprint\u001b[0m\u001b[0;34m(\u001b[0m\u001b[0mlen\u001b[0m\u001b[0;34m(\u001b[0m\u001b[0mjay\u001b[0m\u001b[0;34m)\u001b[0m\u001b[0;34m)\u001b[0m\u001b[0;34m\u001b[0m\u001b[0;34m\u001b[0m\u001b[0m\n\u001b[0;32m---> 22\u001b[0;31m \u001b[0;32mfor\u001b[0m \u001b[0mi\u001b[0m \u001b[0;32min\u001b[0m \u001b[0mjay\u001b[0m\u001b[0;34m:\u001b[0m\u001b[0;34m\u001b[0m\u001b[0;34m\u001b[0m\u001b[0m\n\u001b[0m\u001b[1;32m     23\u001b[0m     \u001b[0mprint\u001b[0m\u001b[0;34m(\u001b[0m\u001b[0mi\u001b[0m\u001b[0;34m)\u001b[0m\u001b[0;34m\u001b[0m\u001b[0;34m\u001b[0m\u001b[0m\n",
      "\u001b[0;31mTypeError\u001b[0m: 'Emp' object is not iterable"
     ]
    }
   ],
   "source": [
    "class Emp:\n",
    "    company_name=\"Khyaathi\"\n",
    "    def __init__(self,name,e_id):\n",
    "        self.name=name\n",
    "        self.id=e_id\n",
    "    def __add__(self1,self2):\n",
    "        return self1.name,self2.name\n",
    "    def __sub__(self1,self2):\n",
    "        return self1.name,self2.name\n",
    "    def __mul__(self1,self2):\n",
    "        return self1.name,self2.name\n",
    "    def __len__(self1):\n",
    "        return 20\n",
    "    def get(self):\n",
    "        return self.name,self.id,self.company_name\n",
    "jay=Emp(\"Jayaram\",12)\n",
    "vedha = Emp(\"Vedhanvesh\",13)\n",
    "print(jay+vedha)\n",
    "print(jay-vedha)\n",
    "print(jay*vedha)\n",
    "print(len(jay))\n",
    "for i in jay:\n",
    "    print(i)"
   ]
  },
  {
   "cell_type": "code",
   "execution_count": 25,
   "metadata": {},
   "outputs": [
    {
     "name": "stdout",
     "output_type": "stream",
     "text": [
      "('Jayaram', 'Vedhanvesh')\n",
      "('Jayaram', 'Vedhanvesh')\n",
      "('Jayaram', 'Vedhanvesh')\n",
      "20\n",
      "10\n",
      "20\n",
      "30\n"
     ]
    }
   ],
   "source": [
    "#operator overloading\n",
    "class Emp:\n",
    "    company_name=\"Khyaathi\"\n",
    "    def __init__(self,name,e_id):\n",
    "        self.name=name\n",
    "        self.id=e_id\n",
    "    def __add__(self1,self2):\n",
    "        return self1.name,self2.name\n",
    "    def __sub__(self1,self2):\n",
    "        return self1.name,self2.name\n",
    "    def __mul__(self1,self2):\n",
    "        return self1.name,self2.name\n",
    "    def __len__(self1):\n",
    "        return 20\n",
    "    def get(self):\n",
    "        return self.name,self.id,self.company_name\n",
    "    def __iter__(self):\n",
    "        yield 10\n",
    "        yield 20\n",
    "        yield 30\n",
    "jay=Emp(\"Jayaram\",12)\n",
    "vedha = Emp(\"Vedhanvesh\",13)\n",
    "print(jay+vedha)\n",
    "print(jay-vedha)\n",
    "print(jay*vedha)\n",
    "print(len(jay))\n",
    "for i in jay:\n",
    "    print(i)"
   ]
  },
  {
   "cell_type": "code",
   "execution_count": 26,
   "metadata": {},
   "outputs": [
    {
     "name": "stdout",
     "output_type": "stream",
     "text": [
      "('Jayaram', 'Vedhanvesh')\n",
      "('Jayaram', 'Vedhanvesh')\n",
      "('Jayaram', 'Vedhanvesh')\n",
      "20\n",
      "Jayaram\n",
      "12\n"
     ]
    }
   ],
   "source": [
    "#operator overloading\n",
    "class Emp:\n",
    "    company_name=\"Khyaathi\"\n",
    "    def __init__(self,name,e_id):\n",
    "        self.name=name\n",
    "        self.id=e_id\n",
    "    def __add__(self1,self2):\n",
    "        return self1.name,self2.name\n",
    "    def __sub__(self1,self2):\n",
    "        return self1.name,self2.name\n",
    "    def __mul__(self1,self2):\n",
    "        return self1.name,self2.name\n",
    "    def __len__(self1):\n",
    "        return 20\n",
    "    def get(self):\n",
    "        return self.name,self.id,self.company_name\n",
    "    def __iter__(self):\n",
    "        for k,v in self.__dict__.items():\n",
    "            yield v\n",
    "jay=Emp(\"Jayaram\",12)\n",
    "vedha = Emp(\"Vedhanvesh\",13)\n",
    "print(jay+vedha)\n",
    "print(jay-vedha)\n",
    "print(jay*vedha)\n",
    "print(len(jay))\n",
    "for i in jay:\n",
    "    print(i)\n",
    "    "
   ]
  },
  {
   "cell_type": "code",
   "execution_count": 27,
   "metadata": {},
   "outputs": [
    {
     "name": "stdout",
     "output_type": "stream",
     "text": [
      "('Jayaram', 'Vedhanvesh')\n",
      "('Jayaram', 'Vedhanvesh')\n",
      "('Jayaram', 'Vedhanvesh')\n",
      "20\n",
      "Jayaram\n",
      "12\n",
      "<__main__.Emp object at 0x7f8a6fa1c198>\n"
     ]
    }
   ],
   "source": [
    "#operator overloading\n",
    "class Emp:\n",
    "    company_name=\"Khyaathi\"\n",
    "    def __init__(self,name,e_id):\n",
    "        self.name=name\n",
    "        self.id=e_id\n",
    "    def __add__(self1,self2):\n",
    "        return self1.name,self2.name\n",
    "    def __sub__(self1,self2):\n",
    "        return self1.name,self2.name\n",
    "    def __mul__(self1,self2):\n",
    "        return self1.name,self2.name\n",
    "    def __len__(self1):\n",
    "        return 20\n",
    "    def get(self):\n",
    "        return self.name,self.id,self.company_name\n",
    "    def __iter__(self):\n",
    "        for k,v in self.__dict__.items():\n",
    "            yield v\n",
    "jay=Emp(\"Jayaram\",12)\n",
    "vedha = Emp(\"Vedhanvesh\",13)\n",
    "print(jay+vedha)\n",
    "print(jay-vedha)\n",
    "print(jay*vedha)\n",
    "print(len(jay))\n",
    "for i in jay:\n",
    "    print(i)\n",
    "print(jay)"
   ]
  },
  {
   "cell_type": "code",
   "execution_count": 28,
   "metadata": {},
   "outputs": [
    {
     "name": "stdout",
     "output_type": "stream",
     "text": [
      "('Jayaram', 'Vedhanvesh')\n",
      "('Jayaram', 'Vedhanvesh')\n",
      "('Jayaram', 'Vedhanvesh')\n",
      "20\n",
      "Jayaram\n",
      "12\n",
      "Jayaram\n"
     ]
    }
   ],
   "source": [
    "#operator overloading\n",
    "class Emp:\n",
    "    company_name=\"Khyaathi\"\n",
    "    def __init__(self,name,e_id):\n",
    "        self.name=name\n",
    "        self.id=e_id\n",
    "    def __add__(self1,self2):\n",
    "        return self1.name,self2.name\n",
    "    def __sub__(self1,self2):\n",
    "        return self1.name,self2.name\n",
    "    def __mul__(self1,self2):\n",
    "        return self1.name,self2.name\n",
    "    def __len__(self1):\n",
    "        return 20\n",
    "    def __str__(self):\n",
    "        return self.name\n",
    "    def get(self):\n",
    "        return self.name,self.id,self.company_name\n",
    "    def __iter__(self):\n",
    "        for k,v in self.__dict__.items():\n",
    "            yield v\n",
    "jay=Emp(\"Jayaram\",12)\n",
    "vedha = Emp(\"Vedhanvesh\",13)\n",
    "print(jay+vedha)\n",
    "print(jay-vedha)\n",
    "print(jay*vedha)\n",
    "print(len(jay))\n",
    "for i in jay:\n",
    "    print(i)\n",
    "print(jay)"
   ]
  },
  {
   "cell_type": "code",
   "execution_count": 29,
   "metadata": {},
   "outputs": [
    {
     "data": {
      "text/plain": [
       "60"
      ]
     },
     "execution_count": 29,
     "metadata": {},
     "output_type": "execute_result"
    }
   ],
   "source": [
    "sum([10,20,30])"
   ]
  },
  {
   "cell_type": "code",
   "execution_count": 30,
   "metadata": {},
   "outputs": [
    {
     "data": {
      "text/plain": [
       "30"
      ]
     },
     "execution_count": 30,
     "metadata": {},
     "output_type": "execute_result"
    }
   ],
   "source": [
    "max([10,20,30])"
   ]
  },
  {
   "cell_type": "code",
   "execution_count": 31,
   "metadata": {},
   "outputs": [
    {
     "name": "stdout",
     "output_type": "stream",
     "text": [
      "('Jayaram', 'Vedhanvesh')\n",
      "('Jayaram', 'Vedhanvesh')\n",
      "('Jayaram', 'Vedhanvesh')\n",
      "20\n",
      "Jayaram\n",
      "12\n",
      "Jayaram\n"
     ]
    },
    {
     "ename": "TypeError",
     "evalue": "unsupported operand type(s) for +: 'int' and 'str'",
     "output_type": "error",
     "traceback": [
      "\u001b[0;31m---------------------------------------------------------------------------\u001b[0m",
      "\u001b[0;31mTypeError\u001b[0m                                 Traceback (most recent call last)",
      "\u001b[0;32m<ipython-input-31-e8d8bfa06973>\u001b[0m in \u001b[0;36m<module>\u001b[0;34m\u001b[0m\n\u001b[1;32m     29\u001b[0m     \u001b[0mprint\u001b[0m\u001b[0;34m(\u001b[0m\u001b[0mi\u001b[0m\u001b[0;34m)\u001b[0m\u001b[0;34m\u001b[0m\u001b[0;34m\u001b[0m\u001b[0m\n\u001b[1;32m     30\u001b[0m \u001b[0mprint\u001b[0m\u001b[0;34m(\u001b[0m\u001b[0mjay\u001b[0m\u001b[0;34m)\u001b[0m\u001b[0;34m\u001b[0m\u001b[0;34m\u001b[0m\u001b[0m\n\u001b[0;32m---> 31\u001b[0;31m \u001b[0mprint\u001b[0m\u001b[0;34m(\u001b[0m\u001b[0msum\u001b[0m\u001b[0;34m(\u001b[0m\u001b[0mjay\u001b[0m\u001b[0;34m)\u001b[0m\u001b[0;34m)\u001b[0m\u001b[0;34m\u001b[0m\u001b[0;34m\u001b[0m\u001b[0m\n\u001b[0m",
      "\u001b[0;31mTypeError\u001b[0m: unsupported operand type(s) for +: 'int' and 'str'"
     ]
    }
   ],
   "source": [
    "#operator overloading\n",
    "class Emp:\n",
    "    company_name=\"Khyaathi\"\n",
    "    def __init__(self,name,e_id):\n",
    "        self.name=name\n",
    "        self.id=e_id\n",
    "    def __add__(self1,self2):\n",
    "        return self1.name,self2.name\n",
    "    def __sub__(self1,self2):\n",
    "        return self1.name,self2.name\n",
    "    def __mul__(self1,self2):\n",
    "        return self1.name,self2.name\n",
    "    def __len__(self1):\n",
    "        return 20\n",
    "    def __str__(self):\n",
    "        return self.name\n",
    "    def get(self):\n",
    "        return self.name,self.id,self.company_name\n",
    "    def __iter__(self):\n",
    "        for k,v in self.__dict__.items():\n",
    "            yield v\n",
    "jay=Emp(\"Jayaram\",12)\n",
    "vedha = Emp(\"Vedhanvesh\",13)\n",
    "print(jay+vedha)\n",
    "print(jay-vedha)\n",
    "print(jay*vedha)\n",
    "print(len(jay))\n",
    "for i in jay:\n",
    "    print(i)\n",
    "print(jay)\n",
    "print(sum(jay))"
   ]
  },
  {
   "cell_type": "code",
   "execution_count": 33,
   "metadata": {},
   "outputs": [
    {
     "name": "stdout",
     "output_type": "stream",
     "text": [
      "('Jayaram', 'Vedhanvesh')\n",
      "('Jayaram', 'Vedhanvesh')\n",
      "('Jayaram', 'Vedhanvesh')\n",
      "20\n",
      "Jayaram\n",
      "12\n",
      "Jayaram\n"
     ]
    },
    {
     "ename": "TypeError",
     "evalue": "unsupported operand type(s) for +: 'int' and 'str'",
     "output_type": "error",
     "traceback": [
      "\u001b[0;31m---------------------------------------------------------------------------\u001b[0m",
      "\u001b[0;31mTypeError\u001b[0m                                 Traceback (most recent call last)",
      "\u001b[0;32m<ipython-input-33-b1b462d18099>\u001b[0m in \u001b[0;36m<module>\u001b[0;34m\u001b[0m\n\u001b[1;32m     31\u001b[0m     \u001b[0mprint\u001b[0m\u001b[0;34m(\u001b[0m\u001b[0mi\u001b[0m\u001b[0;34m)\u001b[0m\u001b[0;34m\u001b[0m\u001b[0;34m\u001b[0m\u001b[0m\n\u001b[1;32m     32\u001b[0m \u001b[0mprint\u001b[0m\u001b[0;34m(\u001b[0m\u001b[0mjay\u001b[0m\u001b[0;34m)\u001b[0m\u001b[0;34m\u001b[0m\u001b[0;34m\u001b[0m\u001b[0m\n\u001b[0;32m---> 33\u001b[0;31m \u001b[0mprint\u001b[0m\u001b[0;34m(\u001b[0m\u001b[0msum\u001b[0m\u001b[0;34m(\u001b[0m\u001b[0mjay\u001b[0m\u001b[0;34m)\u001b[0m\u001b[0;34m)\u001b[0m\u001b[0;34m\u001b[0m\u001b[0;34m\u001b[0m\u001b[0m\n\u001b[0m",
      "\u001b[0;31mTypeError\u001b[0m: unsupported operand type(s) for +: 'int' and 'str'"
     ]
    }
   ],
   "source": [
    "#operator overloading\n",
    "class Emp:\n",
    "    company_name=\"Khyaathi\"\n",
    "    def __init__(self,name,e_id):\n",
    "        self.name=name\n",
    "        self.id=e_id\n",
    "    def __add__(self1,self2):\n",
    "        return self1.name,self2.name\n",
    "    def __sub__(self1,self2):\n",
    "        return self1.name,self2.name\n",
    "    def __mul__(self1,self2):\n",
    "        return self1.name,self2.name\n",
    "    def __len__(self1):\n",
    "        return 20\n",
    "    def __str__(self):\n",
    "        return self.name\n",
    "    def get(self):\n",
    "        return self.name,self.id,self.company_name\n",
    "    def __iter__(self):\n",
    "        for k,v in self.__dict__.items():\n",
    "            yield v\n",
    "\n",
    "jay=Emp(\"Jayaram\",12)\n",
    "vedha = Emp(\"Vedhanvesh\",13)\n",
    "print(jay+vedha)\n",
    "print(jay-vedha)\n",
    "print(jay*vedha)\n",
    "print(len(jay))\n",
    "for i in jay:\n",
    "    print(i)\n",
    "print(jay)\n",
    "print(sum(jay))"
   ]
  },
  {
   "cell_type": "code",
   "execution_count": 34,
   "metadata": {},
   "outputs": [],
   "source": [
    "l=[10,20,30,4]"
   ]
  },
  {
   "cell_type": "code",
   "execution_count": 36,
   "metadata": {},
   "outputs": [
    {
     "ename": "TypeError",
     "evalue": "__init__() takes 3 positional arguments but 4 were given",
     "output_type": "error",
     "traceback": [
      "\u001b[0;31m---------------------------------------------------------------------------\u001b[0m",
      "\u001b[0;31mTypeError\u001b[0m                                 Traceback (most recent call last)",
      "\u001b[0;32m<ipython-input-36-9a80550f33ed>\u001b[0m in \u001b[0;36m<module>\u001b[0;34m\u001b[0m\n\u001b[1;32m      6\u001b[0m         \u001b[0mself\u001b[0m\u001b[0;34m.\u001b[0m\u001b[0mid\u001b[0m\u001b[0;34m=\u001b[0m\u001b[0me_id\u001b[0m\u001b[0;34m\u001b[0m\u001b[0;34m\u001b[0m\u001b[0m\n\u001b[1;32m      7\u001b[0m \u001b[0mjay\u001b[0m\u001b[0;34m=\u001b[0m\u001b[0mEmp\u001b[0m\u001b[0;34m(\u001b[0m\u001b[0;34m\"jayaram\"\u001b[0m\u001b[0;34m,\u001b[0m\u001b[0;36m12\u001b[0m\u001b[0;34m)\u001b[0m\u001b[0;34m\u001b[0m\u001b[0;34m\u001b[0m\u001b[0m\n\u001b[0;32m----> 8\u001b[0;31m \u001b[0mvedhanvesh\u001b[0m\u001b[0;34m=\u001b[0m\u001b[0mEmp\u001b[0m\u001b[0;34m(\u001b[0m\u001b[0;34m\"vedhanvesh\"\u001b[0m\u001b[0;34m,\u001b[0m\u001b[0;36m13\u001b[0m\u001b[0;34m,\u001b[0m\u001b[0;36m40000\u001b[0m\u001b[0;34m)\u001b[0m\u001b[0;34m\u001b[0m\u001b[0;34m\u001b[0m\u001b[0m\n\u001b[0m",
      "\u001b[0;31mTypeError\u001b[0m: __init__() takes 3 positional arguments but 4 were given"
     ]
    }
   ],
   "source": [
    "#method overloading\n",
    "class Emp:\n",
    "    company_name=\"Khyaathi\"\n",
    "    def __init__(self,name,e_id):\n",
    "        self.name=name\n",
    "        self.id=e_id\n",
    "jay=Emp(\"jayaram\",12)\n",
    "vedhanvesh=Emp(\"vedhanvesh\",13,40000)"
   ]
  },
  {
   "cell_type": "code",
   "execution_count": 38,
   "metadata": {},
   "outputs": [],
   "source": [
    "#method overloading\n",
    "# default argument, *args, **kwargs\n",
    "class Emp:\n",
    "    company_name=\"Khyaathi\"\n",
    "    def __init__(self,name,e_id,sal=0):\n",
    "        self.name=name\n",
    "        self.id=e_id\n",
    "        self.sal=sal\n",
    "jay=Emp(\"jayaram\",12)\n",
    "vedhanvesh=Emp(\"vedhanvesh\",13,40000)"
   ]
  },
  {
   "cell_type": "code",
   "execution_count": 39,
   "metadata": {},
   "outputs": [
    {
     "ename": "TypeError",
     "evalue": "fun() missing 1 required positional argument: 'c'",
     "output_type": "error",
     "traceback": [
      "\u001b[0;31m---------------------------------------------------------------------------\u001b[0m",
      "\u001b[0;31mTypeError\u001b[0m                                 Traceback (most recent call last)",
      "\u001b[0;32m<ipython-input-39-8760956bffbf>\u001b[0m in \u001b[0;36m<module>\u001b[0;34m\u001b[0m\n\u001b[1;32m      3\u001b[0m \u001b[0;32mdef\u001b[0m \u001b[0mfun\u001b[0m\u001b[0;34m(\u001b[0m\u001b[0ma\u001b[0m\u001b[0;34m,\u001b[0m\u001b[0mb\u001b[0m\u001b[0;34m,\u001b[0m\u001b[0mc\u001b[0m\u001b[0;34m)\u001b[0m\u001b[0;34m:\u001b[0m\u001b[0;34m\u001b[0m\u001b[0;34m\u001b[0m\u001b[0m\n\u001b[1;32m      4\u001b[0m     \u001b[0mprint\u001b[0m\u001b[0;34m(\u001b[0m\u001b[0ma\u001b[0m\u001b[0;34m,\u001b[0m\u001b[0mb\u001b[0m\u001b[0;34m,\u001b[0m\u001b[0mc\u001b[0m\u001b[0;34m)\u001b[0m\u001b[0;34m\u001b[0m\u001b[0;34m\u001b[0m\u001b[0m\n\u001b[0;32m----> 5\u001b[0;31m \u001b[0mfun\u001b[0m\u001b[0;34m(\u001b[0m\u001b[0;36m10\u001b[0m\u001b[0;34m,\u001b[0m\u001b[0;36m20\u001b[0m\u001b[0;34m)\u001b[0m\u001b[0;34m\u001b[0m\u001b[0;34m\u001b[0m\u001b[0m\n\u001b[0m",
      "\u001b[0;31mTypeError\u001b[0m: fun() missing 1 required positional argument: 'c'"
     ]
    }
   ],
   "source": [
    "def fun(a,b):\n",
    "    print(a,b)\n",
    "def fun(a,b,c):\n",
    "    print(a,b,c)\n",
    "fun(10,20)"
   ]
  },
  {
   "cell_type": "code",
   "execution_count": 40,
   "metadata": {},
   "outputs": [
    {
     "name": "stdout",
     "output_type": "stream",
     "text": [
      "['__class__', '__delattr__', '__dict__', '__dir__', '__doc__', '__eq__', '__format__', '__ge__', '__getattribute__', '__gt__', '__hash__', '__init__', '__init_subclass__', '__le__', '__lt__', '__module__', '__ne__', '__new__', '__reduce__', '__reduce_ex__', '__repr__', '__setattr__', '__sizeof__', '__str__', '__subclasshook__', '__weakref__', 'company_name', 'id', 'name', 'sal']\n"
     ]
    }
   ],
   "source": [
    "#method overloading\n",
    "# default argument, *args, **kwargs\n",
    "class Emp:\n",
    "    company_name=\"Khyaathi\"\n",
    "    def __init__(self,name,e_id,sal=0):\n",
    "        self.name=name\n",
    "        self.id=e_id\n",
    "        self.sal=sal\n",
    "jay=Emp(\"jayaram\",12)\n",
    "vedhanvesh=Emp(\"vedhanvesh\",13,40000)\n",
    "print(dir(jay))"
   ]
  },
  {
   "cell_type": "code",
   "execution_count": 41,
   "metadata": {},
   "outputs": [],
   "source": [
    "jay.__str__?"
   ]
  },
  {
   "cell_type": "code",
   "execution_count": null,
   "metadata": {},
   "outputs": [],
   "source": []
  }
 ],
 "metadata": {
  "kernelspec": {
   "display_name": "Python 3",
   "language": "python",
   "name": "python3"
  },
  "language_info": {
   "codemirror_mode": {
    "name": "ipython",
    "version": 3
   },
   "file_extension": ".py",
   "mimetype": "text/x-python",
   "name": "python",
   "nbconvert_exporter": "python",
   "pygments_lexer": "ipython3",
   "version": "3.7.3"
  }
 },
 "nbformat": 4,
 "nbformat_minor": 2
}
