{
 "cells": [
  {
   "cell_type": "code",
   "execution_count": 1,
   "metadata": {},
   "outputs": [
    {
     "name": "stdout",
     "output_type": "stream",
     "text": [
      "['1', '0', '2', '1', '0', '3', '0']\n"
     ]
    }
   ],
   "source": [
    "s=\"1,0,2,1,0,3,0\"\n",
    "l=s.split(\",\")\n",
    "print(l)"
   ]
  },
  {
   "cell_type": "code",
   "execution_count": 4,
   "metadata": {},
   "outputs": [
    {
     "name": "stdout",
     "output_type": "stream",
     "text": [
      "['1', '0', '2', '1', '0', '3', '0']\n",
      "['1', '2', '1', '3', 0, 0, 0]\n"
     ]
    }
   ],
   "source": [
    "s=\"1,0,2,1,0,3,0\"\n",
    "l=s.split(\",\")\n",
    "print(l)\n",
    "c=0\n",
    "for i in l:\n",
    "    if c==len(l):\n",
    "        break\n",
    "    if i==\"0\":\n",
    "        l.pop(c)\n",
    "        l.append(0)\n",
    "    c=c+1\n",
    "print(l)"
   ]
  },
  {
   "cell_type": "code",
   "execution_count": 5,
   "metadata": {},
   "outputs": [
    {
     "name": "stdout",
     "output_type": "stream",
     "text": [
      "['1', '2', '1', '3', 0, 0, 0]\n"
     ]
    }
   ],
   "source": [
    "s=\"1,0,2,1,0,3,0\"\n",
    "l=s.split(\",\")\n",
    "len_l = len(l)\n",
    "for ind,value in enumerate(l):\n",
    "    if ind==len_l:\n",
    "        break\n",
    "    if value==\"0\":\n",
    "        l.pop(ind)\n",
    "        l.append(0)\n",
    "print(l)"
   ]
  },
  {
   "cell_type": "code",
   "execution_count": 7,
   "metadata": {},
   "outputs": [
    {
     "name": "stdout",
     "output_type": "stream",
     "text": [
      "1,2,1,3,0,0,0\n"
     ]
    }
   ],
   "source": [
    "s=\"1,0,2,1,0,3,0\"\n",
    "l=s.split(\",\")\n",
    "len_l = len(l)\n",
    "for ind,value in enumerate(l):\n",
    "    if ind==len_l:\n",
    "        break\n",
    "    if value==\"0\":\n",
    "        l.pop(ind)\n",
    "        l.append(\"0\")\n",
    "print(\",\".join(l))"
   ]
  },
  {
   "cell_type": "code",
   "execution_count": 8,
   "metadata": {},
   "outputs": [],
   "source": [
    "d={\"a\":\"ten\",\"b\":\"two\",\"c\":\"ten\"}\n"
   ]
  },
  {
   "cell_type": "code",
   "execution_count": 9,
   "metadata": {},
   "outputs": [
    {
     "data": {
      "text/plain": [
       "['sd', 'ertr', 'rtyt', 'tyuy', 'yuiu', 'uytre']"
      ]
     },
     "execution_count": 9,
     "metadata": {},
     "output_type": "execute_result"
    }
   ],
   "source": [
    "s=\"sd1234ertr56rtyt67tyuy8yuiu9uytre\"\n",
    "import re\n",
    "re.split(\"\\d+\",s)"
   ]
  },
  {
   "cell_type": "code",
   "execution_count": 10,
   "metadata": {},
   "outputs": [
    {
     "name": "stdout",
     "output_type": "stream",
     "text": [
      "sdertrrtyttyuyyuiuuytre\n"
     ]
    }
   ],
   "source": [
    "s=\"sd1234ertr56rtyt67tyuy8yuiu9uytre\"\n",
    "s1=\"\"\n",
    "for i in s:\n",
    "    if not i.isdigit():\n",
    "        s1=s1+i\n",
    "print(s1)"
   ]
  },
  {
   "cell_type": "code",
   "execution_count": null,
   "metadata": {},
   "outputs": [],
   "source": [
    "d={\"a\":\"ten\",\"b\":\"two\",\"c\":\"ten\"}\n",
    "res={}\n",
    "for i in d:"
   ]
  }
 ],
 "metadata": {
  "kernelspec": {
   "display_name": "Python 3",
   "language": "python",
   "name": "python3"
  },
  "language_info": {
   "codemirror_mode": {
    "name": "ipython",
    "version": 3
   },
   "file_extension": ".py",
   "mimetype": "text/x-python",
   "name": "python",
   "nbconvert_exporter": "python",
   "pygments_lexer": "ipython3",
   "version": "3.7.3"
  }
 },
 "nbformat": 4,
 "nbformat_minor": 2
}
