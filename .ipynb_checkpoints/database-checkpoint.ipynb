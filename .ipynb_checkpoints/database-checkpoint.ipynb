{
 "cells": [
  {
   "cell_type": "code",
   "execution_count": 1,
   "metadata": {},
   "outputs": [],
   "source": [
    "import sqlite3"
   ]
  },
  {
   "cell_type": "code",
   "execution_count": 2,
   "metadata": {},
   "outputs": [],
   "source": [
    "con = sqlite3.connect(\"db1.sqlite3\")"
   ]
  },
  {
   "cell_type": "code",
   "execution_count": 3,
   "metadata": {},
   "outputs": [],
   "source": [
    "cur  =con.cursor()"
   ]
  },
  {
   "cell_type": "code",
   "execution_count": 4,
   "metadata": {},
   "outputs": [
    {
     "data": {
      "text/plain": [
       "<sqlite3.Cursor at 0x7f32781dfab0>"
      ]
     },
     "execution_count": 4,
     "metadata": {},
     "output_type": "execute_result"
    }
   ],
   "source": [
    "q=\"create table customer(id int,name varcgahr(250))\"\n",
    "cur.execute(q)"
   ]
  },
  {
   "cell_type": "code",
   "execution_count": 2,
   "metadata": {},
   "outputs": [
    {
     "data": {
      "text/plain": [
       "<sqlite3.Cursor at 0x7f270060d2d0>"
      ]
     },
     "execution_count": 2,
     "metadata": {},
     "output_type": "execute_result"
    }
   ],
   "source": [
    "q=\"insert into customer values(1,'Jayaram')\"\n",
    "import sqlite3\n",
    "con = sqlite3.connect(\"db1.sqlite3\")\n",
    "cur  =con.cursor()\n",
    "cur.execute(q)\n"
   ]
  },
  {
   "cell_type": "code",
   "execution_count": 3,
   "metadata": {},
   "outputs": [],
   "source": [
    "con.commit()"
   ]
  },
  {
   "cell_type": "code",
   "execution_count": 4,
   "metadata": {},
   "outputs": [],
   "source": [
    "names=[\"samba\",\"jay\",\"vedha\",\"mounika\",\"anil\",\"vishnu priya\"]\n",
    "import random\n",
    "for i in range(2,102):\n",
    "    q=\"insert into customer values(%s,'%s')\"%(i,random.choice(names))\n",
    "    cur.execute(q)\n",
    "    con.commit()"
   ]
  },
  {
   "cell_type": "code",
   "execution_count": 5,
   "metadata": {},
   "outputs": [
    {
     "data": {
      "text/plain": [
       "<sqlite3.Cursor at 0x7f270060d2d0>"
      ]
     },
     "execution_count": 5,
     "metadata": {},
     "output_type": "execute_result"
    }
   ],
   "source": [
    "q=\"select * from customer\"\n",
    "cur.execute(q)"
   ]
  },
  {
   "cell_type": "code",
   "execution_count": 6,
   "metadata": {},
   "outputs": [
    {
     "name": "stdout",
     "output_type": "stream",
     "text": [
      "[(1, 'Jayaram'), (2, 'mounika'), (3, 'mounika'), (4, 'mounika'), (5, 'samba'), (6, 'vishnu priya'), (7, 'samba'), (8, 'anil'), (9, 'vishnu priya'), (10, 'samba'), (11, 'mounika'), (12, 'vedha'), (13, 'samba'), (14, 'anil'), (15, 'samba'), (16, 'vishnu priya'), (17, 'jay'), (18, 'jay'), (19, 'vedha'), (20, 'samba'), (21, 'vishnu priya'), (22, 'jay'), (23, 'samba'), (24, 'jay'), (25, 'jay'), (26, 'jay'), (27, 'vedha'), (28, 'vedha'), (29, 'samba'), (30, 'mounika'), (31, 'jay'), (32, 'mounika'), (33, 'mounika'), (34, 'anil'), (35, 'jay'), (36, 'vishnu priya'), (37, 'vishnu priya'), (38, 'anil'), (39, 'mounika'), (40, 'mounika'), (41, 'samba'), (42, 'vishnu priya'), (43, 'vedha'), (44, 'mounika'), (45, 'anil'), (46, 'anil'), (47, 'vishnu priya'), (48, 'mounika'), (49, 'mounika'), (50, 'samba'), (51, 'jay'), (52, 'mounika'), (53, 'jay'), (54, 'vishnu priya'), (55, 'anil'), (56, 'anil'), (57, 'anil'), (58, 'anil'), (59, 'mounika'), (60, 'anil'), (61, 'vedha'), (62, 'vedha'), (63, 'vishnu priya'), (64, 'samba'), (65, 'samba'), (66, 'vedha'), (67, 'vedha'), (68, 'vedha'), (69, 'samba'), (70, 'jay'), (71, 'mounika'), (72, 'mounika'), (73, 'jay'), (74, 'samba'), (75, 'vedha'), (76, 'vishnu priya'), (77, 'mounika'), (78, 'jay'), (79, 'samba'), (80, 'jay'), (81, 'samba'), (82, 'jay'), (83, 'samba'), (84, 'vishnu priya'), (85, 'vishnu priya'), (86, 'jay'), (87, 'vishnu priya'), (88, 'jay'), (89, 'mounika'), (90, 'vishnu priya'), (91, 'samba'), (92, 'vishnu priya'), (93, 'vishnu priya'), (94, 'mounika'), (95, 'jay'), (96, 'anil'), (97, 'jay'), (98, 'mounika'), (99, 'jay'), (100, 'anil'), (101, 'samba')]\n"
     ]
    }
   ],
   "source": [
    "data = cur.fetchall()\n",
    "print(data)"
   ]
  },
  {
   "cell_type": "code",
   "execution_count": 8,
   "metadata": {},
   "outputs": [
    {
     "name": "stdout",
     "output_type": "stream",
     "text": [
      "{'Jayaram': 1, 'mounika': 20, 'samba': 19, 'vishnu priya': 17, 'anil': 13, 'vedha': 11, 'jay': 20}\n"
     ]
    }
   ],
   "source": [
    "res={}\n",
    "for cust_id,cust_name in data:\n",
    "    if cust_name in res:\n",
    "        res[cust_name]=res[cust_name]+1\n",
    "    else:\n",
    "        res[cust_name]=1\n",
    "print(res)\n",
    "    \n",
    "    "
   ]
  },
  {
   "cell_type": "code",
   "execution_count": 9,
   "metadata": {},
   "outputs": [
    {
     "data": {
      "text/plain": [
       "['Jayaram', 'anil', 'jay', 'mounika', 'samba', 'vedha', 'vishnu priya']"
      ]
     },
     "execution_count": 9,
     "metadata": {},
     "output_type": "execute_result"
    }
   ],
   "source": [
    "sorted(res)"
   ]
  },
  {
   "cell_type": "code",
   "execution_count": 10,
   "metadata": {},
   "outputs": [
    {
     "name": "stdout",
     "output_type": "stream",
     "text": [
      "Jayaram\n",
      "mounika\n",
      "samba\n",
      "vishnu priya\n",
      "anil\n",
      "vedha\n",
      "jay\n"
     ]
    },
    {
     "data": {
      "text/plain": [
       "['Jayaram', 'anil', 'jay', 'mounika', 'samba', 'vedha', 'vishnu priya']"
      ]
     },
     "execution_count": 10,
     "metadata": {},
     "output_type": "execute_result"
    }
   ],
   "source": [
    "def fun(x):\n",
    "    print(x)\n",
    "    return x\n",
    "sorted(res,key=fun)"
   ]
  },
  {
   "cell_type": "code",
   "execution_count": 11,
   "metadata": {},
   "outputs": [
    {
     "name": "stdout",
     "output_type": "stream",
     "text": [
      "('Jayaram', 1)\n",
      "('mounika', 20)\n",
      "('samba', 19)\n",
      "('vishnu priya', 17)\n",
      "('anil', 13)\n",
      "('vedha', 11)\n",
      "('jay', 20)\n"
     ]
    },
    {
     "data": {
      "text/plain": [
       "[('Jayaram', 1),\n",
       " ('anil', 13),\n",
       " ('jay', 20),\n",
       " ('mounika', 20),\n",
       " ('samba', 19),\n",
       " ('vedha', 11),\n",
       " ('vishnu priya', 17)]"
      ]
     },
     "execution_count": 11,
     "metadata": {},
     "output_type": "execute_result"
    }
   ],
   "source": [
    "def fun(x):\n",
    "    print(x)\n",
    "    return x\n",
    "sorted(res.items(),key=fun)"
   ]
  },
  {
   "cell_type": "code",
   "execution_count": 12,
   "metadata": {},
   "outputs": [
    {
     "name": "stdout",
     "output_type": "stream",
     "text": [
      "('Jayaram', 1)\n",
      "('mounika', 20)\n",
      "('samba', 19)\n",
      "('vishnu priya', 17)\n",
      "('anil', 13)\n",
      "('vedha', 11)\n",
      "('jay', 20)\n"
     ]
    },
    {
     "data": {
      "text/plain": [
       "[('Jayaram', 1),\n",
       " ('vedha', 11),\n",
       " ('anil', 13),\n",
       " ('vishnu priya', 17),\n",
       " ('samba', 19),\n",
       " ('mounika', 20),\n",
       " ('jay', 20)]"
      ]
     },
     "execution_count": 12,
     "metadata": {},
     "output_type": "execute_result"
    }
   ],
   "source": [
    "def fun(x):\n",
    "    print(x)\n",
    "    return x[1]\n",
    "sorted(res.items(),key=fun)"
   ]
  },
  {
   "cell_type": "code",
   "execution_count": 13,
   "metadata": {},
   "outputs": [
    {
     "data": {
      "text/plain": [
       "[('Jayaram', 1),\n",
       " ('vedha', 11),\n",
       " ('anil', 13),\n",
       " ('vishnu priya', 17),\n",
       " ('samba', 19),\n",
       " ('mounika', 20),\n",
       " ('jay', 20)]"
      ]
     },
     "execution_count": 13,
     "metadata": {},
     "output_type": "execute_result"
    }
   ],
   "source": [
    "def fun(x):\n",
    "    return x[1]\n",
    "sorted(res.items(),key=fun)"
   ]
  },
  {
   "cell_type": "code",
   "execution_count": 14,
   "metadata": {},
   "outputs": [
    {
     "data": {
      "text/plain": [
       "('jay', 20)"
      ]
     },
     "execution_count": 14,
     "metadata": {},
     "output_type": "execute_result"
    }
   ],
   "source": [
    "def fun(x):\n",
    "    return x[1]\n",
    "sorted(res.items(),key=fun)[-1]"
   ]
  },
  {
   "cell_type": "code",
   "execution_count": 16,
   "metadata": {},
   "outputs": [
    {
     "data": {
      "text/plain": [
       "('jay', 20)"
      ]
     },
     "execution_count": 16,
     "metadata": {},
     "output_type": "execute_result"
    }
   ],
   "source": [
    "q=\"select * from customer\"\n",
    "cur.execute(q)\n",
    "res={}\n",
    "for cust_id,cust_name in data:\n",
    "    if cust_name in res:\n",
    "        res[cust_name]=res[cust_name]+1\n",
    "    else:\n",
    "        res[cust_name]=1\n",
    "def fun(x):\n",
    "\n",
    "    return x[1]\n",
    "sorted(res.items(),key=fun)[-1]"
   ]
  },
  {
   "cell_type": "code",
   "execution_count": 17,
   "metadata": {},
   "outputs": [
    {
     "name": "stdout",
     "output_type": "stream",
     "text": [
      "[(1, 'Jayaram'), (11, 'vedha'), (13, 'anil'), (17, 'vishnu priya'), (19, 'samba'), (20, 'jay'), (20, 'mounika')]\n"
     ]
    }
   ],
   "source": [
    "q=\"select count(*) as c,name from customer group by name order by c\"\n",
    "cur.execute(q)\n",
    "print(cur.fetchall())"
   ]
  },
  {
   "cell_type": "code",
   "execution_count": 18,
   "metadata": {},
   "outputs": [
    {
     "name": "stdout",
     "output_type": "stream",
     "text": [
      "[(20, 'jay'), (20, 'mounika'), (19, 'samba'), (17, 'vishnu priya'), (13, 'anil'), (11, 'vedha'), (1, 'Jayaram')]\n"
     ]
    }
   ],
   "source": [
    "q=\"select count(*) as c,name from customer group by name order by c desc\"\n",
    "cur.execute(q)\n",
    "print(cur.fetchall())"
   ]
  },
  {
   "cell_type": "code",
   "execution_count": 19,
   "metadata": {},
   "outputs": [
    {
     "name": "stdout",
     "output_type": "stream",
     "text": [
      "[(20, 'jay')]\n"
     ]
    }
   ],
   "source": [
    "q=\"select count(*) as c,name from customer group by name order by c desc limit 1\"\n",
    "cur.execute(q)\n",
    "print(cur.fetchall())"
   ]
  },
  {
   "cell_type": "code",
   "execution_count": 20,
   "metadata": {},
   "outputs": [],
   "source": [
    "q=\"update customer set name='JAYARAM' where id=1\"\n",
    "cur.execute(q)\n",
    "con.commit()"
   ]
  },
  {
   "cell_type": "code",
   "execution_count": 21,
   "metadata": {},
   "outputs": [],
   "source": [
    "q=\"delete from customer where id=1\"\n",
    "cur.execute(q)\n",
    "con.commit()"
   ]
  },
  {
   "cell_type": "code",
   "execution_count": 24,
   "metadata": {},
   "outputs": [],
   "source": [
    "import psycopg2\n",
    "import random\n",
    "con = psycopg2.connect(host=\"localhost\",port=5432,\n",
    "                       user=\"postgres\",password=\"root\",database=\"db1\")\n",
    "cur=con.cursor()\n",
    "q=\"create table customer(id int,name varchar(250))\"\n",
    "cur.execute(q)\n",
    "names=[\"samba\",\"jay\",\"vedha\",\"mounika\",\"anil\",\"vishnu priya\"]\n",
    "\n",
    "for i in range(100):\n",
    "    q=\"insert into customer values(%s,'%s')\"%(i,random.choice(names))\n",
    "    cur.execute(q)\n",
    "    con.commit()"
   ]
  },
  {
   "cell_type": "code",
   "execution_count": 25,
   "metadata": {},
   "outputs": [
    {
     "name": "stdout",
     "output_type": "stream",
     "text": [
      "[(22, 'samba')]\n"
     ]
    }
   ],
   "source": [
    "q=\"select count(*) as c,name from customer group by name order by c desc limit 1\"\n",
    "cur.execute(q)\n",
    "print(cur.fetchall())"
   ]
  },
  {
   "cell_type": "code",
   "execution_count": null,
   "metadata": {},
   "outputs": [],
   "source": []
  }
 ],
 "metadata": {
  "kernelspec": {
   "display_name": "Python 3",
   "language": "python",
   "name": "python3"
  },
  "language_info": {
   "codemirror_mode": {
    "name": "ipython",
    "version": 3
   },
   "file_extension": ".py",
   "mimetype": "text/x-python",
   "name": "python",
   "nbconvert_exporter": "python",
   "pygments_lexer": "ipython3",
   "version": "3.7.3"
  }
 },
 "nbformat": 4,
 "nbformat_minor": 2
}
