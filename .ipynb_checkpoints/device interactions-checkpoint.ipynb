{
 "cells": [
  {
   "cell_type": "code",
   "execution_count": 1,
   "metadata": {},
   "outputs": [],
   "source": [
    "import os"
   ]
  },
  {
   "cell_type": "code",
   "execution_count": 2,
   "metadata": {},
   "outputs": [
    {
     "data": {
      "text/plain": [
       "0"
      ]
     },
     "execution_count": 2,
     "metadata": {},
     "output_type": "execute_result"
    }
   ],
   "source": [
    "os.system(\"mkdir folder1\")"
   ]
  },
  {
   "cell_type": "code",
   "execution_count": 3,
   "metadata": {},
   "outputs": [
    {
     "data": {
      "text/plain": [
       "0"
      ]
     },
     "execution_count": 3,
     "metadata": {},
     "output_type": "execute_result"
    }
   ],
   "source": [
    "os.system(\"rmdir folder1\")"
   ]
  },
  {
   "cell_type": "code",
   "execution_count": 4,
   "metadata": {},
   "outputs": [
    {
     "data": {
      "text/plain": [
       "0"
      ]
     },
     "execution_count": 4,
     "metadata": {},
     "output_type": "execute_result"
    }
   ],
   "source": [
    "os.system(\"ls -l\")"
   ]
  },
  {
   "cell_type": "code",
   "execution_count": 6,
   "metadata": {},
   "outputs": [],
   "source": [
    "from subprocess import check_output\n",
    "resp = check_output([\"ls\",\"-l\"])"
   ]
  },
  {
   "cell_type": "code",
   "execution_count": 7,
   "metadata": {},
   "outputs": [
    {
     "name": "stdout",
     "output_type": "stream",
     "text": [
      "b'total 2064\\n-rw-rw-r-- 1 khyaathipyndj khyaathipyndj     14 Sep 17 07:44 a1.py\\n-rw-r--r-- 1 khyaathipyndj khyaathipyndj    137 Oct 16 07:30 a2.py\\n-rw-r--r-- 1 khyaathipyndj khyaathipyndj     32 Sep 17 07:17 app.py\\n-rw-r--r-- 1 khyaathipyndj khyaathipyndj  10631 Sep 17 07:17 assignments.ipynb\\n-rw-r--r-- 1 khyaathipyndj khyaathipyndj  29235 Oct 16 07:30 Assignments.odt\\n-rw-r--r-- 1 khyaathipyndj khyaathipyndj  37549 Sep 17 07:44 conditional statements.ipynb\\ndrwxr-xr-x 2 khyaathipyndj khyaathipyndj   4096 Oct 16 07:30 data\\n-rw-r--r-- 1 khyaathipyndj khyaathipyndj  12268 Oct 16 07:30 database.ipynb\\n-rw-r--r-- 1 khyaathipyndj khyaathipyndj      0 Oct 21 07:51 data.txt\\n-rw-r--r-- 1 khyaathipyndj khyaathipyndj  15503 Sep 17 07:17 datatype operations.ipynb\\n-rw-r--r-- 1 khyaathipyndj khyaathipyndj   8192 Oct 16 07:30 db1.sqlite3\\n-rw-r--r-- 1 khyaathipyndj khyaathipyndj   1650 Oct 26 07:24 device interactions.ipynb\\n-rw-r--r-- 1 khyaathipyndj khyaathipyndj  25323 Oct 16 07:30 dictionaries.ipynb\\n-rw-r--r-- 1 khyaathipyndj khyaathipyndj  44551 Oct 22 07:59 exceptions.ipynb\\n-rw-rw-r-- 1 khyaathipyndj khyaathipyndj    579 Oct 21 07:44 except.py\\n-rw-r--r-- 1 khyaathipyndj khyaathipyndj  86896 Oct 16 07:30 files.ipynb\\n-rw-r--r-- 1 khyaathipyndj khyaathipyndj  62244 Sep 25 07:58 functions.ipynb\\n-rw-rw-r-- 1 khyaathipyndj khyaathipyndj  36605 Sep 20 08:05 fun_mem.jpg\\n-rw-r--r-- 1 khyaathipyndj khyaathipyndj 624640 Oct 16 07:30 GC1.jpg\\n-rw-r--r-- 1 khyaathipyndj khyaathipyndj  62464 Sep 17 07:17 GC.jpg\\n-rw-rw-r-- 1 khyaathipyndj khyaathipyndj    457 Oct 16 07:28 git commands.txt\\n-rw-r--r-- 1 khyaathipyndj khyaathipyndj  36310 Sep 17 07:17 input and print statements.ipynb\\n-rw-r--r-- 1 khyaathipyndj khyaathipyndj  51671 Sep 17 07:17 int_ref_assignment.jpg\\n-rw-r--r-- 1 khyaathipyndj khyaathipyndj 116443 Sep 17 07:17 list,int,string_mem.jpg\\n-rw-r--r-- 1 khyaathipyndj khyaathipyndj  21224 Oct 16 07:30 list_mem.jpg\\n-rw-r--r-- 1 khyaathipyndj khyaathipyndj  38174 Oct 16 07:30 lists.ipynb\\n-rw-rw-r-- 1 khyaathipyndj khyaathipyndj    887 Oct 22 08:00 log.py\\n-rw-r--r-- 1 khyaathipyndj khyaathipyndj    594 Oct 22 08:01 log.txt\\n-rw-r--r-- 1 khyaathipyndj khyaathipyndj  28563 Sep 19 07:41 looping statemements.ipynb\\ndrwxr-xr-x 4 khyaathipyndj khyaathipyndj   4096 Oct 16 07:30 modules\\n-rw-r--r-- 1 khyaathipyndj khyaathipyndj 146000 Sep 17 07:17 mutability_immuatability.jpg\\n-rw-r--r-- 1 khyaathipyndj khyaathipyndj  35176 Sep 17 07:17 number systems.ipynb\\n-rw-r--r-- 1 khyaathipyndj khyaathipyndj 112579 Oct 19 08:24 oops.ipynb\\ndrwxr-xr-x 2 khyaathipyndj khyaathipyndj   4096 Sep 17 07:17 __pycache__\\n-rw-r--r-- 1 khyaathipyndj khyaathipyndj 133072 Sep 17 07:17 python architecture.jpg\\n-rw-r--r-- 1 khyaathipyndj khyaathipyndj  32403 Oct 22 07:47 regular expressions.ipynb\\n-rw-r--r-- 1 khyaathipyndj khyaathipyndj  73398 Sep 17 07:17 string_mem.jpg\\n-rw-r--r-- 1 khyaathipyndj khyaathipyndj  89560 Oct 16 07:30 strings.ipynb\\n-rw-r--r-- 1 khyaathipyndj khyaathipyndj  21708 Oct 16 07:30 tuple and set.ipynb\\n-rw-r--r-- 1 khyaathipyndj khyaathipyndj   3563 Sep 22 07:55 Untitled1.ipynb\\n-rw-r--r-- 1 khyaathipyndj khyaathipyndj   5426 Oct 16 07:30 Untitled2.ipynb\\n-rw-r--r-- 1 khyaathipyndj khyaathipyndj   3378 Sep 17 07:17 Untitled.ipynb\\n-rw-r--r-- 1 khyaathipyndj khyaathipyndj   9173 Sep 17 07:17 variables.ipynb\\n'\n"
     ]
    }
   ],
   "source": [
    "print(resp)"
   ]
  },
  {
   "cell_type": "code",
   "execution_count": 8,
   "metadata": {},
   "outputs": [
    {
     "ename": "ModuleNotFoundError",
     "evalue": "No module named 'gitub'",
     "output_type": "error",
     "traceback": [
      "\u001b[0;31m---------------------------------------------------------------------------\u001b[0m",
      "\u001b[0;31mModuleNotFoundError\u001b[0m                       Traceback (most recent call last)",
      "\u001b[0;32m<ipython-input-8-94cfd32b7070>\u001b[0m in \u001b[0;36m<module>\u001b[0;34m\u001b[0m\n\u001b[0;32m----> 1\u001b[0;31m \u001b[0;32mfrom\u001b[0m \u001b[0mgitub\u001b[0m \u001b[0;32mimport\u001b[0m \u001b[0mGithub\u001b[0m\u001b[0;34m\u001b[0m\u001b[0;34m\u001b[0m\u001b[0m\n\u001b[0m",
      "\u001b[0;31mModuleNotFoundError\u001b[0m: No module named 'gitub'"
     ]
    }
   ],
   "source": [
    "from gitub import Github"
   ]
  },
  {
   "cell_type": "code",
   "execution_count": null,
   "metadata": {},
   "outputs": [],
   "source": []
  }
 ],
 "metadata": {
  "kernelspec": {
   "display_name": "Python 3",
   "language": "python",
   "name": "python3"
  },
  "language_info": {
   "codemirror_mode": {
    "name": "ipython",
    "version": 3
   },
   "file_extension": ".py",
   "mimetype": "text/x-python",
   "name": "python",
   "nbconvert_exporter": "python",
   "pygments_lexer": "ipython3",
   "version": "3.7.3"
  }
 },
 "nbformat": 4,
 "nbformat_minor": 2
}
