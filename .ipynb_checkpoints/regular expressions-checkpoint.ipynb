{
 "cells": [
  {
   "cell_type": "code",
   "execution_count": 1,
   "metadata": {},
   "outputs": [
    {
     "name": "stdout",
     "output_type": "stream",
     "text": [
      "id,name,email,phone\n",
      "1,jay,jay@gmail.com,9676622023\n",
      "2,Vedhanvesh,VEDH@yahoo.com,9676622024\n",
      "3,SAILAXMI,Sai123@yahoo.co.in,9676622025\n"
     ]
    }
   ],
   "source": [
    "s=\"\"\"id,name,email,phone\n",
    "1,jay,jay@gmail.com,9676622023\n",
    "2,Vedhanvesh,VEDH@yahoo.com,9676622024\n",
    "3,SAILAXMI,Sai123@yahoo.co.in,9676622025\n",
    "\"\"\"\n",
    "for i in s.splitlines():\n",
    "    print(i)"
   ]
  },
  {
   "cell_type": "code",
   "execution_count": 2,
   "metadata": {},
   "outputs": [
    {
     "name": "stdout",
     "output_type": "stream",
     "text": [
      "['id', 'name', 'email', 'phone']\n",
      "['1', 'jay', 'jay@gmail.com', '9676622023']\n",
      "['2', 'Vedhanvesh', 'VEDH@yahoo.com', '9676622024']\n",
      "['3', 'SAILAXMI', 'Sai123@yahoo.co.in', '9676622025']\n"
     ]
    }
   ],
   "source": [
    "s=\"\"\"id,name,email,phone\n",
    "1,jay,jay@gmail.com,9676622023\n",
    "2,Vedhanvesh,VEDH@yahoo.com,9676622024\n",
    "3,SAILAXMI,Sai123@yahoo.co.in,9676622025\n",
    "\"\"\"\n",
    "for i in s.splitlines():\n",
    "    print(i.split(\",\"))"
   ]
  },
  {
   "cell_type": "code",
   "execution_count": 3,
   "metadata": {},
   "outputs": [
    {
     "name": "stdout",
     "output_type": "stream",
     "text": [
      "phone\n",
      "9676622023\n",
      "9676622024\n",
      "9676622025\n"
     ]
    }
   ],
   "source": [
    "s=\"\"\"id,name,email,phone\n",
    "1,jay,jay@gmail.com,9676622023\n",
    "2,Vedhanvesh,VEDH@yahoo.com,9676622024\n",
    "3,SAILAXMI,Sai123@yahoo.co.in,9676622025\n",
    "\"\"\"\n",
    "for i in s.splitlines():\n",
    "    print(i.split(\",\")[-1])"
   ]
  },
  {
   "cell_type": "code",
   "execution_count": 4,
   "metadata": {},
   "outputs": [
    {
     "name": "stdout",
     "output_type": "stream",
     "text": [
      "email\n",
      "jay@gmail.com\n",
      "VEDH@yahoo.com\n",
      "Sai123@yahoo.co.in\n"
     ]
    }
   ],
   "source": [
    "s=\"\"\"id,name,email,phone\n",
    "1,jay,jay@gmail.com,9676622023\n",
    "2,Vedhanvesh,VEDH@yahoo.com,9676622024\n",
    "3,SAILAXMI,Sai123@yahoo.co.in,9676622025\n",
    "\"\"\"\n",
    "for i in s.splitlines():\n",
    "    print(i.split(\",\")[-2])"
   ]
  },
  {
   "cell_type": "code",
   "execution_count": 5,
   "metadata": {},
   "outputs": [
    {
     "name": "stdout",
     "output_type": "stream",
     "text": [
      "jay@gmail.com\n",
      "Vedhanvesh\n",
      "SAILAXMI\n"
     ]
    }
   ],
   "source": [
    "s=\"\"\"1,jay,jay@gmail.com,9676622023\n",
    "VEDH@yahoo.com,2,Vedhanvesh,9676622024\n",
    ",9676622025,3,SAILAXMI,Sai123@yahoo.co.in\n",
    "\"\"\"\n",
    "for i in s.splitlines():\n",
    "    print(i.split(\",\")[-2])"
   ]
  },
  {
   "cell_type": "code",
   "execution_count": 6,
   "metadata": {},
   "outputs": [
    {
     "name": "stdout",
     "output_type": "stream",
     "text": [
      "9676622023\n",
      "9676622024\n",
      "Sai123@yahoo.co.in\n"
     ]
    }
   ],
   "source": [
    "s=\"\"\"1,jay,jay@gmail.com,9676622023\n",
    "VEDH@yahoo.com,2,Vedhanvesh,9676622024\n",
    ",9676622025,3,SAILAXMI,Sai123@yahoo.co.in\n",
    "\"\"\"\n",
    "for i in s.splitlines():\n",
    "    print(i.split(\",\")[-1])"
   ]
  },
  {
   "cell_type": "code",
   "execution_count": 7,
   "metadata": {},
   "outputs": [
    {
     "name": "stdout",
     "output_type": "stream",
     "text": [
      "['9676622023', '9676622024', '9676622025']\n"
     ]
    }
   ],
   "source": [
    "import re\n",
    "s=\"\"\"1,jay,jay@gmail.com,9676622023\n",
    "VEDH@yahoo.com,2,Vedhanvesh,9676622024\n",
    ",9676622025,3,SAILAXMI,Sai123@yahoo.co.in\n",
    "\"\"\"\n",
    "print(re.findall(\"[0-9]{10}\",s))"
   ]
  },
  {
   "cell_type": "code",
   "execution_count": 8,
   "metadata": {},
   "outputs": [
    {
     "name": "stdout",
     "output_type": "stream",
     "text": [
      "['a', 'a', 'a', 'c', 'a', 'c', 'd', 'a', 'a', 'a', 'c']\n"
     ]
    }
   ],
   "source": [
    "import re\n",
    "s=\"\"\"1,jay,jay@gmail.com,9676622023\n",
    "VEDH@yahoo.com,2,Vedhanvesh,9676622024\n",
    ",9676622025,3,SAILAXMI,Sai123@yahoo.co.in\n",
    "\"\"\"\n",
    "print(re.findall(\"[abcd]\",s))"
   ]
  },
  {
   "cell_type": "code",
   "execution_count": 9,
   "metadata": {},
   "outputs": [
    {
     "name": "stdout",
     "output_type": "stream",
     "text": [
      "['1', '9', '6', '7', '6', '6', '2', '2', '0', '2', '3', '2', '9', '6', '7', '6', '6', '2', '2', '0', '2', '4', '9', '6', '7', '6', '6', '2', '2', '0', '2', '5', '3', '1', '2', '3']\n"
     ]
    }
   ],
   "source": [
    "import re\n",
    "s=\"\"\"1,jay,jay@gmail.com,9676622023\n",
    "VEDH@yahoo.com,2,Vedhanvesh,9676622024\n",
    ",9676622025,3,SAILAXMI,Sai123@yahoo.co.in\n",
    "\"\"\"\n",
    "print(re.findall(\"[0123456789]\",s))"
   ]
  },
  {
   "cell_type": "code",
   "execution_count": 10,
   "metadata": {},
   "outputs": [
    {
     "name": "stdout",
     "output_type": "stream",
     "text": [
      "['1', '9', '6', '7', '6', '6', '2', '2', '0', '2', '3', '2', '9', '6', '7', '6', '6', '2', '2', '0', '2', '4', '9', '6', '7', '6', '6', '2', '2', '0', '2', '5', '3', '1', '2', '3']\n"
     ]
    }
   ],
   "source": [
    "import re\n",
    "s=\"\"\"1,jay,jay@gmail.com,9676622023\n",
    "VEDH@yahoo.com,2,Vedhanvesh,9676622024\n",
    ",9676622025,3,SAILAXMI,Sai123@yahoo.co.in\n",
    "\"\"\"\n",
    "print(re.findall(\"[0-9]\",s))"
   ]
  },
  {
   "cell_type": "code",
   "execution_count": 11,
   "metadata": {},
   "outputs": [
    {
     "name": "stdout",
     "output_type": "stream",
     "text": [
      "['i1']\n"
     ]
    }
   ],
   "source": [
    "import re\n",
    "s=\"\"\"1,jay,jay@gmail.com,9676622023\n",
    "VEDH@yahoo.com,2,Vedhanvesh,9676622024\n",
    ",9676622025,3,SAILAXMI,Sai123@yahoo.co.in\n",
    "\"\"\"\n",
    "print(re.findall(\"[a-z][0-9]\",s))"
   ]
  },
  {
   "cell_type": "code",
   "execution_count": 12,
   "metadata": {},
   "outputs": [
    {
     "name": "stdout",
     "output_type": "stream",
     "text": [
      "['96', '76', '62', '20', '23', '96', '76', '62', '20', '24', '96', '76', '62', '20', '25', '12']\n"
     ]
    }
   ],
   "source": [
    "import re\n",
    "s=\"\"\"1,jay,jay@gmail.com,9676622023\n",
    "VEDH@yahoo.com,2,Vedhanvesh,9676622024\n",
    ",9676622025,3,SAILAXMI,Sai123@yahoo.co.in\n",
    "\"\"\"\n",
    "print(re.findall(\"[0-9][0-9]\",s))"
   ]
  },
  {
   "cell_type": "code",
   "execution_count": 13,
   "metadata": {},
   "outputs": [
    {
     "name": "stdout",
     "output_type": "stream",
     "text": [
      "['967', '662', '202', '967', '662', '202', '967', '662', '202', '123']\n"
     ]
    }
   ],
   "source": [
    "import re\n",
    "s=\"\"\"1,jay,jay@gmail.com,9676622023\n",
    "VEDH@yahoo.com,2,Vedhanvesh,9676622024\n",
    ",9676622025,3,SAILAXMI,Sai123@yahoo.co.in\n",
    "\"\"\"\n",
    "print(re.findall(\"[0-9][0-9][0-9]\",s))"
   ]
  },
  {
   "cell_type": "code",
   "execution_count": 14,
   "metadata": {},
   "outputs": [
    {
     "name": "stdout",
     "output_type": "stream",
     "text": [
      "['9676622023', '9676622024', '9676622025']\n"
     ]
    }
   ],
   "source": [
    "import re\n",
    "s=\"\"\"1,jay,jay@gmail.com,9676622023\n",
    "VEDH@yahoo.com,2,Vedhanvesh,9676622024\n",
    ",9676622025,3,SAILAXMI,Sai123@yahoo.co.in\n",
    "\"\"\"\n",
    "print(re.findall(\"[0-9][0-9][0-9][0-9][0-9][0-9][0-9][0-9][0-9][0-9]\",s))"
   ]
  },
  {
   "cell_type": "code",
   "execution_count": 15,
   "metadata": {},
   "outputs": [
    {
     "name": "stdout",
     "output_type": "stream",
     "text": [
      "['9676622023', '9676622024', '9676622025']\n"
     ]
    }
   ],
   "source": [
    "import re\n",
    "s=\"\"\"1,jay,jay@gmail.com,9676622023\n",
    "VEDH@yahoo.com,2,Vedhanvesh,9676622024\n",
    ",9676622025,3,SAILAXMI,Sai123@yahoo.co.in\n",
    "\"\"\"\n",
    "print(re.findall(\"[0-9]{10}\",s))"
   ]
  },
  {
   "cell_type": "code",
   "execution_count": 16,
   "metadata": {},
   "outputs": [
    {
     "name": "stdout",
     "output_type": "stream",
     "text": [
      "['1', '', '', '', '', '', '', '', '', '', '', '', '', '', '', '', '', '', '', '', '9', '6', '7', '6', '6', '2', '2', '0', '2', '3', '', '', '', '', '', '', '', '', '', '', '', '', '', '', '', '', '2', '', '', '', '', '', '', '', '', '', '', '', '', '9', '6', '7', '6', '6', '2', '2', '0', '2', '4', '', '', '9', '6', '7', '6', '6', '2', '2', '0', '2', '5', '', '3', '', '', '', '', '', '', '', '', '', '', '', '', '', '1', '2', '3', '', '', '', '', '', '', '', '', '', '', '', '', '', '']\n"
     ]
    }
   ],
   "source": [
    "import re\n",
    "s=\"\"\"1,jay,jay@gmail.com,9676622023\n",
    "VEDH@yahoo.com,2,Vedhanvesh,9676622024\n",
    ",9676622025,3,SAILAXMI,Sai123@yahoo.co.in\n",
    "\"\"\"\n",
    "print(re.findall(\"[0-9]{0,1}\",s))"
   ]
  },
  {
   "cell_type": "code",
   "execution_count": 17,
   "metadata": {},
   "outputs": [
    {
     "name": "stdout",
     "output_type": "stream",
     "text": [
      "['1', '', '', '', '', '', '', '', '', '', '', '', '', '', '', '', '', '', '', '', '9', '6', '7', '6', '6', '2', '2', '0', '2', '3', '', '', '', '', '', '', '', '', '', '', '', '', '', '', '', '', '2', '', '', '', '', '', '', '', '', '', '', '', '', '9', '6', '7', '6', '6', '2', '2', '0', '2', '4', '', '', '9', '6', '7', '6', '6', '2', '2', '0', '2', '5', '', '3', '', '', '', '', '', '', '', '', '', '', '', '', '', '1', '2', '3', '', '', '', '', '', '', '', '', '', '', '', '', '', '']\n"
     ]
    }
   ],
   "source": [
    "import re\n",
    "s=\"\"\"1,jay,jay@gmail.com,9676622023\n",
    "VEDH@yahoo.com,2,Vedhanvesh,9676622024\n",
    ",9676622025,3,SAILAXMI,Sai123@yahoo.co.in\n",
    "\"\"\"\n",
    "print(re.findall(\"[0-9]?\",s))"
   ]
  },
  {
   "cell_type": "code",
   "execution_count": 18,
   "metadata": {},
   "outputs": [
    {
     "name": "stdout",
     "output_type": "stream",
     "text": [
      "['1', '9676622023', '2', '9676622024', '9676622025', '3', '123']\n"
     ]
    }
   ],
   "source": [
    "import re\n",
    "s=\"\"\"1,jay,jay@gmail.com,9676622023\n",
    "VEDH@yahoo.com,2,Vedhanvesh,9676622024\n",
    ",9676622025,3,SAILAXMI,Sai123@yahoo.co.in\n",
    "\"\"\"\n",
    "print(re.findall(\"[0-9]{1,10}\",s))"
   ]
  },
  {
   "cell_type": "code",
   "execution_count": 19,
   "metadata": {},
   "outputs": [
    {
     "name": "stdout",
     "output_type": "stream",
     "text": [
      "['123', '9676622023', '246', '9676622024', '9676622025', '378', '123']\n"
     ]
    }
   ],
   "source": [
    "import re\n",
    "s=\"\"\"123,jay,jay@gmail.com,9676622023\n",
    "VEDH@yahoo.com,246,Vedhanvesh,9676622024\n",
    ",9676622025,378,SAILAXMI,Sai123@yahoo.co.in\n",
    "\"\"\"\n",
    "print(re.findall(\"[0-9]{1,10}\",s))"
   ]
  },
  {
   "cell_type": "code",
   "execution_count": 20,
   "metadata": {},
   "outputs": [
    {
     "name": "stdout",
     "output_type": "stream",
     "text": [
      "['123', '9676622023', '246', '9676622024', '9676622025', '378', '123']\n"
     ]
    }
   ],
   "source": [
    "import re\n",
    "s=\"\"\"123,jay,jay@gmail.com,9676622023\n",
    "VEDH@yahoo.com,246,Vedhanvesh,9676622024\n",
    ",9676622025,378,SAILAXMI,Sai123@yahoo.co.in\n",
    "\"\"\"\n",
    "print(re.findall(\"[0-9]{1,}\",s))"
   ]
  },
  {
   "cell_type": "code",
   "execution_count": 21,
   "metadata": {},
   "outputs": [
    {
     "name": "stdout",
     "output_type": "stream",
     "text": [
      "['123', '9676622023', '246', '9676622024', '9676622025', '378', '123', '234235435345436346536546']\n"
     ]
    }
   ],
   "source": [
    "import re\n",
    "s=\"\"\"123,jay,jay@gmail.com,9676622023\n",
    "VEDH@yahoo.com,246,Vedhanvesh,9676622024\n",
    ",9676622025,378,SAILAXMI,Sai123@yahoo.co.in,234235435345436346536546\n",
    "\"\"\"\n",
    "print(re.findall(\"[0-9]{1,}\",s))"
   ]
  },
  {
   "cell_type": "code",
   "execution_count": 22,
   "metadata": {},
   "outputs": [
    {
     "name": "stdout",
     "output_type": "stream",
     "text": [
      "['123', '9676622023', '246', '9676622024', '9676622025', '378', '123', '234235435345436346536546']\n"
     ]
    }
   ],
   "source": [
    "import re\n",
    "s=\"\"\"123,jay,jay@gmail.com,9676622023\n",
    "VEDH@yahoo.com,246,Vedhanvesh,9676622024\n",
    ",9676622025,378,SAILAXMI,Sai123@yahoo.co.in,234235435345436346536546\n",
    "\"\"\"\n",
    "print(re.findall(\"[0-9]+\",s))"
   ]
  },
  {
   "cell_type": "code",
   "execution_count": 23,
   "metadata": {},
   "outputs": [
    {
     "name": "stdout",
     "output_type": "stream",
     "text": [
      "['123', '', '', '', '', '', '', '', '', '', '', '', '', '', '', '', '', '', '', '', '9676622023', '', '', '', '', '', '', '', '', '', '', '', '', '', '', '', '', '246', '', '', '', '', '', '', '', '', '', '', '', '', '9676622024', '', '', '9676622025', '', '378', '', '', '', '', '', '', '', '', '', '', '', '', '', '123', '', '', '', '', '', '', '', '', '', '', '', '', '', '234235435345436346536546', '', '']\n"
     ]
    }
   ],
   "source": [
    "import re\n",
    "s=\"\"\"123,jay,jay@gmail.com,9676622023\n",
    "VEDH@yahoo.com,246,Vedhanvesh,9676622024\n",
    ",9676622025,378,SAILAXMI,Sai123@yahoo.co.in,234235435345436346536546\n",
    "\"\"\"\n",
    "print(re.findall(\"[0-9]{0,}\",s))"
   ]
  },
  {
   "cell_type": "code",
   "execution_count": 24,
   "metadata": {},
   "outputs": [
    {
     "name": "stdout",
     "output_type": "stream",
     "text": [
      "['123', '', '', '', '', '', '', '', '', '', '', '', '', '', '', '', '', '', '', '', '9676622023', '', '', '', '', '', '', '', '', '', '', '', '', '', '', '', '', '246', '', '', '', '', '', '', '', '', '', '', '', '', '9676622024', '', '', '9676622025', '', '378', '', '', '', '', '', '', '', '', '', '', '', '', '', '123', '', '', '', '', '', '', '', '', '', '', '', '', '', '234235435345436346536546', '', '']\n"
     ]
    }
   ],
   "source": [
    "import re\n",
    "s=\"\"\"123,jay,jay@gmail.com,9676622023\n",
    "VEDH@yahoo.com,246,Vedhanvesh,9676622024\n",
    ",9676622025,378,SAILAXMI,Sai123@yahoo.co.in,234235435345436346536546\n",
    "\"\"\"\n",
    "print(re.findall(\"[0-9]*\",s))"
   ]
  },
  {
   "cell_type": "code",
   "execution_count": 25,
   "metadata": {},
   "outputs": [
    {
     "name": "stdout",
     "output_type": "stream",
     "text": [
      "['1', '2', '3', '9', '6', '7', '6', '6', '2', '2', '0', '2', '3', '2', '4', '6', '9', '6', '7', '6', '6', '2', '2', '0', '2', '4', '9', '6', '7', '6', '6', '2', '2', '0', '2', '5', '3', '7', '8', '1', '2', '3', '2', '3', '4', '2', '3', '5', '4', '3', '5', '3', '4', '5', '4', '3', '6', '3', '4', '6', '5', '3', '6', '5', '4', '6']\n"
     ]
    }
   ],
   "source": [
    "import re\n",
    "s=\"\"\"123,jay,jay@gmail.com,9676622023\n",
    "VEDH@yahoo.com,246,Vedhanvesh,9676622024\n",
    ",9676622025,378,SAILAXMI,Sai123@yahoo.co.in,234235435345436346536546\n",
    "\"\"\"\n",
    "print(re.findall(\"[0-9]\",s))"
   ]
  },
  {
   "cell_type": "code",
   "execution_count": 26,
   "metadata": {},
   "outputs": [
    {
     "name": "stdout",
     "output_type": "stream",
     "text": [
      "[',', 'j', 'a', 'y', ',', 'j', 'a', 'y', '@', 'g', 'm', 'a', 'i', 'l', '.', 'c', 'o', 'm', ',', '\\n', 'V', 'E', 'D', 'H', '@', 'y', 'a', 'h', 'o', 'o', '.', 'c', 'o', 'm', ',', ',', 'V', 'e', 'd', 'h', 'a', 'n', 'v', 'e', 's', 'h', ',', '\\n', ',', ',', ',', 'S', 'A', 'I', 'L', 'A', 'X', 'M', 'I', ',', 'S', 'a', 'i', '@', 'y', 'a', 'h', 'o', 'o', '.', 'c', 'o', '.', 'i', 'n', ',', '\\n']\n"
     ]
    }
   ],
   "source": [
    "import re\n",
    "s=\"\"\"123,jay,jay@gmail.com,9676622023\n",
    "VEDH@yahoo.com,246,Vedhanvesh,9676622024\n",
    ",9676622025,378,SAILAXMI,Sai123@yahoo.co.in,234235435345436346536546\n",
    "\"\"\"\n",
    "print(re.findall(\"[^0-9]\",s))"
   ]
  },
  {
   "cell_type": "code",
   "execution_count": 27,
   "metadata": {},
   "outputs": [
    {
     "name": "stdout",
     "output_type": "stream",
     "text": [
      "['1']\n"
     ]
    }
   ],
   "source": [
    "import re\n",
    "s=\"\"\"123,jay,jay@gmail.com,9676622023\n",
    "VEDH@yahoo.com,246,Vedhanvesh,9676622024\n",
    ",9676622025,378,SAILAXMI,Sai123@yahoo.co.in,234235435345436346536546\n",
    "\"\"\"\n",
    "print(re.findall(\"^[0-9]\",s))"
   ]
  },
  {
   "cell_type": "code",
   "execution_count": 29,
   "metadata": {},
   "outputs": [
    {
     "name": "stdout",
     "output_type": "stream",
     "text": [
      "['123']\n"
     ]
    }
   ],
   "source": [
    "import re\n",
    "s=\"\"\"123,jay,jay@gmail.com,9676622023\n",
    "VEDH@yahoo.com,246,Vedhanvesh,9676622024\n",
    "9676622025,378,SAILAXMI,Sai123@yahoo.co.in,234235435345436346536546\n",
    "\"\"\"\n",
    "print(re.findall(\"^[0-9]+\",s))"
   ]
  },
  {
   "cell_type": "code",
   "execution_count": 30,
   "metadata": {},
   "outputs": [
    {
     "name": "stdout",
     "output_type": "stream",
     "text": [
      "['123', '9676622025']\n"
     ]
    }
   ],
   "source": [
    "import re\n",
    "s=\"\"\"123,jay,jay@gmail.com,9676622023\n",
    "VEDH@yahoo.com,246,Vedhanvesh,9676622024\n",
    "9676622025,378,SAILAXMI,Sai123@yahoo.co.in,234235435345436346536546\n",
    "\"\"\"\n",
    "print(re.findall(\"^[0-9]+\",s,re.M))"
   ]
  },
  {
   "cell_type": "code",
   "execution_count": 31,
   "metadata": {},
   "outputs": [
    {
     "name": "stdout",
     "output_type": "stream",
     "text": [
      "['234235435345436346536546']\n"
     ]
    }
   ],
   "source": [
    "import re\n",
    "s=\"\"\"123,jay,jay@gmail.com,9676622023\n",
    "VEDH@yahoo.com,246,Vedhanvesh,9676622024\n",
    "9676622025,378,SAILAXMI,Sai123@yahoo.co.in,234235435345436346536546\n",
    "\"\"\"\n",
    "print(re.findall(\"[0-9]+$\",s))"
   ]
  },
  {
   "cell_type": "code",
   "execution_count": 32,
   "metadata": {},
   "outputs": [
    {
     "name": "stdout",
     "output_type": "stream",
     "text": [
      "['9676622023', '9676622024', '234235435345436346536546']\n"
     ]
    }
   ],
   "source": [
    "import re\n",
    "s=\"\"\"123,jay,jay@gmail.com,9676622023\n",
    "VEDH@yahoo.com,246,Vedhanvesh,9676622024\n",
    "9676622025,378,SAILAXMI,Sai123@yahoo.co.in,234235435345436346536546\n",
    "\"\"\"\n",
    "print(re.findall(\"[0-9]+$\",s,re.M))"
   ]
  },
  {
   "cell_type": "code",
   "execution_count": 33,
   "metadata": {},
   "outputs": [
    {
     "name": "stdout",
     "output_type": "stream",
     "text": [
      "['1', '2', '3', ',', 'j', 'a', 'y', ',', 'j', 'a', 'y', '@', 'g', 'm', 'a', 'i', 'l', '.', 'c', 'o', 'm', ',', '9', '6', '7', '6', '6', '2', '2', '0', '2', '3', 'V', 'E', 'D', 'H', '@', 'y', 'a', 'h', 'o', 'o', '.', 'c', 'o', 'm', ',', '2', '4', '6', ',', 'V', 'e', 'd', 'h', 'a', 'n', 'v', 'e', 's', 'h', ',', '9', '6', '7', '6', '6', '2', '2', '0', '2', '4', '9', '6', '7', '6', '6', '2', '2', '0', '2', '5', ',', '3', '7', '8', ',', 'S', 'A', 'I', 'L', 'A', 'X', 'M', 'I', ',', 'S', 'a', 'i', '1', '2', '3', '@', 'y', 'a', 'h', 'o', 'o', '.', 'c', 'o', '.', 'i', 'n', ',', '2', '3', '4', '2', '3', '5', '4', '3', '5', '3', '4', '5', '4', '3', '6', '3', '4', '6', '5', '3', '6', '5', '4', '6']\n"
     ]
    }
   ],
   "source": [
    "import re\n",
    "s=\"\"\"123,jay,jay@gmail.com,9676622023\n",
    "VEDH@yahoo.com,246,Vedhanvesh,9676622024\n",
    "9676622025,378,SAILAXMI,Sai123@yahoo.co.in,234235435345436346536546\n",
    "\"\"\"\n",
    "print(re.findall(\".\",s))"
   ]
  },
  {
   "cell_type": "code",
   "execution_count": 34,
   "metadata": {},
   "outputs": [
    {
     "name": "stdout",
     "output_type": "stream",
     "text": [
      "['1', '2', '3', ',', 'j', 'a', 'y', ',', 'j', 'a', 'y', '@', 'g', 'm', 'a', 'i', 'l', '.', 'c', 'o', 'm', ',', '9', '6', '7', '6', '6', '2', '2', '0', '2', '3', '\\n', 'V', 'E', 'D', 'H', '@', 'y', 'a', 'h', 'o', 'o', '.', 'c', 'o', 'm', ',', '2', '4', '6', ',', 'V', 'e', 'd', 'h', 'a', 'n', 'v', 'e', 's', 'h', ',', '9', '6', '7', '6', '6', '2', '2', '0', '2', '4', '\\n', '9', '6', '7', '6', '6', '2', '2', '0', '2', '5', ',', '3', '7', '8', ',', 'S', 'A', 'I', 'L', 'A', 'X', 'M', 'I', ',', 'S', 'a', 'i', '1', '2', '3', '@', 'y', 'a', 'h', 'o', 'o', '.', 'c', 'o', '.', 'i', 'n', ',', '2', '3', '4', '2', '3', '5', '4', '3', '5', '3', '4', '5', '4', '3', '6', '3', '4', '6', '5', '3', '6', '5', '4', '6', '\\n']\n"
     ]
    }
   ],
   "source": [
    "import re\n",
    "s=\"\"\"123,jay,jay@gmail.com,9676622023\n",
    "VEDH@yahoo.com,246,Vedhanvesh,9676622024\n",
    "9676622025,378,SAILAXMI,Sai123@yahoo.co.in,234235435345436346536546\n",
    "\"\"\"\n",
    "print(re.findall(\".\",s,re.DOTALL))"
   ]
  },
  {
   "cell_type": "code",
   "execution_count": 36,
   "metadata": {},
   "outputs": [
    {
     "name": "stdout",
     "output_type": "stream",
     "text": [
      "['jay@gmail.com', 'ai123@yahoo.co.in']\n"
     ]
    }
   ],
   "source": [
    "import re\n",
    "s=\"\"\"123,jay,jay@gmail.com,9676622023\n",
    "VEDH@yahoo.com,246,Vedhanvesh,9676622024\n",
    "9676622025,378,SAILAXMI,Sai123@yahoo.co.in,234235435345436346536546\n",
    "\"\"\"\n",
    "#username:[a-z0-9_-]+\n",
    "#domain name:[a-z]+\n",
    "#\\.\n",
    "#extension:[a-z.]+\n",
    "print(re.findall(\"[a-z0-9_-]+@[a-z]+\\.[a-z.]+\",s))"
   ]
  },
  {
   "cell_type": "code",
   "execution_count": 37,
   "metadata": {},
   "outputs": [
    {
     "name": "stdout",
     "output_type": "stream",
     "text": [
      "['jay@gmail.com', 'VEDH@yahoo.com', 'Sai123@yahoo.co.in']\n"
     ]
    }
   ],
   "source": [
    "import re\n",
    "s=\"\"\"123,jay,jay@gmail.com,9676622023\n",
    "VEDH@yahoo.com,246,Vedhanvesh,9676622024\n",
    "9676622025,378,SAILAXMI,Sai123@yahoo.co.in,234235435345436346536546\n",
    "\"\"\"\n",
    "#username:[a-z0-9_-]+\n",
    "#domain name:[a-z]+\n",
    "#\\.\n",
    "#extension:[a-z.]+\n",
    "print(re.findall(\"[a-z0-9_-]+@[a-z]+\\.[a-z.]+\",s,re.I))"
   ]
  },
  {
   "cell_type": "code",
   "execution_count": 38,
   "metadata": {},
   "outputs": [
    {
     "name": "stdout",
     "output_type": "stream",
     "text": [
      "['jay@gmail.com', 'VEDH@yahoo.com', 'Sai123@yahoo.co.in']\n"
     ]
    }
   ],
   "source": [
    "import re\n",
    "s=\"\"\"123,jay,jay@gmail.com,9676622023\n",
    "VEDH@yahoo.com,246,Vedhanvesh,9676622024\n",
    "9676622025,378,SAILAXMI,Sai123@yahoo.co.in,234235435345436346536546\n",
    "\"\"\"\n",
    "#username:[a-z0-9_-]+\n",
    "#domain name:[a-z]+\n",
    "#\\.\n",
    "#extension:[a-z.]+\n",
    "print(re.findall(\"\\w+@[a-z]+\\.[a-z.]+\",s,re.I))"
   ]
  },
  {
   "cell_type": "code",
   "execution_count": 39,
   "metadata": {},
   "outputs": [
    {
     "name": "stdout",
     "output_type": "stream",
     "text": [
      "['123', '9676622023', '246', '9676622024', '9676622025', '378', '123', '234235435345436346536546']\n"
     ]
    }
   ],
   "source": [
    "import re\n",
    "s=\"\"\"123,jay,jay@gmail.com,9676622023\n",
    "VEDH@yahoo.com,246,Vedhanvesh,9676622024\n",
    "9676622025,378,SAILAXMI,Sai123@yahoo.co.in,234235435345436346536546\n",
    "\"\"\"\n",
    "#username:[a-z0-9_-]+\n",
    "#domain name:[a-z]+\n",
    "#\\.\n",
    "#extension:[a-z.]+\n",
    "print(re.findall(\"\\d+\",s,re.I))"
   ]
  },
  {
   "cell_type": "code",
   "execution_count": 41,
   "metadata": {},
   "outputs": [
    {
     "name": "stdout",
     "output_type": "stream",
     "text": [
      "[',', 'j', 'a', 'y', ',', 'j', 'a', 'y', '@', 'g', 'm', 'a', 'i', 'l', '.', 'c', 'o', 'm', ',', '\\n', 'V', 'E', 'D', 'H', '@', 'y', 'a', 'h', 'o', 'o', '.', 'c', 'o', 'm', ',', ',', 'V', 'e', 'd', 'h', 'a', 'n', 'v', 'e', 's', 'h', ',', '\\n', ',', ',', 'S', 'A', 'I', 'L', 'A', 'X', 'M', 'I', ',', 'S', 'a', 'i', '@', 'y', 'a', 'h', 'o', 'o', '.', 'c', 'o', '.', 'i', 'n', ',', '\\n']\n"
     ]
    }
   ],
   "source": [
    "import re\n",
    "s=\"\"\"123,jay,jay@gmail.com,9676622023\n",
    "VEDH@yahoo.com,246,Vedhanvesh,9676622024\n",
    "9676622025,378,SAILAXMI,Sai123@yahoo.co.in,234235435345436346536546\n",
    "\"\"\"\n",
    "#username:[a-z0-9_-]+\n",
    "#domain name:[a-z]+\n",
    "#\\.\n",
    "#extension:[a-z.]+\n",
    "print(re.findall(\"\\D\",s,re.I))"
   ]
  },
  {
   "cell_type": "code",
   "execution_count": 42,
   "metadata": {},
   "outputs": [
    {
     "name": "stdout",
     "output_type": "stream",
     "text": [
      "[',', 'j', 'a', 'y', ',', 'j', 'a', 'y', '@', 'g', 'm', 'a', 'i', 'l', '.', 'c', 'o', 'm', ',', '\\n', 'V', 'E', 'D', 'H', '@', 'y', 'a', 'h', 'o', 'o', '.', 'c', 'o', 'm', ',', ',', 'V', 'e', 'd', 'h', 'a', 'n', 'v', 'e', 's', 'h', ',', '\\n', ',', ',', 'S', 'A', 'I', 'L', 'A', 'X', 'M', 'I', ',', 'S', 'a', 'i', '@', 'y', 'a', 'h', 'o', 'o', '.', 'c', 'o', '.', 'i', 'n', ',', '\\n']\n"
     ]
    }
   ],
   "source": [
    "import re\n",
    "s=\"\"\"123,jay,jay@gmail.com,9676622023\n",
    "VEDH@yahoo.com,246,Vedhanvesh,9676622024\n",
    "9676622025,378,SAILAXMI,Sai123@yahoo.co.in,234235435345436346536546\n",
    "\"\"\"\n",
    "#username:[a-z0-9_-]+\n",
    "#domain name:[a-z]+\n",
    "#\\.\n",
    "#extension:[a-z.]+\n",
    "print(re.findall(\"[^0-9]\",s,re.I))"
   ]
  },
  {
   "cell_type": "code",
   "execution_count": 44,
   "metadata": {},
   "outputs": [
    {
     "name": "stdout",
     "output_type": "stream",
     "text": [
      "[',', 'j', 'a', 'y', ',', 'j', 'a', 'y', '@', 'g', 'm', 'a', 'i', 'l', '.', 'c', 'o', 'm', ',', '\\n', 'V', 'E', 'D', 'H', '@', 'y', 'a', 'h', 'o', 'o', '.', 'c', 'o', 'm', ',', ',', 'V', 'e', 'd', 'h', 'a', 'n', 'v', 'e', 's', 'h', ',', '\\n', ',', ',', 'S', 'A', 'I', 'L', 'A', 'X', 'M', 'I', ',', 'S', 'a', 'i', '@', 'y', 'a', 'h', 'o', 'o', '.', 'c', 'o', '.', 'i', 'n', ',', '\\n']\n"
     ]
    }
   ],
   "source": [
    "import re\n",
    "s=\"\"\"123,jay,jay@gmail.com,9676622023\n",
    "VEDH@yahoo.com,246,Vedhanvesh,9676622024\n",
    "9676622025,378,SAILAXMI,Sai123@yahoo.co.in,234235435345436346536546\n",
    "\"\"\"\n",
    "#username:[a-z0-9_-]+\n",
    "#domain name:[a-z]+\n",
    "#\\.\n",
    "#extension:[a-z.]+\n",
    "print(re.findall(\"\\D\",s,re.I))"
   ]
  },
  {
   "cell_type": "code",
   "execution_count": 45,
   "metadata": {},
   "outputs": [
    {
     "name": "stdout",
     "output_type": "stream",
     "text": [
      "['jay@gmail.com', 'VEDH@yahoo.com', 'Sai123@yahoo.co.in']\n"
     ]
    }
   ],
   "source": [
    "import re\n",
    "s=\"\"\"123,jay,jay@gmail.com,9676622023\n",
    "VEDH@yahoo.com,246,Vedhanvesh,9676622024\n",
    "9676622025,378,SAILAXMI,Sai123@yahoo.co.in,234235435345436346536546\n",
    "\"\"\"\n",
    "#username:[a-z0-9_-]+\n",
    "#domain name:[a-z]+\n",
    "#\\.\n",
    "#extension:[a-z.]+\n",
    "print(re.findall(\"\\w+@[a-z]+\\.[a-z.]+\",s,re.I))"
   ]
  },
  {
   "cell_type": "code",
   "execution_count": 46,
   "metadata": {},
   "outputs": [
    {
     "name": "stdout",
     "output_type": "stream",
     "text": [
      "<callable_iterator object at 0x7f2cd03a44a8>\n"
     ]
    }
   ],
   "source": [
    "import re\n",
    "s=\"\"\"123,jay,jay@gmail.com,9676622023\n",
    "VEDH@yahoo.com,246,Vedhanvesh,9676622024\n",
    "9676622025,378,SAILAXMI,Sai123@yahoo.co.in,234235435345436346536546\n",
    "\"\"\"\n",
    "#username:[a-z0-9_-]+\n",
    "#domain name:[a-z]+\n",
    "#\\.\n",
    "#extension:[a-z.]+\n",
    "print(re.finditer(\"\\w+@[a-z]+\\.[a-z.]+\",s,re.I))"
   ]
  },
  {
   "cell_type": "code",
   "execution_count": 47,
   "metadata": {},
   "outputs": [
    {
     "name": "stdout",
     "output_type": "stream",
     "text": [
      "<re.Match object; span=(8, 21), match='jay@gmail.com'>\n",
      "<re.Match object; span=(33, 47), match='VEDH@yahoo.com'>\n",
      "<re.Match object; span=(98, 116), match='Sai123@yahoo.co.in'>\n"
     ]
    }
   ],
   "source": [
    "import re\n",
    "s=\"\"\"123,jay,jay@gmail.com,9676622023\n",
    "VEDH@yahoo.com,246,Vedhanvesh,9676622024\n",
    "9676622025,378,SAILAXMI,Sai123@yahoo.co.in,234235435345436346536546\n",
    "\"\"\"\n",
    "#username:[a-z0-9_-]+\n",
    "#domain name:[a-z]+\n",
    "#\\.\n",
    "#extension:[a-z.]+\n",
    "objs = re.finditer(\"\\w+@[a-z]+\\.[a-z.]+\",s,re.I)\n",
    "for obj in objs:\n",
    "    print(obj)"
   ]
  },
  {
   "cell_type": "code",
   "execution_count": 48,
   "metadata": {},
   "outputs": [
    {
     "name": "stdout",
     "output_type": "stream",
     "text": [
      "jay@gmail.com\n",
      "VEDH@yahoo.com\n",
      "Sai123@yahoo.co.in\n"
     ]
    }
   ],
   "source": [
    "import re\n",
    "s=\"\"\"123,jay,jay@gmail.com,9676622023\n",
    "VEDH@yahoo.com,246,Vedhanvesh,9676622024\n",
    "9676622025,378,SAILAXMI,Sai123@yahoo.co.in,234235435345436346536546\n",
    "\"\"\"\n",
    "#username:[a-z0-9_-]+\n",
    "#domain name:[a-z]+\n",
    "#\\.\n",
    "#extension:[a-z.]+\n",
    "objs = re.finditer(\"\\w+@[a-z]+\\.[a-z.]+\",s,re.I)\n",
    "for obj in objs:\n",
    "    print(obj.group(0))"
   ]
  },
  {
   "cell_type": "code",
   "execution_count": 49,
   "metadata": {},
   "outputs": [
    {
     "name": "stdout",
     "output_type": "stream",
     "text": [
      "<re.Match object; span=(8, 21), match='jay@gmail.com'>\n"
     ]
    }
   ],
   "source": [
    "import re\n",
    "s=\"\"\"123,jay,jay@gmail.com,9676622023\n",
    "VEDH@yahoo.com,246,Vedhanvesh,9676622024\n",
    "9676622025,378,SAILAXMI,Sai123@yahoo.co.in,234235435345436346536546\n",
    "\"\"\"\n",
    "#username:[a-z0-9_-]+\n",
    "#domain name:[a-z]+\n",
    "#\\.\n",
    "#extension:[a-z.]+\n",
    "obj = re.search(\"\\w+@[a-z]+\\.[a-z.]+\",s,re.I)\n",
    "print(obj)"
   ]
  },
  {
   "cell_type": "code",
   "execution_count": 50,
   "metadata": {},
   "outputs": [
    {
     "name": "stdout",
     "output_type": "stream",
     "text": [
      "jay@gmail.com\n"
     ]
    }
   ],
   "source": [
    "import re\n",
    "s=\"\"\"123,jay,jay@gmail.com,9676622023\n",
    "VEDH@yahoo.com,246,Vedhanvesh,9676622024\n",
    "9676622025,378,SAILAXMI,Sai123@yahoo.co.in,234235435345436346536546\n",
    "\"\"\"\n",
    "#username:[a-z0-9_-]+\n",
    "#domain name:[a-z]+\n",
    "#\\.\n",
    "#extension:[a-z.]+\n",
    "obj = re.search(\"\\w+@[a-z]+\\.[a-z.]+\",s,re.I)\n",
    "print(obj.group(0))"
   ]
  },
  {
   "cell_type": "code",
   "execution_count": 53,
   "metadata": {},
   "outputs": [
    {
     "name": "stdout",
     "output_type": "stream",
     "text": [
      "None\n"
     ]
    }
   ],
   "source": [
    "import re\n",
    "s=\"\"\"123,jay,jay@gmail.com,9676622023\n",
    "VEDH@yahoo.com,246,Vedhanvesh,9676622024\n",
    "9676622025,378,SAILAXMI,Sai123@yahoo.co.in,234235435345436346536546\n",
    "\"\"\"\n",
    "#username:[a-z0-9_-]+\n",
    "#domain name:[a-z]+\n",
    "#\\.\n",
    "#extension:[a-z.]+\n",
    "obj = re.match(\"\\w+@[a-z]+\\.[a-z.]+\",s,re.I)\n",
    "print(obj)"
   ]
  },
  {
   "cell_type": "code",
   "execution_count": 54,
   "metadata": {},
   "outputs": [
    {
     "name": "stdout",
     "output_type": "stream",
     "text": [
      "['jay@gmail.com', 'VEDH@yahoo.com', 'Sai123@yahoo.co.in']\n"
     ]
    }
   ],
   "source": [
    "import re\n",
    "s=\"\"\"123,jay,jay@gmail.com,9676622023\n",
    "VEDH@yahoo.com,246,Vedhanvesh,9676622024\n",
    "9676622025,378,SAILAXMI,Sai123@yahoo.co.in,234235435345436346536546\n",
    "\"\"\"\n",
    "#constants.py\n",
    "email_reg = re.compile(\"\\w+@[a-z]+\\.[a-z.]+\")\n",
    "#sales.py\n",
    "#from constants import email_reg\n",
    "obj = email_reg.findall(s,re.I)\n",
    "print(obj)"
   ]
  },
  {
   "cell_type": "code",
   "execution_count": null,
   "metadata": {},
   "outputs": [],
   "source": []
  }
 ],
 "metadata": {
  "kernelspec": {
   "display_name": "Python 3",
   "language": "python",
   "name": "python3"
  },
  "language_info": {
   "codemirror_mode": {
    "name": "ipython",
    "version": 3
   },
   "file_extension": ".py",
   "mimetype": "text/x-python",
   "name": "python",
   "nbconvert_exporter": "python",
   "pygments_lexer": "ipython3",
   "version": "3.7.3"
  }
 },
 "nbformat": 4,
 "nbformat_minor": 2
}
