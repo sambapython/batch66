{
 "cells": [
  {
   "cell_type": "code",
   "execution_count": 1,
   "metadata": {},
   "outputs": [
    {
     "name": "stdout",
     "output_type": "stream",
     "text": [
      "this is class\n"
     ]
    }
   ],
   "source": [
    "def fun():\n",
    "    print(\"this is fun\")\n",
    "class Emp:\n",
    "    print(\"this is class\")"
   ]
  },
  {
   "cell_type": "code",
   "execution_count": 2,
   "metadata": {},
   "outputs": [
    {
     "name": "stdout",
     "output_type": "stream",
     "text": [
      "this is fun\n"
     ]
    }
   ],
   "source": [
    "fun()"
   ]
  },
  {
   "cell_type": "code",
   "execution_count": 4,
   "metadata": {},
   "outputs": [
    {
     "name": "stdout",
     "output_type": "stream",
     "text": [
      "<class '__main__.Emp'>\n"
     ]
    }
   ],
   "source": [
    "class Emp: \n",
    "# class object(Emp), in stack it will create a frame. in the fram it will add(name,emp_id)\n",
    "    name=\"Jay\"\n",
    "    emp_id=20\n",
    "print(Emp)"
   ]
  },
  {
   "cell_type": "code",
   "execution_count": 5,
   "metadata": {},
   "outputs": [
    {
     "name": "stdout",
     "output_type": "stream",
     "text": [
      "<class '__main__.Emp'>\n",
      "Jay\n",
      "20\n"
     ]
    }
   ],
   "source": [
    "class Emp: \n",
    "# class object(Emp), in stack it will create a frame. in the fram it will add(name,emp_id)\n",
    "    name=\"Jay\"\n",
    "    emp_id=20\n",
    "print(Emp)\n",
    "print(Emp.name)\n",
    "print(Emp.emp_id)"
   ]
  },
  {
   "cell_type": "code",
   "execution_count": 6,
   "metadata": {},
   "outputs": [],
   "source": [
    "class Emp: \n",
    "# class object(Emp), in stack it will create a frame. \n",
    "#in the frame it will add(name,fun,emp_id)\n",
    "    name=\"Jay\"\n",
    "    emp_id=20\n",
    "    def fun(x):\n",
    "        print(\"this is fun in class\")\n"
   ]
  },
  {
   "cell_type": "code",
   "execution_count": 7,
   "metadata": {},
   "outputs": [
    {
     "name": "stdout",
     "output_type": "stream",
     "text": [
      "this is fun in class\n"
     ]
    }
   ],
   "source": [
    "class Emp: \n",
    "# class object(Emp), in stack it will create a frame. \n",
    "#in the frame it will add(name,fun,emp_id)\n",
    "    name=\"Jay\"\n",
    "    emp_id=20\n",
    "    def fun(x):\n",
    "        print(\"this is fun in class\")\n",
    "Emp.fun(10)"
   ]
  },
  {
   "cell_type": "code",
   "execution_count": 8,
   "metadata": {},
   "outputs": [],
   "source": [
    "class Emp: \n",
    "# class object(Emp), in stack it will create a frame. \n",
    "#in the frame it will add(get)\n",
    "    def get(x):\n",
    "        print(\"this is get\")\n",
    "    \n",
    "jay=Emp() # Emp() is a data object, jay is a reference of data object"
   ]
  },
  {
   "cell_type": "code",
   "execution_count": 9,
   "metadata": {},
   "outputs": [
    {
     "name": "stdout",
     "output_type": "stream",
     "text": [
      "jayaram 20 Khyaathi\n"
     ]
    }
   ],
   "source": [
    "class Emp: \n",
    "# class object(Emp), in stack it will create a frame. \n",
    "#in the frame it will add(get)\n",
    "    company_name=\"Khyaathi\"# class object attribute\n",
    "    def get(x):\n",
    "        print(\"this is get\")\n",
    "    \n",
    "jay=Emp() # Emp() is a data object, jay is a reference of data object\n",
    "jay.name=\"jayaram\"\n",
    "jay.id=20 #name,id are data object attributes\n",
    "print(jay.name,jay.id,jay.company_name)\n",
    "# the class object attributes(company_name) can be access using data object"
   ]
  },
  {
   "cell_type": "code",
   "execution_count": 10,
   "metadata": {},
   "outputs": [
    {
     "name": "stdout",
     "output_type": "stream",
     "text": [
      "jayaram 20 Khyaathi\n"
     ]
    },
    {
     "ename": "AttributeError",
     "evalue": "type object 'Emp' has no attribute 'name'",
     "output_type": "error",
     "traceback": [
      "\u001b[0;31m---------------------------------------------------------------------------\u001b[0m",
      "\u001b[0;31mAttributeError\u001b[0m                            Traceback (most recent call last)",
      "\u001b[0;32m<ipython-input-10-9eb1b00ee73f>\u001b[0m in \u001b[0;36m<module>\u001b[0;34m\u001b[0m\n\u001b[1;32m     11\u001b[0m \u001b[0mprint\u001b[0m\u001b[0;34m(\u001b[0m\u001b[0mjay\u001b[0m\u001b[0;34m.\u001b[0m\u001b[0mname\u001b[0m\u001b[0;34m,\u001b[0m\u001b[0mjay\u001b[0m\u001b[0;34m.\u001b[0m\u001b[0mid\u001b[0m\u001b[0;34m,\u001b[0m\u001b[0mjay\u001b[0m\u001b[0;34m.\u001b[0m\u001b[0mcompany_name\u001b[0m\u001b[0;34m)\u001b[0m\u001b[0;34m\u001b[0m\u001b[0;34m\u001b[0m\u001b[0m\n\u001b[1;32m     12\u001b[0m \u001b[0;31m# the class object attributes(company_name) can be access using data object\u001b[0m\u001b[0;34m\u001b[0m\u001b[0;34m\u001b[0m\u001b[0;34m\u001b[0m\u001b[0m\n\u001b[0;32m---> 13\u001b[0;31m \u001b[0mprint\u001b[0m\u001b[0;34m(\u001b[0m\u001b[0mEmp\u001b[0m\u001b[0;34m.\u001b[0m\u001b[0mname\u001b[0m\u001b[0;34m)\u001b[0m\u001b[0;31m# the data object attribute cant access using class object\u001b[0m\u001b[0;34m\u001b[0m\u001b[0;34m\u001b[0m\u001b[0m\n\u001b[0m",
      "\u001b[0;31mAttributeError\u001b[0m: type object 'Emp' has no attribute 'name'"
     ]
    }
   ],
   "source": [
    "class Emp: \n",
    "# class object(Emp), in stack it will create a frame. \n",
    "#in the frame it will add(get)\n",
    "    company_name=\"Khyaathi\"# class object attribute\n",
    "    def get(x):\n",
    "        print(\"this is get\")\n",
    "    \n",
    "jay=Emp() # Emp() is a data object, jay is a reference of data object\n",
    "jay.name=\"jayaram\"\n",
    "jay.id=20 #name,id are data object attributes\n",
    "print(jay.name,jay.id,jay.company_name)\n",
    "# the class object attributes(company_name) can be access using data object\n",
    "print(Emp.name)# the data object attribute cant access using class object"
   ]
  },
  {
   "cell_type": "code",
   "execution_count": 11,
   "metadata": {},
   "outputs": [
    {
     "name": "stdout",
     "output_type": "stream",
     "text": [
      "jayaram 20 Khyaathi\n",
      "Khyaathi\n"
     ]
    }
   ],
   "source": [
    "class Emp: \n",
    "# class object(Emp), in stack it will create a frame. \n",
    "#in the frame it will add(get)\n",
    "    company_name=\"Khyaathi\"# class object attribute\n",
    "    def get(x):\n",
    "        print(\"this is get\")\n",
    "    \n",
    "jay=Emp() # Emp() is a data object, jay is a reference of data object\n",
    "jay.name=\"jayaram\"\n",
    "jay.id=20 #name,id are data object attributes\n",
    "print(jay.name,jay.id,jay.company_name)\n",
    "# the class object attributes(company_name) can be access using data object\n",
    "jay.company_name=\"KHYAATHI\"\n",
    "print(Emp.company_name)\n",
    "print(jay.company_name)"
   ]
  },
  {
   "cell_type": "code",
   "execution_count": 12,
   "metadata": {},
   "outputs": [
    {
     "name": "stdout",
     "output_type": "stream",
     "text": [
      "jayaram 20\n"
     ]
    }
   ],
   "source": [
    "class Emp: \n",
    "    def get(x):\n",
    "        print(x.name,x.id)\n",
    "jay=Emp()\n",
    "jay.name=\"jayaram\"\n",
    "jay.id=20\n",
    "Emp.get(jay)"
   ]
  },
  {
   "cell_type": "code",
   "execution_count": 13,
   "metadata": {},
   "outputs": [
    {
     "name": "stdout",
     "output_type": "stream",
     "text": [
      "jayaram 20\n",
      "Vedhanvesh 23\n"
     ]
    }
   ],
   "source": [
    "class Emp: \n",
    "    def get(x):\n",
    "        print(x.name,x.id)\n",
    "jay=Emp()\n",
    "jay.name=\"jayaram\"\n",
    "jay.id=20\n",
    "Emp.get(jay)\n",
    "vedha = Emp()\n",
    "vedha.name=\"Vedhanvesh\"\n",
    "vedha.id=23\n",
    "Emp.get(vedha)"
   ]
  },
  {
   "cell_type": "code",
   "execution_count": 14,
   "metadata": {},
   "outputs": [
    {
     "name": "stdout",
     "output_type": "stream",
     "text": [
      "jayaram 20 KHYAATHI\n",
      "Vedhanvesh 23 KHYAATHI\n"
     ]
    }
   ],
   "source": [
    "class Emp:\n",
    "    company_name=\"khyaathi\"\n",
    "    def get(x):\n",
    "        print(x.name,x.id,x.company_name)\n",
    "jay=Emp()\n",
    "jay.name=\"jayaram\"\n",
    "jay.id=20\n",
    "jay.company_name=\"KHYAATHI\"\n",
    "Emp.get(jay)\n",
    "vedha = Emp()\n",
    "vedha.name=\"Vedhanvesh\"\n",
    "vedha.id=23\n",
    "vedha.company_name=\"KHYAATHI\"\n",
    "Emp.get(vedha)"
   ]
  },
  {
   "cell_type": "code",
   "execution_count": null,
   "metadata": {},
   "outputs": [],
   "source": [
    "class Emp:\n",
    "    company_name=\"khyaathi\"\n",
    "    def get(x):\n",
    "        print(x.name,x.id,x.company_name)\n",
    "jay=Emp()\n",
    "jay.name=\"jayaram\"\n",
    "jay.id=20\n",
    "jay.company_name=\"KHYAATHI\"\n",
    "Emp.get(jay)\n",
    "vedha = Emp()\n",
    "vedha.name=\"Vedhanvesh\"\n",
    "vedha.id=23\n",
    "vedha.company_name=\"KHYAATHI\"\n",
    "Emp.get(vedha)"
   ]
  },
  {
   "cell_type": "code",
   "execution_count": 15,
   "metadata": {},
   "outputs": [
    {
     "name": "stdout",
     "output_type": "stream",
     "text": [
      "['__class__', '__delattr__', '__dict__', '__dir__', '__doc__', '__eq__', '__format__', '__ge__', '__getattribute__', '__gt__', '__hash__', '__init__', '__init_subclass__', '__le__', '__lt__', '__module__', '__ne__', '__new__', '__reduce__', '__reduce_ex__', '__repr__', '__setattr__', '__sizeof__', '__str__', '__subclasshook__', '__weakref__', 'company_name', 'get', 'id', 'name']\n"
     ]
    }
   ],
   "source": [
    "print(dir(jay))"
   ]
  },
  {
   "cell_type": "code",
   "execution_count": 17,
   "metadata": {},
   "outputs": [
    {
     "name": "stdout",
     "output_type": "stream",
     "text": [
      "jayaram 20 khyaathi KHYAATHI\n",
      "Vedhanvesh 23 khyaathi KHYAATHI\n"
     ]
    }
   ],
   "source": [
    "class Emp:\n",
    "    company_name=\"khyaathi\"\n",
    "    def get(x):\n",
    "        print(x.name,x.id,x.__class__.company_name,x.company_name)\n",
    "jay=Emp()\n",
    "jay.name=\"jayaram\"\n",
    "jay.id=20\n",
    "jay.company_name=\"KHYAATHI\"\n",
    "Emp.get(jay)\n",
    "vedha = Emp()\n",
    "vedha.name=\"Vedhanvesh\"\n",
    "vedha.id=23\n",
    "vedha.company_name=\"KHYAATHI\"\n",
    "Emp.get(vedha)"
   ]
  },
  {
   "cell_type": "code",
   "execution_count": 20,
   "metadata": {},
   "outputs": [
    {
     "name": "stdout",
     "output_type": "stream",
     "text": [
      "jayaram 20\n",
      "Vedhanvesh 23\n"
     ]
    }
   ],
   "source": [
    "class Emp:\n",
    "    def get(x):\n",
    "        print(x.name,x.id)\n",
    "jay=Emp()\n",
    "jay.name=\"jayaram\"\n",
    "jay.id=20\n",
    "Emp.get(jay)\n",
    "vedha = Emp()\n",
    "vedha.name=\"Vedhanvesh\"\n",
    "vedha.id=23\n",
    "vedha.sal=23456\n",
    "Emp.get(vedha)"
   ]
  },
  {
   "cell_type": "code",
   "execution_count": 21,
   "metadata": {},
   "outputs": [
    {
     "ename": "AttributeError",
     "evalue": "'Emp' object has no attribute 'sal'",
     "output_type": "error",
     "traceback": [
      "\u001b[0;31m---------------------------------------------------------------------------\u001b[0m",
      "\u001b[0;31mAttributeError\u001b[0m                            Traceback (most recent call last)",
      "\u001b[0;32m<ipython-input-21-53ede08bc42c>\u001b[0m in \u001b[0;36m<module>\u001b[0;34m\u001b[0m\n\u001b[1;32m      5\u001b[0m \u001b[0mjay\u001b[0m\u001b[0;34m.\u001b[0m\u001b[0mname\u001b[0m\u001b[0;34m=\u001b[0m\u001b[0;34m\"jayaram\"\u001b[0m\u001b[0;34m\u001b[0m\u001b[0;34m\u001b[0m\u001b[0m\n\u001b[1;32m      6\u001b[0m \u001b[0mjay\u001b[0m\u001b[0;34m.\u001b[0m\u001b[0mid\u001b[0m\u001b[0;34m=\u001b[0m\u001b[0;36m20\u001b[0m\u001b[0;34m\u001b[0m\u001b[0;34m\u001b[0m\u001b[0m\n\u001b[0;32m----> 7\u001b[0;31m \u001b[0mEmp\u001b[0m\u001b[0;34m.\u001b[0m\u001b[0mget\u001b[0m\u001b[0;34m(\u001b[0m\u001b[0mjay\u001b[0m\u001b[0;34m)\u001b[0m\u001b[0;34m\u001b[0m\u001b[0;34m\u001b[0m\u001b[0m\n\u001b[0m\u001b[1;32m      8\u001b[0m \u001b[0mvedha\u001b[0m \u001b[0;34m=\u001b[0m \u001b[0mEmp\u001b[0m\u001b[0;34m(\u001b[0m\u001b[0;34m)\u001b[0m\u001b[0;34m\u001b[0m\u001b[0;34m\u001b[0m\u001b[0m\n\u001b[1;32m      9\u001b[0m \u001b[0mvedha\u001b[0m\u001b[0;34m.\u001b[0m\u001b[0mname\u001b[0m\u001b[0;34m=\u001b[0m\u001b[0;34m\"Vedhanvesh\"\u001b[0m\u001b[0;34m\u001b[0m\u001b[0;34m\u001b[0m\u001b[0m\n",
      "\u001b[0;32m<ipython-input-21-53ede08bc42c>\u001b[0m in \u001b[0;36mget\u001b[0;34m(x)\u001b[0m\n\u001b[1;32m      1\u001b[0m \u001b[0;32mclass\u001b[0m \u001b[0mEmp\u001b[0m\u001b[0;34m:\u001b[0m\u001b[0;34m\u001b[0m\u001b[0;34m\u001b[0m\u001b[0m\n\u001b[1;32m      2\u001b[0m     \u001b[0;32mdef\u001b[0m \u001b[0mget\u001b[0m\u001b[0;34m(\u001b[0m\u001b[0mx\u001b[0m\u001b[0;34m)\u001b[0m\u001b[0;34m:\u001b[0m\u001b[0;34m\u001b[0m\u001b[0;34m\u001b[0m\u001b[0m\n\u001b[0;32m----> 3\u001b[0;31m         \u001b[0mprint\u001b[0m\u001b[0;34m(\u001b[0m\u001b[0mx\u001b[0m\u001b[0;34m.\u001b[0m\u001b[0mname\u001b[0m\u001b[0;34m,\u001b[0m\u001b[0mx\u001b[0m\u001b[0;34m.\u001b[0m\u001b[0mid\u001b[0m\u001b[0;34m,\u001b[0m\u001b[0mx\u001b[0m\u001b[0;34m.\u001b[0m\u001b[0msal\u001b[0m\u001b[0;34m)\u001b[0m\u001b[0;34m\u001b[0m\u001b[0;34m\u001b[0m\u001b[0m\n\u001b[0m\u001b[1;32m      4\u001b[0m \u001b[0mjay\u001b[0m\u001b[0;34m=\u001b[0m\u001b[0mEmp\u001b[0m\u001b[0;34m(\u001b[0m\u001b[0;34m)\u001b[0m\u001b[0;34m\u001b[0m\u001b[0;34m\u001b[0m\u001b[0m\n\u001b[1;32m      5\u001b[0m \u001b[0mjay\u001b[0m\u001b[0;34m.\u001b[0m\u001b[0mname\u001b[0m\u001b[0;34m=\u001b[0m\u001b[0;34m\"jayaram\"\u001b[0m\u001b[0;34m\u001b[0m\u001b[0;34m\u001b[0m\u001b[0m\n",
      "\u001b[0;31mAttributeError\u001b[0m: 'Emp' object has no attribute 'sal'"
     ]
    }
   ],
   "source": [
    "class Emp:\n",
    "    \n",
    "    def get(x):\n",
    "        print(x.name,x.id,x.sal)\n",
    "jay=Emp()\n",
    "jay.name=\"jayaram\"\n",
    "jay.id=20\n",
    "Emp.get(jay)\n",
    "vedha = Emp()\n",
    "vedha.name=\"Vedhanvesh\"\n",
    "vedha.id=23\n",
    "vedha.sal=23456\n",
    "Emp.get(vedha)"
   ]
  },
  {
   "cell_type": "code",
   "execution_count": 22,
   "metadata": {},
   "outputs": [
    {
     "name": "stdout",
     "output_type": "stream",
     "text": [
      "jayaram 20 0\n",
      "vedjanvesh 23 23456\n"
     ]
    }
   ],
   "source": [
    "class Emp:\n",
    "    def set_data(x,name,e_id,sal=0):\n",
    "        x.name=name\n",
    "        x.id=e_id\n",
    "        x.sal=sal\n",
    "    \n",
    "    def get(x):\n",
    "        print(x.name,x.id,x.sal)\n",
    "jay=Emp()\n",
    "Emp.set_data(jay,\"jayaram\",20)\n",
    "#jay.name=\"jayaram\"\n",
    "#jay.id=20\n",
    "Emp.get(jay)\n",
    "vedha = Emp()\n",
    "#vedha.name=\"Vedhanvesh\"\n",
    "#vedha.id=23\n",
    "#vedha.sal=23456\n",
    "Emp.set_data(vedha,\"vedjanvesh\",23,23456)\n",
    "Emp.get(vedha)"
   ]
  },
  {
   "cell_type": "code",
   "execution_count": 23,
   "metadata": {},
   "outputs": [
    {
     "name": "stdout",
     "output_type": "stream",
     "text": [
      "jayaram 20 0\n",
      "vedjanvesh 23 23456\n"
     ]
    }
   ],
   "source": [
    "class Emp:\n",
    "    def set_data(x,name,e_id,sal=0):\n",
    "        x.name=name\n",
    "        x.id=e_id\n",
    "        x.sal=sal\n",
    "    def get(x):\n",
    "        print(x.name,x.id,x.sal)\n",
    "jay=Emp()\n",
    "Emp.set_data(jay,\"jayaram\",20)\n",
    "Emp.get(jay)\n",
    "vedha = Emp()\n",
    "Emp.set_data(vedha,\"vedjanvesh\",23,23456)\n",
    "Emp.get(vedha)"
   ]
  },
  {
   "cell_type": "code",
   "execution_count": 24,
   "metadata": {},
   "outputs": [
    {
     "name": "stdout",
     "output_type": "stream",
     "text": [
      "jayaram 20 0\n",
      "vedjanvesh 23 23456\n"
     ]
    }
   ],
   "source": [
    "class Emp:\n",
    "    def set_data(x,name,e_id,sal=0):\n",
    "        x.name=name\n",
    "        x.id=e_id\n",
    "        x.sal=sal\n",
    "    def get(x):\n",
    "        print(x.name,x.id,x.sal)\n",
    "jay=Emp()\n",
    "jay.set_data(\"jayaram\",20)\n",
    "#Emp.set_data(jay,\"jayaram\",20)\n",
    "Emp.get(jay)\n",
    "vedha = Emp()\n",
    "vedha.set_data(\"vedjanvesh\",23,23456)\n",
    "#Emp.set_data(vedha,\"vedjanvesh\",23,23456)\n",
    "#Emp.get(vedha)\n",
    "vedha.get()"
   ]
  },
  {
   "cell_type": "code",
   "execution_count": 25,
   "metadata": {},
   "outputs": [
    {
     "name": "stdout",
     "output_type": "stream",
     "text": [
      "jayaram 20 0\n",
      "vedjanvesh 23 23456\n"
     ]
    }
   ],
   "source": [
    "class Emp:\n",
    "    def set_data(x,name,e_id,sal=0):\n",
    "        x.name=name\n",
    "        x.id=e_id\n",
    "        x.sal=sal\n",
    "    def get(x):\n",
    "        print(x.name,x.id,x.sal)\n",
    "jay=Emp()\n",
    "jay.set_data(\"jayaram\",20)\n",
    "jay.get()\n",
    "vedha = Emp()\n",
    "vedha.set_data(\"vedjanvesh\",23,23456)\n",
    "vedha.get()"
   ]
  },
  {
   "cell_type": "code",
   "execution_count": 26,
   "metadata": {},
   "outputs": [
    {
     "name": "stdout",
     "output_type": "stream",
     "text": [
      "jayaram 20 0\n",
      "vedjanvesh 23 23456\n"
     ]
    },
    {
     "ename": "AttributeError",
     "evalue": "'Emp' object has no attribute 'name'",
     "output_type": "error",
     "traceback": [
      "\u001b[0;31m---------------------------------------------------------------------------\u001b[0m",
      "\u001b[0;31mAttributeError\u001b[0m                            Traceback (most recent call last)",
      "\u001b[0;32m<ipython-input-26-bddbb6ce08fb>\u001b[0m in \u001b[0;36m<module>\u001b[0;34m\u001b[0m\n\u001b[1;32m     13\u001b[0m \u001b[0mvedha\u001b[0m\u001b[0;34m.\u001b[0m\u001b[0mget\u001b[0m\u001b[0;34m(\u001b[0m\u001b[0;34m)\u001b[0m\u001b[0;34m\u001b[0m\u001b[0;34m\u001b[0m\u001b[0m\n\u001b[1;32m     14\u001b[0m \u001b[0msai\u001b[0m\u001b[0;34m=\u001b[0m\u001b[0mEmp\u001b[0m\u001b[0;34m(\u001b[0m\u001b[0;34m)\u001b[0m\u001b[0;34m\u001b[0m\u001b[0;34m\u001b[0m\u001b[0m\n\u001b[0;32m---> 15\u001b[0;31m \u001b[0msai\u001b[0m\u001b[0;34m.\u001b[0m\u001b[0mget\u001b[0m\u001b[0;34m(\u001b[0m\u001b[0;34m)\u001b[0m\u001b[0;34m\u001b[0m\u001b[0;34m\u001b[0m\u001b[0m\n\u001b[0m",
      "\u001b[0;32m<ipython-input-26-bddbb6ce08fb>\u001b[0m in \u001b[0;36mget\u001b[0;34m(x)\u001b[0m\n\u001b[1;32m      5\u001b[0m         \u001b[0mx\u001b[0m\u001b[0;34m.\u001b[0m\u001b[0msal\u001b[0m\u001b[0;34m=\u001b[0m\u001b[0msal\u001b[0m\u001b[0;34m\u001b[0m\u001b[0;34m\u001b[0m\u001b[0m\n\u001b[1;32m      6\u001b[0m     \u001b[0;32mdef\u001b[0m \u001b[0mget\u001b[0m\u001b[0;34m(\u001b[0m\u001b[0mx\u001b[0m\u001b[0;34m)\u001b[0m\u001b[0;34m:\u001b[0m\u001b[0;34m\u001b[0m\u001b[0;34m\u001b[0m\u001b[0m\n\u001b[0;32m----> 7\u001b[0;31m         \u001b[0mprint\u001b[0m\u001b[0;34m(\u001b[0m\u001b[0mx\u001b[0m\u001b[0;34m.\u001b[0m\u001b[0mname\u001b[0m\u001b[0;34m,\u001b[0m\u001b[0mx\u001b[0m\u001b[0;34m.\u001b[0m\u001b[0mid\u001b[0m\u001b[0;34m,\u001b[0m\u001b[0mx\u001b[0m\u001b[0;34m.\u001b[0m\u001b[0msal\u001b[0m\u001b[0;34m)\u001b[0m\u001b[0;34m\u001b[0m\u001b[0;34m\u001b[0m\u001b[0m\n\u001b[0m\u001b[1;32m      8\u001b[0m \u001b[0mjay\u001b[0m\u001b[0;34m=\u001b[0m\u001b[0mEmp\u001b[0m\u001b[0;34m(\u001b[0m\u001b[0;34m)\u001b[0m\u001b[0;34m\u001b[0m\u001b[0;34m\u001b[0m\u001b[0m\n\u001b[1;32m      9\u001b[0m \u001b[0mjay\u001b[0m\u001b[0;34m.\u001b[0m\u001b[0mset_data\u001b[0m\u001b[0;34m(\u001b[0m\u001b[0;34m\"jayaram\"\u001b[0m\u001b[0;34m,\u001b[0m\u001b[0;36m20\u001b[0m\u001b[0;34m)\u001b[0m\u001b[0;34m\u001b[0m\u001b[0;34m\u001b[0m\u001b[0m\n",
      "\u001b[0;31mAttributeError\u001b[0m: 'Emp' object has no attribute 'name'"
     ]
    }
   ],
   "source": [
    "class Emp:\n",
    "    def set_data(x,name,e_id,sal=0):\n",
    "        x.name=name\n",
    "        x.id=e_id\n",
    "        x.sal=sal\n",
    "    def get(x):\n",
    "        print(x.name,x.id,x.sal)\n",
    "jay=Emp()\n",
    "jay.set_data(\"jayaram\",20)\n",
    "jay.get()\n",
    "vedha = Emp()\n",
    "vedha.set_data(\"vedjanvesh\",23,23456)\n",
    "vedha.get()\n",
    "sai=Emp()\n",
    "sai.get()"
   ]
  },
  {
   "cell_type": "code",
   "execution_count": null,
   "metadata": {},
   "outputs": [],
   "source": [
    "class Emp:\n",
    "    def set_data(x,name,e_id,sal=0):\n",
    "        x.name=name\n",
    "        x.id=e_id\n",
    "        x.sal=sal\n",
    "    def get(x):\n",
    "        print(x.name,x.id,x.sal)\n",
    "jay=Emp()\n",
    "jay.set_data(\"jayaram\",20)\n",
    "jay.get()\n",
    "vedha = Emp()\n",
    "vedha.set_data(\"vedjanvesh\",23,23456)\n",
    "vedha.get()\n",
    "sai=Emp()\n",
    "sai.get()"
   ]
  },
  {
   "cell_type": "code",
   "execution_count": 27,
   "metadata": {},
   "outputs": [
    {
     "name": "stdout",
     "output_type": "stream",
     "text": [
      "this is class\n"
     ]
    }
   ],
   "source": [
    "class Emp:\n",
    "    print(\"this is class\")"
   ]
  },
  {
   "cell_type": "code",
   "execution_count": 28,
   "metadata": {},
   "outputs": [
    {
     "name": "stdout",
     "output_type": "stream",
     "text": [
      "this is class\n"
     ]
    }
   ],
   "source": [
    "class Emp:\n",
    "    print(\"this is class\")\n",
    "    def get(x):\n",
    "        print(\"this is get\")\n"
   ]
  },
  {
   "cell_type": "code",
   "execution_count": 29,
   "metadata": {},
   "outputs": [
    {
     "name": "stdout",
     "output_type": "stream",
     "text": [
      "this is class\n"
     ]
    }
   ],
   "source": [
    "class Emp:\n",
    "    print(\"this is class\")\n",
    "    def get(x):\n",
    "        print(\"this is get\")\n",
    "jay=Emp()"
   ]
  },
  {
   "cell_type": "code",
   "execution_count": 30,
   "metadata": {},
   "outputs": [
    {
     "name": "stdout",
     "output_type": "stream",
     "text": [
      "this is class\n",
      "this is get\n"
     ]
    }
   ],
   "source": [
    "class Emp:\n",
    "    print(\"this is class\")\n",
    "    def get(x):\n",
    "        print(\"this is get\")\n",
    "jay=Emp()\n",
    "jay.get()"
   ]
  },
  {
   "cell_type": "code",
   "execution_count": 31,
   "metadata": {},
   "outputs": [
    {
     "name": "stdout",
     "output_type": "stream",
     "text": [
      "this is class\n",
      "this is init\n",
      "this is get\n"
     ]
    }
   ],
   "source": [
    "class Emp:\n",
    "    print(\"this is class\")\n",
    "    def __init__(x):\n",
    "        print(\"this is init\")\n",
    "    def get(x):\n",
    "        print(\"this is get\")\n",
    "jay=Emp()\n",
    "jay.get()"
   ]
  },
  {
   "cell_type": "code",
   "execution_count": 32,
   "metadata": {},
   "outputs": [
    {
     "name": "stdout",
     "output_type": "stream",
     "text": [
      "this is class\n",
      "this is init\n"
     ]
    }
   ],
   "source": [
    "class Emp:\n",
    "    print(\"this is class\")\n",
    "    def __init__(x):\n",
    "        print(\"this is init\")\n",
    "    def get(x):\n",
    "        print(\"this is get\")\n",
    "jay=Emp()\n"
   ]
  },
  {
   "cell_type": "code",
   "execution_count": 33,
   "metadata": {},
   "outputs": [
    {
     "name": "stdout",
     "output_type": "stream",
     "text": [
      "this is class\n"
     ]
    }
   ],
   "source": [
    "class Emp:\n",
    "    print(\"this is class\")\n",
    "    def __init__(x):\n",
    "        print(\"this is init\")\n",
    "    def get(x):\n",
    "        print(\"this is get\")\n",
    "\n"
   ]
  },
  {
   "cell_type": "code",
   "execution_count": 35,
   "metadata": {},
   "outputs": [
    {
     "name": "stdout",
     "output_type": "stream",
     "text": [
      "this is class\n",
      "this is init\n",
      "this is init\n"
     ]
    }
   ],
   "source": [
    "class Emp:\n",
    "    print(\"this is class\")\n",
    "    def __init__(x):\n",
    "        print(\"this is init\")\n",
    "    def get(x):\n",
    "        print(\"this is get\")\n",
    "jay=Emp()\n",
    "vedha=Emp()"
   ]
  },
  {
   "cell_type": "code",
   "execution_count": 36,
   "metadata": {},
   "outputs": [
    {
     "name": "stdout",
     "output_type": "stream",
     "text": [
      "this is class\n",
      "('jayaram', 20, 0)\n",
      "('vedhanvesh', 23, 23456)\n"
     ]
    }
   ],
   "source": [
    "class Emp:\n",
    "    print(\"this is class\")\n",
    "    def __init__(x,name,e_id,sal=0):\n",
    "        x.name=name\n",
    "        x.id=e_id\n",
    "        x.sal=sal\n",
    "    def get(x):\n",
    "        return x.name,x.id,x.sal\n",
    "jay=Emp(\"jayaram\",20)\n",
    "vedha=Emp(\"vedhanvesh\",23,23456)\n",
    "print(jay.get())\n",
    "print(vedha.get())"
   ]
  },
  {
   "cell_type": "code",
   "execution_count": 37,
   "metadata": {},
   "outputs": [
    {
     "name": "stdout",
     "output_type": "stream",
     "text": [
      "this is class\n",
      "('jayaram', 20, 0)\n",
      "('vedhanvesh', 23, 23456)\n"
     ]
    },
    {
     "ename": "TypeError",
     "evalue": "__init__() missing 2 required positional arguments: 'name' and 'e_id'",
     "output_type": "error",
     "traceback": [
      "\u001b[0;31m---------------------------------------------------------------------------\u001b[0m",
      "\u001b[0;31mTypeError\u001b[0m                                 Traceback (most recent call last)",
      "\u001b[0;32m<ipython-input-37-cb76f0a7d4fe>\u001b[0m in \u001b[0;36m<module>\u001b[0;34m\u001b[0m\n\u001b[1;32m     11\u001b[0m \u001b[0mprint\u001b[0m\u001b[0;34m(\u001b[0m\u001b[0mjay\u001b[0m\u001b[0;34m.\u001b[0m\u001b[0mget\u001b[0m\u001b[0;34m(\u001b[0m\u001b[0;34m)\u001b[0m\u001b[0;34m)\u001b[0m\u001b[0;34m\u001b[0m\u001b[0;34m\u001b[0m\u001b[0m\n\u001b[1;32m     12\u001b[0m \u001b[0mprint\u001b[0m\u001b[0;34m(\u001b[0m\u001b[0mvedha\u001b[0m\u001b[0;34m.\u001b[0m\u001b[0mget\u001b[0m\u001b[0;34m(\u001b[0m\u001b[0;34m)\u001b[0m\u001b[0;34m)\u001b[0m\u001b[0;34m\u001b[0m\u001b[0;34m\u001b[0m\u001b[0m\n\u001b[0;32m---> 13\u001b[0;31m \u001b[0msai\u001b[0m\u001b[0;34m=\u001b[0m\u001b[0mEmp\u001b[0m\u001b[0;34m(\u001b[0m\u001b[0;34m)\u001b[0m\u001b[0;34m\u001b[0m\u001b[0;34m\u001b[0m\u001b[0m\n\u001b[0m\u001b[1;32m     14\u001b[0m \u001b[0mprint\u001b[0m\u001b[0;34m(\u001b[0m\u001b[0msai\u001b[0m\u001b[0;34m.\u001b[0m\u001b[0mget\u001b[0m\u001b[0;34m(\u001b[0m\u001b[0;34m)\u001b[0m\u001b[0;34m)\u001b[0m\u001b[0;34m\u001b[0m\u001b[0;34m\u001b[0m\u001b[0m\n",
      "\u001b[0;31mTypeError\u001b[0m: __init__() missing 2 required positional arguments: 'name' and 'e_id'"
     ]
    }
   ],
   "source": [
    "class Emp:\n",
    "    print(\"this is class\")\n",
    "    def __init__(x,name,e_id,sal=0):\n",
    "        x.name=name\n",
    "        x.id=e_id\n",
    "        x.sal=sal\n",
    "    def get(x):\n",
    "        return x.name,x.id,x.sal\n",
    "jay=Emp(\"jayaram\",20)\n",
    "vedha=Emp(\"vedhanvesh\",23,23456)\n",
    "print(jay.get())\n",
    "print(vedha.get())\n",
    "sai=Emp()\n",
    "print(sai.get())"
   ]
  },
  {
   "cell_type": "code",
   "execution_count": 38,
   "metadata": {},
   "outputs": [
    {
     "name": "stdout",
     "output_type": "stream",
     "text": [
      "this is class\n",
      "('jayaram', 20, 0)\n",
      "('vedhanvesh', 23, 23456)\n",
      "('', 0, 0)\n"
     ]
    }
   ],
   "source": [
    "class Emp:\n",
    "    print(\"this is class\")\n",
    "    def __init__(x,name=\"\",e_id=0,sal=0):\n",
    "        x.name=name\n",
    "        x.id=e_id\n",
    "        x.sal=sal\n",
    "    def get(x):\n",
    "        return x.name,x.id,x.sal\n",
    "jay=Emp(\"jayaram\",20)\n",
    "vedha=Emp(\"vedhanvesh\",23,23456)\n",
    "print(jay.get())\n",
    "print(vedha.get())\n",
    "sai=Emp()\n",
    "print(sai.get())"
   ]
  },
  {
   "cell_type": "code",
   "execution_count": 39,
   "metadata": {},
   "outputs": [
    {
     "name": "stdout",
     "output_type": "stream",
     "text": [
      "this is class\n",
      "('jayaram', 20, 0)\n",
      "('vedhanvesh', 23, 23456)\n",
      "('', 0, 0)\n"
     ]
    }
   ],
   "source": [
    "class Emp:\n",
    "    print(\"this is class\")\n",
    "    def __init__(self,name=\"\",e_id=0,sal=0):\n",
    "        self.name=name\n",
    "        self.id=e_id\n",
    "        self.sal=sal\n",
    "    def get(self):\n",
    "        return self.name,self.id,self.sal\n",
    "jay=Emp(\"jayaram\",20)\n",
    "vedha=Emp(\"vedhanvesh\",23,23456)\n",
    "print(jay.get())\n",
    "print(vedha.get())\n",
    "sai=Emp()\n",
    "print(sai.get())"
   ]
  },
  {
   "cell_type": "code",
   "execution_count": null,
   "metadata": {},
   "outputs": [],
   "source": [
    "class Emp:\n",
    "    print(\"this is class\")\n",
    "    def __init__(self,name=\"\",e_id=0,sal=0):\n",
    "        self.name=name\n",
    "        self.id=e_id\n",
    "        self.sal=sal\n",
    "    def get(self):\n",
    "        return self.name,self.id,self.sal\n",
    "jay=Emp(\"jayaram\",20)\n",
    "vedha=Emp(\"vedhanvesh\",23,23456)\n",
    "print(jay.get())\n",
    "print(vedha.get())\n",
    "sai=Emp()\n",
    "print(sai.get())"
   ]
  },
  {
   "cell_type": "code",
   "execution_count": 40,
   "metadata": {},
   "outputs": [
    {
     "name": "stdout",
     "output_type": "stream",
     "text": [
      "this is class\n"
     ]
    },
    {
     "ename": "TypeError",
     "evalue": "get() takes 0 positional arguments but 1 was given",
     "output_type": "error",
     "traceback": [
      "\u001b[0;31m---------------------------------------------------------------------------\u001b[0m",
      "\u001b[0;31mTypeError\u001b[0m                                 Traceback (most recent call last)",
      "\u001b[0;32m<ipython-input-40-b07f9810ff54>\u001b[0m in \u001b[0;36m<module>\u001b[0;34m\u001b[0m\n\u001b[1;32m      8\u001b[0m         \u001b[0;32mreturn\u001b[0m \u001b[0mself\u001b[0m\u001b[0;34m.\u001b[0m\u001b[0mname\u001b[0m\u001b[0;34m,\u001b[0m\u001b[0mself\u001b[0m\u001b[0;34m.\u001b[0m\u001b[0mid\u001b[0m\u001b[0;34m,\u001b[0m\u001b[0mself\u001b[0m\u001b[0;34m.\u001b[0m\u001b[0msal\u001b[0m\u001b[0;34m\u001b[0m\u001b[0;34m\u001b[0m\u001b[0m\n\u001b[1;32m      9\u001b[0m \u001b[0mjay\u001b[0m\u001b[0;34m=\u001b[0m\u001b[0mEmp\u001b[0m\u001b[0;34m(\u001b[0m\u001b[0;34m\"jayaram\"\u001b[0m\u001b[0;34m,\u001b[0m\u001b[0;36m20\u001b[0m\u001b[0;34m)\u001b[0m\u001b[0;34m\u001b[0m\u001b[0;34m\u001b[0m\u001b[0m\n\u001b[0;32m---> 10\u001b[0;31m \u001b[0mjay\u001b[0m\u001b[0;34m.\u001b[0m\u001b[0mget\u001b[0m\u001b[0;34m(\u001b[0m\u001b[0;34m)\u001b[0m\u001b[0;34m\u001b[0m\u001b[0;34m\u001b[0m\u001b[0m\n\u001b[0m",
      "\u001b[0;31mTypeError\u001b[0m: get() takes 0 positional arguments but 1 was given"
     ]
    }
   ],
   "source": [
    "class Emp:\n",
    "    print(\"this is class\")\n",
    "    def __init__(self,name=\"\",e_id=0,sal=0):\n",
    "        self.name=name\n",
    "        self.id=e_id\n",
    "        self.sal=sal\n",
    "    def get():\n",
    "        return self.name,self.id,self.sal\n",
    "jay=Emp(\"jayaram\",20)\n",
    "jay.get()#Emp.get(jay)"
   ]
  },
  {
   "cell_type": "code",
   "execution_count": 41,
   "metadata": {},
   "outputs": [
    {
     "name": "stdout",
     "output_type": "stream",
     "text": [
      "this is class\n"
     ]
    },
    {
     "ename": "NameError",
     "evalue": "name 'self' is not defined",
     "output_type": "error",
     "traceback": [
      "\u001b[0;31m---------------------------------------------------------------------------\u001b[0m",
      "\u001b[0;31mNameError\u001b[0m                                 Traceback (most recent call last)",
      "\u001b[0;32m<ipython-input-41-4d02d993fd84>\u001b[0m in \u001b[0;36m<module>\u001b[0;34m\u001b[0m\n\u001b[1;32m      8\u001b[0m         \u001b[0;32mreturn\u001b[0m \u001b[0mself\u001b[0m\u001b[0;34m.\u001b[0m\u001b[0mname\u001b[0m\u001b[0;34m,\u001b[0m\u001b[0mself\u001b[0m\u001b[0;34m.\u001b[0m\u001b[0mid\u001b[0m\u001b[0;34m,\u001b[0m\u001b[0mself\u001b[0m\u001b[0;34m.\u001b[0m\u001b[0msal\u001b[0m\u001b[0;34m\u001b[0m\u001b[0;34m\u001b[0m\u001b[0m\n\u001b[1;32m      9\u001b[0m \u001b[0mjay\u001b[0m\u001b[0;34m=\u001b[0m\u001b[0mEmp\u001b[0m\u001b[0;34m(\u001b[0m\u001b[0;34m\"jayaram\"\u001b[0m\u001b[0;34m,\u001b[0m\u001b[0;36m20\u001b[0m\u001b[0;34m)\u001b[0m\u001b[0;34m\u001b[0m\u001b[0;34m\u001b[0m\u001b[0m\n\u001b[0;32m---> 10\u001b[0;31m \u001b[0mjay\u001b[0m\u001b[0;34m.\u001b[0m\u001b[0mget\u001b[0m\u001b[0;34m(\u001b[0m\u001b[0;34m)\u001b[0m\u001b[0;31m#Emp.get(jay)\u001b[0m\u001b[0;34m\u001b[0m\u001b[0;34m\u001b[0m\u001b[0m\n\u001b[0m",
      "\u001b[0;32m<ipython-input-41-4d02d993fd84>\u001b[0m in \u001b[0;36mget\u001b[0;34m(x)\u001b[0m\n\u001b[1;32m      6\u001b[0m         \u001b[0mself\u001b[0m\u001b[0;34m.\u001b[0m\u001b[0msal\u001b[0m\u001b[0;34m=\u001b[0m\u001b[0msal\u001b[0m\u001b[0;34m\u001b[0m\u001b[0;34m\u001b[0m\u001b[0m\n\u001b[1;32m      7\u001b[0m     \u001b[0;32mdef\u001b[0m \u001b[0mget\u001b[0m\u001b[0;34m(\u001b[0m\u001b[0mx\u001b[0m\u001b[0;34m)\u001b[0m\u001b[0;34m:\u001b[0m\u001b[0;34m\u001b[0m\u001b[0;34m\u001b[0m\u001b[0m\n\u001b[0;32m----> 8\u001b[0;31m         \u001b[0;32mreturn\u001b[0m \u001b[0mself\u001b[0m\u001b[0;34m.\u001b[0m\u001b[0mname\u001b[0m\u001b[0;34m,\u001b[0m\u001b[0mself\u001b[0m\u001b[0;34m.\u001b[0m\u001b[0mid\u001b[0m\u001b[0;34m,\u001b[0m\u001b[0mself\u001b[0m\u001b[0;34m.\u001b[0m\u001b[0msal\u001b[0m\u001b[0;34m\u001b[0m\u001b[0;34m\u001b[0m\u001b[0m\n\u001b[0m\u001b[1;32m      9\u001b[0m \u001b[0mjay\u001b[0m\u001b[0;34m=\u001b[0m\u001b[0mEmp\u001b[0m\u001b[0;34m(\u001b[0m\u001b[0;34m\"jayaram\"\u001b[0m\u001b[0;34m,\u001b[0m\u001b[0;36m20\u001b[0m\u001b[0;34m)\u001b[0m\u001b[0;34m\u001b[0m\u001b[0;34m\u001b[0m\u001b[0m\n\u001b[1;32m     10\u001b[0m \u001b[0mjay\u001b[0m\u001b[0;34m.\u001b[0m\u001b[0mget\u001b[0m\u001b[0;34m(\u001b[0m\u001b[0;34m)\u001b[0m\u001b[0;31m#Emp.get(jay)\u001b[0m\u001b[0;34m\u001b[0m\u001b[0;34m\u001b[0m\u001b[0m\n",
      "\u001b[0;31mNameError\u001b[0m: name 'self' is not defined"
     ]
    }
   ],
   "source": [
    "class Emp:\n",
    "    print(\"this is class\")\n",
    "    def __init__(self,name=\"\",e_id=0,sal=0):\n",
    "        self.name=name\n",
    "        self.id=e_id\n",
    "        self.sal=sal\n",
    "    def get(x):\n",
    "        return self.name,self.id,self.sal\n",
    "jay=Emp(\"jayaram\",20)\n",
    "jay.get()#Emp.get(jay)"
   ]
  },
  {
   "cell_type": "code",
   "execution_count": 42,
   "metadata": {},
   "outputs": [
    {
     "name": "stdout",
     "output_type": "stream",
     "text": [
      "this is class\n"
     ]
    },
    {
     "data": {
      "text/plain": [
       "('jayaram', 20, 0)"
      ]
     },
     "execution_count": 42,
     "metadata": {},
     "output_type": "execute_result"
    }
   ],
   "source": [
    "class Emp:\n",
    "    print(\"this is class\")\n",
    "    def __init__(self,name=\"\",e_id=0,sal=0):\n",
    "        self.name=name\n",
    "        self.id=e_id\n",
    "        self.sal=sal\n",
    "    def get(x):\n",
    "        return x.name,x.id,x.sal\n",
    "jay=Emp(\"jayaram\",20)\n",
    "jay.get()#Emp.get(jay)"
   ]
  },
  {
   "cell_type": "code",
   "execution_count": 43,
   "metadata": {},
   "outputs": [
    {
     "name": "stdout",
     "output_type": "stream",
     "text": [
      "this is class\n"
     ]
    },
    {
     "data": {
      "text/plain": [
       "('jayaram', 20, 0)"
      ]
     },
     "execution_count": 43,
     "metadata": {},
     "output_type": "execute_result"
    }
   ],
   "source": [
    "class Emp:\n",
    "    print(\"this is class\")\n",
    "    def __init__(self,name=\"\",e_id=0,sal=0):\n",
    "        self.name=name\n",
    "        self.id=e_id\n",
    "        self.sal=sal\n",
    "    def get(self):\n",
    "        return self.name,self.id,self.sal\n",
    "jay=Emp(\"jayaram\",20)\n",
    "jay.get()#Emp.get(jay)"
   ]
  },
  {
   "cell_type": "code",
   "execution_count": 44,
   "metadata": {},
   "outputs": [
    {
     "name": "stdout",
     "output_type": "stream",
     "text": [
      "this is class\n"
     ]
    },
    {
     "ename": "TypeError",
     "evalue": "get() takes 0 positional arguments but 1 was given",
     "output_type": "error",
     "traceback": [
      "\u001b[0;31m---------------------------------------------------------------------------\u001b[0m",
      "\u001b[0;31mTypeError\u001b[0m                                 Traceback (most recent call last)",
      "\u001b[0;32m<ipython-input-44-1945b291a522>\u001b[0m in \u001b[0;36m<module>\u001b[0;34m\u001b[0m\n\u001b[1;32m      8\u001b[0m         \u001b[0;32mreturn\u001b[0m \u001b[0mname\u001b[0m\u001b[0;34m,\u001b[0m\u001b[0mid\u001b[0m\u001b[0;34m,\u001b[0m\u001b[0msal\u001b[0m\u001b[0;34m\u001b[0m\u001b[0;34m\u001b[0m\u001b[0m\n\u001b[1;32m      9\u001b[0m \u001b[0mjay\u001b[0m\u001b[0;34m=\u001b[0m\u001b[0mEmp\u001b[0m\u001b[0;34m(\u001b[0m\u001b[0;34m\"jayaram\"\u001b[0m\u001b[0;34m,\u001b[0m\u001b[0;36m20\u001b[0m\u001b[0;34m)\u001b[0m\u001b[0;34m\u001b[0m\u001b[0;34m\u001b[0m\u001b[0m\n\u001b[0;32m---> 10\u001b[0;31m \u001b[0mjay\u001b[0m\u001b[0;34m.\u001b[0m\u001b[0mget\u001b[0m\u001b[0;34m(\u001b[0m\u001b[0;34m)\u001b[0m\u001b[0;31m#Emp.get(jay)\u001b[0m\u001b[0;34m\u001b[0m\u001b[0;34m\u001b[0m\u001b[0m\n\u001b[0m",
      "\u001b[0;31mTypeError\u001b[0m: get() takes 0 positional arguments but 1 was given"
     ]
    }
   ],
   "source": [
    "class Emp:\n",
    "    print(\"this is class\")\n",
    "    def __init__(self,name=\"\",e_id=0,sal=0):\n",
    "        self.name=name\n",
    "        self.id=e_id\n",
    "        self.sal=sal\n",
    "    def get():\n",
    "        return name,id,sal\n",
    "jay=Emp(\"jayaram\",20)\n",
    "jay.get()#Emp.get(jay)"
   ]
  },
  {
   "cell_type": "code",
   "execution_count": 45,
   "metadata": {},
   "outputs": [
    {
     "name": "stdout",
     "output_type": "stream",
     "text": [
      "this is class\n"
     ]
    },
    {
     "ename": "NameError",
     "evalue": "name 'name' is not defined",
     "output_type": "error",
     "traceback": [
      "\u001b[0;31m---------------------------------------------------------------------------\u001b[0m",
      "\u001b[0;31mNameError\u001b[0m                                 Traceback (most recent call last)",
      "\u001b[0;32m<ipython-input-45-823d28844611>\u001b[0m in \u001b[0;36m<module>\u001b[0;34m\u001b[0m\n\u001b[1;32m      9\u001b[0m \u001b[0mjay\u001b[0m\u001b[0;34m=\u001b[0m\u001b[0mEmp\u001b[0m\u001b[0;34m(\u001b[0m\u001b[0;34m\"jayaram\"\u001b[0m\u001b[0;34m,\u001b[0m\u001b[0;36m20\u001b[0m\u001b[0;34m)\u001b[0m\u001b[0;34m\u001b[0m\u001b[0;34m\u001b[0m\u001b[0m\n\u001b[1;32m     10\u001b[0m \u001b[0;31m#jay.get()#Emp.get(jay)\u001b[0m\u001b[0;34m\u001b[0m\u001b[0;34m\u001b[0m\u001b[0;34m\u001b[0m\u001b[0m\n\u001b[0;32m---> 11\u001b[0;31m \u001b[0mEmp\u001b[0m\u001b[0;34m.\u001b[0m\u001b[0mget\u001b[0m\u001b[0;34m(\u001b[0m\u001b[0;34m)\u001b[0m\u001b[0;34m\u001b[0m\u001b[0;34m\u001b[0m\u001b[0m\n\u001b[0m",
      "\u001b[0;32m<ipython-input-45-823d28844611>\u001b[0m in \u001b[0;36mget\u001b[0;34m()\u001b[0m\n\u001b[1;32m      6\u001b[0m         \u001b[0mself\u001b[0m\u001b[0;34m.\u001b[0m\u001b[0msal\u001b[0m\u001b[0;34m=\u001b[0m\u001b[0msal\u001b[0m\u001b[0;34m\u001b[0m\u001b[0;34m\u001b[0m\u001b[0m\n\u001b[1;32m      7\u001b[0m     \u001b[0;32mdef\u001b[0m \u001b[0mget\u001b[0m\u001b[0;34m(\u001b[0m\u001b[0;34m)\u001b[0m\u001b[0;34m:\u001b[0m\u001b[0;34m\u001b[0m\u001b[0;34m\u001b[0m\u001b[0m\n\u001b[0;32m----> 8\u001b[0;31m         \u001b[0;32mreturn\u001b[0m \u001b[0mname\u001b[0m\u001b[0;34m,\u001b[0m\u001b[0mid\u001b[0m\u001b[0;34m,\u001b[0m\u001b[0msal\u001b[0m\u001b[0;34m\u001b[0m\u001b[0;34m\u001b[0m\u001b[0m\n\u001b[0m\u001b[1;32m      9\u001b[0m \u001b[0mjay\u001b[0m\u001b[0;34m=\u001b[0m\u001b[0mEmp\u001b[0m\u001b[0;34m(\u001b[0m\u001b[0;34m\"jayaram\"\u001b[0m\u001b[0;34m,\u001b[0m\u001b[0;36m20\u001b[0m\u001b[0;34m)\u001b[0m\u001b[0;34m\u001b[0m\u001b[0;34m\u001b[0m\u001b[0m\n\u001b[1;32m     10\u001b[0m \u001b[0;31m#jay.get()#Emp.get(jay)\u001b[0m\u001b[0;34m\u001b[0m\u001b[0;34m\u001b[0m\u001b[0;34m\u001b[0m\u001b[0m\n",
      "\u001b[0;31mNameError\u001b[0m: name 'name' is not defined"
     ]
    }
   ],
   "source": [
    "class Emp:\n",
    "    print(\"this is class\")\n",
    "    def __init__(self,name=\"\",e_id=0,sal=0):\n",
    "        self.name=name\n",
    "        self.id=e_id\n",
    "        self.sal=sal\n",
    "    def get():\n",
    "        return name,id,sal\n",
    "jay=Emp(\"jayaram\",20)\n",
    "#jay.get()#Emp.get(jay)\n",
    "Emp.get()"
   ]
  },
  {
   "cell_type": "code",
   "execution_count": null,
   "metadata": {},
   "outputs": [],
   "source": []
  }
 ],
 "metadata": {
  "kernelspec": {
   "display_name": "Python 3",
   "language": "python",
   "name": "python3"
  },
  "language_info": {
   "codemirror_mode": {
    "name": "ipython",
    "version": 3
   },
   "file_extension": ".py",
   "mimetype": "text/x-python",
   "name": "python",
   "nbconvert_exporter": "python",
   "pygments_lexer": "ipython3",
   "version": "3.7.3"
  }
 },
 "nbformat": 4,
 "nbformat_minor": 2
}
