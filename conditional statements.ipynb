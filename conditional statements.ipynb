{
 "cells": [
  {
   "cell_type": "code",
   "execution_count": 1,
   "metadata": {},
   "outputs": [
    {
     "name": "stdout",
     "output_type": "stream",
     "text": [
      "Enter a value:1\n",
      "Enter v value:3\n",
      "a is big\n",
      "b is big\n",
      "thanks\n"
     ]
    }
   ],
   "source": [
    "a=input(\"Enter a value:\")\n",
    "b=input(\"Enter v value:\")\n",
    "a=int(a)\n",
    "b=int(b)\n",
    "print(\"a is big\")\n",
    "print(\"b is big\")\n",
    "print(\"thanks\")\n"
   ]
  },
  {
   "cell_type": "code",
   "execution_count": 3,
   "metadata": {},
   "outputs": [
    {
     "name": "stdout",
     "output_type": "stream",
     "text": [
      "Enter a value:10\n",
      "Enter v value:20\n",
      "False\n",
      "b is big\n",
      "thanks\n"
     ]
    }
   ],
   "source": [
    "a=input(\"Enter a value:\")\n",
    "b=input(\"Enter v value:\")\n",
    "a=int(a)\n",
    "b=int(b)\n",
    "print(a>b)\n",
    "if a>b:\n",
    "    print(\"a is big\")\n",
    "else:\n",
    "    print(\"b is big\")\n",
    "print(\"thanks\")\n"
   ]
  },
  {
   "cell_type": "code",
   "execution_count": 4,
   "metadata": {},
   "outputs": [
    {
     "name": "stdout",
     "output_type": "stream",
     "text": [
      "Enter a value:100\n",
      "Enter v value:20\n",
      "True\n",
      "a is big\n",
      "thanks\n"
     ]
    }
   ],
   "source": [
    "a=input(\"Enter a value:\")\n",
    "b=input(\"Enter v value:\")\n",
    "a=int(a)\n",
    "b=int(b)\n",
    "print(a>b)\n",
    "if a>b:\n",
    "    print(\"a is big\")\n",
    "else:\n",
    "    print(\"b is big\")\n",
    "print(\"thanks\")\n"
   ]
  },
  {
   "cell_type": "code",
   "execution_count": 5,
   "metadata": {},
   "outputs": [
    {
     "data": {
      "text/plain": [
       "0"
      ]
     },
     "execution_count": 5,
     "metadata": {},
     "output_type": "execute_result"
    }
   ],
   "source": [
    "# WAP to check given number is even or odd.\n",
    "12%2"
   ]
  },
  {
   "cell_type": "code",
   "execution_count": 6,
   "metadata": {},
   "outputs": [
    {
     "data": {
      "text/plain": [
       "1"
      ]
     },
     "execution_count": 6,
     "metadata": {},
     "output_type": "execute_result"
    }
   ],
   "source": [
    "# WAP to check given number is even or odd.\n",
    "13%2"
   ]
  },
  {
   "cell_type": "code",
   "execution_count": 7,
   "metadata": {},
   "outputs": [
    {
     "name": "stdout",
     "output_type": "stream",
     "text": [
      "Enter number:12\n",
      "EVEN\n",
      "thanks\n"
     ]
    }
   ],
   "source": [
    "n=input(\"Enter number:\")\n",
    "n=int(n)\n",
    "if n%2==0:\n",
    "    print(\"EVEN\")\n",
    "else:\n",
    "    print(\"ODD\")\n",
    "print(\"thanks\")"
   ]
  },
  {
   "cell_type": "code",
   "execution_count": 8,
   "metadata": {},
   "outputs": [
    {
     "name": "stdout",
     "output_type": "stream",
     "text": [
      "Enter number:13\n",
      "ODD\n",
      "thanks\n"
     ]
    }
   ],
   "source": [
    "n=input(\"Enter number:\")\n",
    "n=int(n)\n",
    "if n%2==0:\n",
    "    print(\"EVEN\")\n",
    "else:\n",
    "    print(\"ODD\")\n",
    "print(\"thanks\")"
   ]
  },
  {
   "cell_type": "code",
   "execution_count": 9,
   "metadata": {},
   "outputs": [
    {
     "data": {
      "text/plain": [
       "6"
      ]
     },
     "execution_count": 9,
     "metadata": {},
     "output_type": "execute_result"
    }
   ],
   "source": [
    "# check whether the given string contains atleast one char or not?\n",
    "s=\"python\"\n",
    "len(s)"
   ]
  },
  {
   "cell_type": "code",
   "execution_count": 10,
   "metadata": {},
   "outputs": [
    {
     "data": {
      "text/plain": [
       "0"
      ]
     },
     "execution_count": 10,
     "metadata": {},
     "output_type": "execute_result"
    }
   ],
   "source": [
    "s=\"\"\n",
    "len(s)"
   ]
  },
  {
   "cell_type": "code",
   "execution_count": 11,
   "metadata": {},
   "outputs": [
    {
     "name": "stdout",
     "output_type": "stream",
     "text": [
      "Enter string:12\n",
      "it contains some chars\n",
      "thanks\n"
     ]
    }
   ],
   "source": [
    "s=input(\"Enter string:\")\n",
    "if len(s)==0:\n",
    "    print(\"invalid steing\")\n",
    "else:\n",
    "    print(\"it contains some chars\")\n",
    "print(\"thanks\")"
   ]
  },
  {
   "cell_type": "code",
   "execution_count": 12,
   "metadata": {},
   "outputs": [
    {
     "name": "stdout",
     "output_type": "stream",
     "text": [
      "Enter string:\n",
      "invalid steing\n",
      "thanks\n"
     ]
    }
   ],
   "source": [
    "s=input(\"Enter string:\")\n",
    "if len(s)==0:\n",
    "    print(\"invalid string\")\n",
    "else:\n",
    "    print(\"it contains some chars\")\n",
    "print(\"thanks\")"
   ]
  },
  {
   "cell_type": "code",
   "execution_count": 13,
   "metadata": {},
   "outputs": [
    {
     "name": "stdout",
     "output_type": "stream",
     "text": [
      "Enter string:pytyhon\n",
      "True\n"
     ]
    }
   ],
   "source": [
    "s=input(\"Enter string:\")\n",
    "print(bool(s))"
   ]
  },
  {
   "cell_type": "code",
   "execution_count": 14,
   "metadata": {},
   "outputs": [
    {
     "name": "stdout",
     "output_type": "stream",
     "text": [
      "Enter string:\n",
      "False\n"
     ]
    }
   ],
   "source": [
    "s=input(\"Enter string:\")\n",
    "print(bool(s))"
   ]
  },
  {
   "cell_type": "code",
   "execution_count": 15,
   "metadata": {},
   "outputs": [
    {
     "name": "stdout",
     "output_type": "stream",
     "text": [
      "Enter string:python\n",
      "it contains some chars\n",
      "thanks\n"
     ]
    }
   ],
   "source": [
    "s=input(\"Enter string:\")\n",
    "if bool(s):\n",
    "    print(\"it contains some chars\")\n",
    "else:\n",
    "    print(\"invalid string\")\n",
    "print(\"thanks\")"
   ]
  },
  {
   "cell_type": "code",
   "execution_count": 16,
   "metadata": {},
   "outputs": [
    {
     "name": "stdout",
     "output_type": "stream",
     "text": [
      "Enter string:\n",
      "invalid string\n",
      "thanks\n"
     ]
    }
   ],
   "source": [
    "s=input(\"Enter string:\")\n",
    "if bool(s):\n",
    "    print(\"it contains some chars\")\n",
    "else:\n",
    "    print(\"invalid string\")\n",
    "print(\"thanks\")"
   ]
  },
  {
   "cell_type": "code",
   "execution_count": 17,
   "metadata": {},
   "outputs": [
    {
     "name": "stdout",
     "output_type": "stream",
     "text": [
      "Enter string:\n",
      "invalid string\n",
      "thanks\n"
     ]
    }
   ],
   "source": [
    "s=input(\"Enter string:\")\n",
    "if s:\n",
    "    print(\"it contains some chars\")\n",
    "else:\n",
    "    print(\"invalid string\")\n",
    "print(\"thanks\")"
   ]
  },
  {
   "cell_type": "code",
   "execution_count": 18,
   "metadata": {},
   "outputs": [
    {
     "name": "stdout",
     "output_type": "stream",
     "text": [
      "Enter string:python\n",
      "it contains some chars\n",
      "thanks\n"
     ]
    }
   ],
   "source": [
    "s=input(\"Enter string:\")\n",
    "if s:\n",
    "    print(\"it contains some chars\")\n",
    "else:\n",
    "    print(\"invalid string\")\n",
    "print(\"thanks\")"
   ]
  },
  {
   "cell_type": "code",
   "execution_count": 19,
   "metadata": {},
   "outputs": [
    {
     "name": "stdout",
     "output_type": "stream",
     "text": [
      "Enter number:12\n",
      "EVEN\n"
     ]
    }
   ],
   "source": [
    "n=int(input(\"Enter number:\"))\n",
    "print(\"EVEN\" if n%2==0 else \"ODD\")"
   ]
  },
  {
   "cell_type": "code",
   "execution_count": 20,
   "metadata": {},
   "outputs": [
    {
     "name": "stdout",
     "output_type": "stream",
     "text": [
      "Enter number:21\n",
      "ODD\n"
     ]
    }
   ],
   "source": [
    "n=int(input(\"Enter number:\"))\n",
    "print(\"EVEN\" if n%2==0 else \"ODD\")"
   ]
  },
  {
   "cell_type": "code",
   "execution_count": 21,
   "metadata": {},
   "outputs": [
    {
     "name": "stdout",
     "output_type": "stream",
     "text": [
      "Enter string:python\n",
      "it contains some chars\n"
     ]
    }
   ],
   "source": [
    "'''\n",
    "s=input(\"Enter string:\")\n",
    "if s:\n",
    "    print(\"it contains some chars\")\n",
    "else:\n",
    "    print(\"invalid string\")\n",
    "print(\"thanks\")\n",
    "'''\n",
    "s=input(\"Enter string:\")\n",
    "print(\"it contains some chars\" if s else \"invalid string\")"
   ]
  },
  {
   "cell_type": "code",
   "execution_count": 22,
   "metadata": {},
   "outputs": [
    {
     "name": "stdout",
     "output_type": "stream",
     "text": [
      "Enter string:\n",
      "invalid string\n"
     ]
    }
   ],
   "source": [
    "'''\n",
    "s=input(\"Enter string:\")\n",
    "if s:\n",
    "    print(\"it contains some chars\")\n",
    "else:\n",
    "    print(\"invalid string\")\n",
    "print(\"thanks\")\n",
    "'''\n",
    "s=input(\"Enter string:\")\n",
    "print(\"it contains some chars\" if s else \"invalid string\")"
   ]
  },
  {
   "cell_type": "code",
   "execution_count": 23,
   "metadata": {},
   "outputs": [
    {
     "ename": "SyntaxError",
     "evalue": "EOL while scanning string literal (<ipython-input-23-f7269bc43f42>, line 14)",
     "output_type": "error",
     "traceback": [
      "\u001b[0;36m  File \u001b[0;32m\"<ipython-input-23-f7269bc43f42>\"\u001b[0;36m, line \u001b[0;32m14\u001b[0m\n\u001b[0;31m    print(\"cricket competition:\u001b[0m\n\u001b[0m                               ^\u001b[0m\n\u001b[0;31mSyntaxError\u001b[0m\u001b[0;31m:\u001b[0m EOL while scanning string literal\n"
     ]
    }
   ],
   "source": [
    "\"\"\"\n",
    "cricket competition:\n",
    "     1. INDIA\n",
    "     2. AUSTRALIA\n",
    "     3. ENGLAND\n",
    "     4. NEWZELAND\n",
    "     Enter an option:\n",
    "     1--> Willing to win INDIA\n",
    "     2--> Willing to win AUSTRALIA\n",
    "     3--> Willing to win ENGLAND\n",
    "     4--> Willing to win NEWZELAND\n",
    "     any other number: Invalid option.\n",
    "\"\"\"\n",
    "print(\"cricket competition:\n",
    "     1. INDIA\n",
    "     2. AUSTRALIA\n",
    "     3. ENGLAND\n",
    "     4. NEWZELAND\")"
   ]
  },
  {
   "cell_type": "code",
   "execution_count": 24,
   "metadata": {},
   "outputs": [
    {
     "name": "stdout",
     "output_type": "stream",
     "text": [
      "cricket competition:     1. INDIA     2. AUSTRALIA     3. ENGLAND     4. NEWZELAND\n"
     ]
    }
   ],
   "source": [
    "\"\"\"\n",
    "cricket competition:\n",
    "     1. INDIA\n",
    "     2. AUSTRALIA\n",
    "     3. ENGLAND\n",
    "     4. NEWZELAND\n",
    "     Enter an option:\n",
    "     1--> Willing to win INDIA\n",
    "     2--> Willing to win AUSTRALIA\n",
    "     3--> Willing to win ENGLAND\n",
    "     4--> Willing to win NEWZELAND\n",
    "     any other number: Invalid option.\n",
    "\"\"\"\n",
    "print(\"cricket competition:\\\n",
    "     1. INDIA\\\n",
    "     2. AUSTRALIA\\\n",
    "     3. ENGLAND\\\n",
    "     4. NEWZELAND\")"
   ]
  },
  {
   "cell_type": "code",
   "execution_count": 25,
   "metadata": {},
   "outputs": [
    {
     "name": "stdout",
     "output_type": "stream",
     "text": [
      "cricket competition:\n",
      "     1. INDIA\n",
      "     2. AUSTRALIA\n",
      "     3. ENGLAND\n",
      "     4. NEWZELAND\n"
     ]
    }
   ],
   "source": [
    "\"\"\"\n",
    "cricket competition:\n",
    "     1. INDIA\n",
    "     2. AUSTRALIA\n",
    "     3. ENGLAND\n",
    "     4. NEWZELAND\n",
    "     Enter an option:\n",
    "     1--> Willing to win INDIA\n",
    "     2--> Willing to win AUSTRALIA\n",
    "     3--> Willing to win ENGLAND\n",
    "     4--> Willing to win NEWZELAND\n",
    "     any other number: Invalid option.\n",
    "\"\"\"\n",
    "print(\"cricket competition:\\n\\\n",
    "     1. INDIA\\n\\\n",
    "     2. AUSTRALIA\\n\\\n",
    "     3. ENGLAND\\n\\\n",
    "     4. NEWZELAND\")"
   ]
  },
  {
   "cell_type": "code",
   "execution_count": 26,
   "metadata": {},
   "outputs": [
    {
     "name": "stdout",
     "output_type": "stream",
     "text": [
      "cricket competition:\n",
      "     1. INDIA\n",
      "     2. AUSTRALIA\n",
      "     3. ENGLAND\n",
      "     4. NEWZELAND\n"
     ]
    }
   ],
   "source": [
    "\"\"\"\n",
    "cricket competition:\n",
    "     1. INDIA\n",
    "     2. AUSTRALIA\n",
    "     3. ENGLAND\n",
    "     4. NEWZELAND\n",
    "     Enter an option:\n",
    "     1--> Willing to win INDIA\n",
    "     2--> Willing to win AUSTRALIA\n",
    "     3--> Willing to win ENGLAND\n",
    "     4--> Willing to win NEWZELAND\n",
    "     any other number: Invalid option.\n",
    "\"\"\"\n",
    "print(\"\"\"cricket competition:\n",
    "     1. INDIA\n",
    "     2. AUSTRALIA\n",
    "     3. ENGLAND\n",
    "     4. NEWZELAND\"\"\")"
   ]
  },
  {
   "cell_type": "code",
   "execution_count": 27,
   "metadata": {},
   "outputs": [
    {
     "name": "stdout",
     "output_type": "stream",
     "text": [
      "\n",
      "     *\n",
      "    *  *\n",
      "   *    *\n",
      "    *  *\n",
      "      *\n",
      "\n"
     ]
    }
   ],
   "source": [
    "print(\"\"\"\n",
    "     *\n",
    "    *  *\n",
    "   *    *\n",
    "    *  *\n",
    "      *\n",
    "\"\"\")"
   ]
  },
  {
   "cell_type": "code",
   "execution_count": 28,
   "metadata": {},
   "outputs": [
    {
     "name": "stdout",
     "output_type": "stream",
     "text": [
      "cricket competition:\n",
      "     1. INDIA\n",
      "     2. AUSTRALIA\n",
      "     3. ENGLAND\n",
      "     4. NEWZELAND\n",
      "Enter an option:1\n"
     ]
    }
   ],
   "source": [
    "\"\"\"\n",
    "cricket competition:\n",
    "     1. INDIA\n",
    "     2. AUSTRALIA\n",
    "     3. ENGLAND\n",
    "     4. NEWZELAND\n",
    "     Enter an option:\n",
    "     1--> Willing to win INDIA\n",
    "     2--> Willing to win AUSTRALIA\n",
    "     3--> Willing to win ENGLAND\n",
    "     4--> Willing to win NEWZELAND\n",
    "     any other number: Invalid option.\n",
    "\"\"\"\n",
    "print(\"\"\"cricket competition:\n",
    "     1. INDIA\n",
    "     2. AUSTRALIA\n",
    "     3. ENGLAND\n",
    "     4. NEWZELAND\"\"\")\n",
    "opt=input(\"Enter an option:\")"
   ]
  },
  {
   "cell_type": "code",
   "execution_count": 29,
   "metadata": {},
   "outputs": [
    {
     "name": "stdout",
     "output_type": "stream",
     "text": [
      "cricket competition:\n",
      "     1. INDIA\n",
      "     2. AUSTRALIA\n",
      "     3. ENGLAND\n",
      "     4. NEWZELAND\n",
      "Enter an option:1\n",
      "thanks\n"
     ]
    }
   ],
   "source": [
    "print(\"\"\"cricket competition:\n",
    "     1. INDIA\n",
    "     2. AUSTRALIA\n",
    "     3. ENGLAND\n",
    "     4. NEWZELAND\"\"\")\n",
    "opt=input(\"Enter an option:\")\n",
    "if opt==1:\n",
    "    print(\"Willing to win INDIA\")\n",
    "if opt==2:\n",
    "     print(\"Willing to win AUSTRALIA\")\n",
    "if opt==3:\n",
    "    print(\"Willing to win ENGLAND\")\n",
    "if opt==4:\n",
    "    print(\"Willing to win NEWZELAND\")\n",
    "print(\"thanks\")"
   ]
  },
  {
   "cell_type": "code",
   "execution_count": 30,
   "metadata": {},
   "outputs": [
    {
     "data": {
      "text/plain": [
       "False"
      ]
     },
     "execution_count": 30,
     "metadata": {},
     "output_type": "execute_result"
    }
   ],
   "source": [
    "\"1\"==1"
   ]
  },
  {
   "cell_type": "code",
   "execution_count": 31,
   "metadata": {},
   "outputs": [
    {
     "name": "stdout",
     "output_type": "stream",
     "text": [
      "cricket competition:\n",
      "     1. INDIA\n",
      "     2. AUSTRALIA\n",
      "     3. ENGLAND\n",
      "     4. NEWZELAND\n",
      "Enter an option:1\n",
      "Willing to win INDIA\n",
      "thanks\n"
     ]
    }
   ],
   "source": [
    "print(\"\"\"cricket competition:\n",
    "     1. INDIA\n",
    "     2. AUSTRALIA\n",
    "     3. ENGLAND\n",
    "     4. NEWZELAND\"\"\")\n",
    "opt=input(\"Enter an option:\")\n",
    "if opt==\"1\":\n",
    "    print(\"Willing to win INDIA\")\n",
    "if opt==\"2\":\n",
    "     print(\"Willing to win AUSTRALIA\")\n",
    "if opt==\"3\":\n",
    "    print(\"Willing to win ENGLAND\")\n",
    "if opt==\"4\":\n",
    "    print(\"Willing to win NEWZELAND\")\n",
    "print(\"thanks\")"
   ]
  },
  {
   "cell_type": "code",
   "execution_count": 32,
   "metadata": {},
   "outputs": [
    {
     "name": "stdout",
     "output_type": "stream",
     "text": [
      "cricket competition:\n",
      "     1. INDIA\n",
      "     2. AUSTRALIA\n",
      "     3. ENGLAND\n",
      "     4. NEWZELAND\n",
      "Enter an option:2\n",
      "Willing to win AUSTRALIA\n",
      "thanks\n"
     ]
    }
   ],
   "source": [
    "print(\"\"\"cricket competition:\n",
    "     1. INDIA\n",
    "     2. AUSTRALIA\n",
    "     3. ENGLAND\n",
    "     4. NEWZELAND\"\"\")\n",
    "opt=input(\"Enter an option:\")\n",
    "if opt==\"1\":\n",
    "    print(\"Willing to win INDIA\")\n",
    "if opt==\"2\":\n",
    "     print(\"Willing to win AUSTRALIA\")\n",
    "if opt==\"3\":\n",
    "    print(\"Willing to win ENGLAND\")\n",
    "if opt==\"4\":\n",
    "    print(\"Willing to win NEWZELAND\")\n",
    "print(\"thanks\")"
   ]
  },
  {
   "cell_type": "code",
   "execution_count": 33,
   "metadata": {},
   "outputs": [
    {
     "name": "stdout",
     "output_type": "stream",
     "text": [
      "cricket competition:\n",
      "     1. INDIA\n",
      "     2. AUSTRALIA\n",
      "     3. ENGLAND\n",
      "     4. NEWZELAND\n",
      "Enter an option:3\n",
      "Willing to win ENGLAND\n",
      "thanks\n"
     ]
    }
   ],
   "source": [
    "print(\"\"\"cricket competition:\n",
    "     1. INDIA\n",
    "     2. AUSTRALIA\n",
    "     3. ENGLAND\n",
    "     4. NEWZELAND\"\"\")\n",
    "opt=input(\"Enter an option:\")\n",
    "if opt==\"1\":\n",
    "    print(\"Willing to win INDIA\")\n",
    "if opt==\"2\":\n",
    "     print(\"Willing to win AUSTRALIA\")\n",
    "if opt==\"3\":\n",
    "    print(\"Willing to win ENGLAND\")\n",
    "if opt==\"4\":\n",
    "    print(\"Willing to win NEWZELAND\")\n",
    "print(\"thanks\")"
   ]
  },
  {
   "cell_type": "code",
   "execution_count": 34,
   "metadata": {},
   "outputs": [
    {
     "name": "stdout",
     "output_type": "stream",
     "text": [
      "cricket competition:\n",
      "     1. INDIA\n",
      "     2. AUSTRALIA\n",
      "     3. ENGLAND\n",
      "     4. NEWZELAND\n",
      "Enter an option:4\n",
      "Willing to win NEWZELAND\n",
      "thanks\n"
     ]
    }
   ],
   "source": [
    "print(\"\"\"cricket competition:\n",
    "     1. INDIA\n",
    "     2. AUSTRALIA\n",
    "     3. ENGLAND\n",
    "     4. NEWZELAND\"\"\")\n",
    "opt=input(\"Enter an option:\")\n",
    "if opt==\"1\":\n",
    "    print(\"Willing to win INDIA\")\n",
    "if opt==\"2\":\n",
    "     print(\"Willing to win AUSTRALIA\")\n",
    "if opt==\"3\":\n",
    "    print(\"Willing to win ENGLAND\")\n",
    "if opt==\"4\":\n",
    "    print(\"Willing to win NEWZELAND\")\n",
    "print(\"thanks\")"
   ]
  },
  {
   "cell_type": "code",
   "execution_count": 35,
   "metadata": {},
   "outputs": [
    {
     "name": "stdout",
     "output_type": "stream",
     "text": [
      "cricket competition:\n",
      "     1. INDIA\n",
      "     2. AUSTRALIA\n",
      "     3. ENGLAND\n",
      "     4. NEWZELAND\n",
      "Enter an option:6\n",
      "thanks\n"
     ]
    }
   ],
   "source": [
    "print(\"\"\"cricket competition:\n",
    "     1. INDIA\n",
    "     2. AUSTRALIA\n",
    "     3. ENGLAND\n",
    "     4. NEWZELAND\"\"\")\n",
    "opt=input(\"Enter an option:\")\n",
    "if opt==\"1\":\n",
    "    print(\"Willing to win INDIA\")\n",
    "if opt==\"2\":\n",
    "     print(\"Willing to win AUSTRALIA\")\n",
    "if opt==\"3\":\n",
    "    print(\"Willing to win ENGLAND\")\n",
    "if opt==\"4\":\n",
    "    print(\"Willing to win NEWZELAND\")\n",
    "print(\"thanks\")"
   ]
  },
  {
   "cell_type": "code",
   "execution_count": 1,
   "metadata": {},
   "outputs": [
    {
     "name": "stdout",
     "output_type": "stream",
     "text": [
      "cricket competition:\n",
      "     1. INDIA\n",
      "     2. AUSTRALIA\n",
      "     3. ENGLAND\n",
      "     4. NEWZELAND\n",
      "Enter an option:6\n",
      "thanks\n"
     ]
    }
   ],
   "source": [
    "print(\"\"\"cricket competition:\n",
    "     1. INDIA\n",
    "     2. AUSTRALIA\n",
    "     3. ENGLAND\n",
    "     4. NEWZELAND\"\"\")\n",
    "opt=input(\"Enter an option:\")\n",
    "if opt==\"1\":\n",
    "    print(\"Willing to win INDIA\")\n",
    "if opt==\"2\":\n",
    "     print(\"Willing to win AUSTRALIA\")\n",
    "if opt==\"3\":\n",
    "    print(\"Willing to win ENGLAND\")\n",
    "if opt==\"4\":\n",
    "    print(\"Willing to win NEWZELAND\")\n",
    "print(\"thanks\")"
   ]
  },
  {
   "cell_type": "code",
   "execution_count": 2,
   "metadata": {},
   "outputs": [
    {
     "name": "stdout",
     "output_type": "stream",
     "text": [
      "cricket competition:\n",
      "     1. INDIA\n",
      "     2. AUSTRALIA\n",
      "     3. ENGLAND\n",
      "     4. NEWZELAND\n",
      "Enter an option:6\n",
      "wrong option\n",
      "thanks\n"
     ]
    }
   ],
   "source": [
    "print(\"\"\"cricket competition:\n",
    "     1. INDIA\n",
    "     2. AUSTRALIA\n",
    "     3. ENGLAND\n",
    "     4. NEWZELAND\"\"\")\n",
    "opt=input(\"Enter an option:\")\n",
    "if opt==\"1\":\n",
    "    print(\"Willing to win INDIA\")\n",
    "if opt==\"2\":\n",
    "     print(\"Willing to win AUSTRALIA\")\n",
    "if opt==\"3\":\n",
    "    print(\"Willing to win ENGLAND\")\n",
    "if opt==\"4\":\n",
    "    print(\"Willing to win NEWZELAND\")\n",
    "else:\n",
    "    print(\"wrong option\")\n",
    "print(\"thanks\")"
   ]
  },
  {
   "cell_type": "code",
   "execution_count": 3,
   "metadata": {},
   "outputs": [
    {
     "name": "stdout",
     "output_type": "stream",
     "text": [
      "cricket competition:\n",
      "     1. INDIA\n",
      "     2. AUSTRALIA\n",
      "     3. ENGLAND\n",
      "     4. NEWZELAND\n",
      "Enter an option:4\n",
      "Willing to win NEWZELAND\n",
      "thanks\n"
     ]
    }
   ],
   "source": [
    "print(\"\"\"cricket competition:\n",
    "     1. INDIA\n",
    "     2. AUSTRALIA\n",
    "     3. ENGLAND\n",
    "     4. NEWZELAND\"\"\")\n",
    "opt=input(\"Enter an option:\")\n",
    "if opt==\"1\":\n",
    "    print(\"Willing to win INDIA\")\n",
    "if opt==\"2\":\n",
    "     print(\"Willing to win AUSTRALIA\")\n",
    "if opt==\"3\":\n",
    "    print(\"Willing to win ENGLAND\")\n",
    "if opt==\"4\":\n",
    "    print(\"Willing to win NEWZELAND\")\n",
    "else:\n",
    "    print(\"wrong option\")\n",
    "print(\"thanks\")"
   ]
  },
  {
   "cell_type": "code",
   "execution_count": 4,
   "metadata": {},
   "outputs": [
    {
     "name": "stdout",
     "output_type": "stream",
     "text": [
      "cricket competition:\n",
      "     1. INDIA\n",
      "     2. AUSTRALIA\n",
      "     3. ENGLAND\n",
      "     4. NEWZELAND\n",
      "Enter an option:3\n",
      "Willing to win ENGLAND\n",
      "wrong option\n",
      "thanks\n"
     ]
    }
   ],
   "source": [
    "print(\"\"\"cricket competition:\n",
    "     1. INDIA\n",
    "     2. AUSTRALIA\n",
    "     3. ENGLAND\n",
    "     4. NEWZELAND\"\"\")\n",
    "opt=input(\"Enter an option:\")\n",
    "if opt==\"1\":\n",
    "    print(\"Willing to win INDIA\")\n",
    "if opt==\"2\":\n",
    "     print(\"Willing to win AUSTRALIA\")\n",
    "if opt==\"3\":\n",
    "    print(\"Willing to win ENGLAND\")\n",
    "if opt==\"4\":\n",
    "    print(\"Willing to win NEWZELAND\")\n",
    "else:\n",
    "    print(\"wrong option\")\n",
    "print(\"thanks\")"
   ]
  },
  {
   "cell_type": "code",
   "execution_count": 5,
   "metadata": {},
   "outputs": [
    {
     "name": "stdout",
     "output_type": "stream",
     "text": [
      "cricket competition:\n",
      "     1. INDIA\n",
      "     2. AUSTRALIA\n",
      "     3. ENGLAND\n",
      "     4. NEWZELAND\n",
      "Enter an option:6\n",
      "wrong option\n",
      "thanks\n"
     ]
    }
   ],
   "source": [
    "print(\"\"\"cricket competition:\n",
    "     1. INDIA\n",
    "     2. AUSTRALIA\n",
    "     3. ENGLAND\n",
    "     4. NEWZELAND\"\"\")\n",
    "opt=input(\"Enter an option:\")\n",
    "if opt==\"1\":\n",
    "    print(\"Willing to win INDIA\")\n",
    "if opt==\"2\":\n",
    "     print(\"Willing to win AUSTRALIA\")\n",
    "if opt==\"3\":\n",
    "    print(\"Willing to win ENGLAND\")\n",
    "if opt==\"4\":\n",
    "    print(\"Willing to win NEWZELAND\")\n",
    "if opt not in [\"1\",\"2\",\"3\",\"4\"]:\n",
    "    print(\"wrong option\")\n",
    "print(\"thanks\")"
   ]
  },
  {
   "cell_type": "code",
   "execution_count": 6,
   "metadata": {},
   "outputs": [
    {
     "name": "stdout",
     "output_type": "stream",
     "text": [
      "cricket competition:\n",
      "     1. INDIA\n",
      "     2. AUSTRALIA\n",
      "     3. ENGLAND\n",
      "     4. NEWZELAND\n",
      "Enter an option:3\n",
      "Willing to win ENGLAND\n",
      "thanks\n"
     ]
    }
   ],
   "source": [
    "print(\"\"\"cricket competition:\n",
    "     1. INDIA\n",
    "     2. AUSTRALIA\n",
    "     3. ENGLAND\n",
    "     4. NEWZELAND\"\"\")\n",
    "opt=input(\"Enter an option:\")\n",
    "if opt==\"1\":\n",
    "    print(\"Willing to win INDIA\")\n",
    "if opt==\"2\":\n",
    "     print(\"Willing to win AUSTRALIA\")\n",
    "if opt==\"3\":\n",
    "    print(\"Willing to win ENGLAND\")\n",
    "if opt==\"4\":\n",
    "    print(\"Willing to win NEWZELAND\")\n",
    "if opt not in [\"1\",\"2\",\"3\",\"4\"]:\n",
    "    print(\"wrong option\")\n",
    "print(\"thanks\")"
   ]
  },
  {
   "cell_type": "code",
   "execution_count": 7,
   "metadata": {},
   "outputs": [
    {
     "name": "stdout",
     "output_type": "stream",
     "text": [
      "cricket competition:\n",
      "     1. INDIA\n",
      "     2. AUSTRALIA\n",
      "     3. ENGLAND\n",
      "     4. NEWZELAND\n",
      "Enter an option:1\n",
      "Willing to win INDIA\n",
      "thanks\n"
     ]
    }
   ],
   "source": [
    "print(\"\"\"cricket competition:\n",
    "     1. INDIA\n",
    "     2. AUSTRALIA\n",
    "     3. ENGLAND\n",
    "     4. NEWZELAND\"\"\")\n",
    "opt=input(\"Enter an option:\")\n",
    "if opt==\"1\":\n",
    "    print(\"Willing to win INDIA\")\n",
    "if opt==\"2\":\n",
    "     print(\"Willing to win AUSTRALIA\")\n",
    "if opt==\"3\":\n",
    "    print(\"Willing to win ENGLAND\")\n",
    "if opt==\"4\":\n",
    "    print(\"Willing to win NEWZELAND\")\n",
    "if opt not in [\"1\",\"2\",\"3\",\"4\"]:\n",
    "    print(\"wrong option\")\n",
    "print(\"thanks\")"
   ]
  },
  {
   "cell_type": "code",
   "execution_count": 8,
   "metadata": {},
   "outputs": [
    {
     "name": "stdout",
     "output_type": "stream",
     "text": [
      "cricket competition:\n",
      "     1. INDIA\n",
      "     2. AUSTRALIA\n",
      "     3. ENGLAND\n",
      "     4. NEWZELAND\n",
      "Enter an option:1\n",
      "Willing to win INDIA\n",
      "thanks\n"
     ]
    }
   ],
   "source": [
    "print(\"\"\"cricket competition:\n",
    "     1. INDIA\n",
    "     2. AUSTRALIA\n",
    "     3. ENGLAND\n",
    "     4. NEWZELAND\"\"\")\n",
    "opt=input(\"Enter an option:\")\n",
    "if opt not in [\"1\",\"2\",\"3\",\"4\"]:\n",
    "    print(\"wrong option\")\n",
    "else:\n",
    "    if opt==\"1\":\n",
    "        print(\"Willing to win INDIA\")\n",
    "    if opt==\"2\":\n",
    "         print(\"Willing to win AUSTRALIA\")\n",
    "    if opt==\"3\":\n",
    "        print(\"Willing to win ENGLAND\")\n",
    "    if opt==\"4\":\n",
    "        print(\"Willing to win NEWZELAND\")\n",
    "\n",
    "print(\"thanks\")"
   ]
  },
  {
   "cell_type": "code",
   "execution_count": 9,
   "metadata": {},
   "outputs": [
    {
     "name": "stdout",
     "output_type": "stream",
     "text": [
      "cricket competition:\n",
      "     1. INDIA\n",
      "     2. AUSTRALIA\n",
      "     3. ENGLAND\n",
      "     4. NEWZELAND\n",
      "Enter an option:6\n",
      "wrong option\n",
      "thanks\n"
     ]
    }
   ],
   "source": [
    "print(\"\"\"cricket competition:\n",
    "     1. INDIA\n",
    "     2. AUSTRALIA\n",
    "     3. ENGLAND\n",
    "     4. NEWZELAND\"\"\")\n",
    "opt=input(\"Enter an option:\")\n",
    "if opt not in [\"1\",\"2\",\"3\",\"4\"]:\n",
    "    print(\"wrong option\")\n",
    "else:\n",
    "    if opt==\"1\":\n",
    "        print(\"Willing to win INDIA\")\n",
    "    if opt==\"2\":\n",
    "         print(\"Willing to win AUSTRALIA\")\n",
    "    if opt==\"3\":\n",
    "        print(\"Willing to win ENGLAND\")\n",
    "    if opt==\"4\":\n",
    "        print(\"Willing to win NEWZELAND\")\n",
    "\n",
    "print(\"thanks\")"
   ]
  },
  {
   "cell_type": "code",
   "execution_count": 10,
   "metadata": {},
   "outputs": [
    {
     "name": "stdout",
     "output_type": "stream",
     "text": [
      "cricket competition:\n",
      "     1. INDIA\n",
      "     2. AUSTRALIA\n",
      "     3. ENGLAND\n",
      "     4. NEWZELAND\n",
      "Enter an option:2\n",
      "Willing to win AUSTRALIA\n",
      "thanks\n"
     ]
    }
   ],
   "source": [
    "print(\"\"\"cricket competition:\n",
    "     1. INDIA\n",
    "     2. AUSTRALIA\n",
    "     3. ENGLAND\n",
    "     4. NEWZELAND\"\"\")\n",
    "opt=input(\"Enter an option:\")\n",
    "if opt not in [\"1\",\"2\",\"3\",\"4\"]:\n",
    "    print(\"wrong option\")\n",
    "else:\n",
    "    if opt==\"1\":\n",
    "        print(\"Willing to win INDIA\")\n",
    "    if opt==\"2\":\n",
    "         print(\"Willing to win AUSTRALIA\")\n",
    "    if opt==\"3\":\n",
    "        print(\"Willing to win ENGLAND\")\n",
    "    if opt==\"4\":\n",
    "        print(\"Willing to win NEWZELAND\")\n",
    "\n",
    "print(\"thanks\")"
   ]
  },
  {
   "cell_type": "code",
   "execution_count": 11,
   "metadata": {},
   "outputs": [
    {
     "name": "stdout",
     "output_type": "stream",
     "text": [
      "cricket competition:\n",
      "     1. INDIA\n",
      "     2. AUSTRALIA\n",
      "     3. ENGLAND\n",
      "     4. NEWZELAND\n",
      "Enter an option:2\n",
      "Willing to win AUSTRALIA\n",
      "thanks\n"
     ]
    }
   ],
   "source": [
    "print(\"\"\"cricket competition:\n",
    "     1. INDIA\n",
    "     2. AUSTRALIA\n",
    "     3. ENGLAND\n",
    "     4. NEWZELAND\"\"\")\n",
    "opt=input(\"Enter an option:\")\n",
    "if opt not in [\"1\",\"2\",\"3\",\"4\"]:\n",
    "    print(\"wrong option\")\n",
    "else:\n",
    "    if opt==\"1\":\n",
    "        print(\"Willing to win INDIA\")\n",
    "    elif opt==\"2\":\n",
    "         print(\"Willing to win AUSTRALIA\")\n",
    "    elif opt==\"3\":\n",
    "        print(\"Willing to win ENGLAND\")\n",
    "    elif opt==\"4\":\n",
    "        print(\"Willing to win NEWZELAND\")\n",
    "\n",
    "print(\"thanks\")"
   ]
  },
  {
   "cell_type": "code",
   "execution_count": 12,
   "metadata": {},
   "outputs": [
    {
     "name": "stdout",
     "output_type": "stream",
     "text": [
      "hello\n",
      "some stamentes\n",
      "hi\n"
     ]
    }
   ],
   "source": [
    "print(\"hello\")\n",
    "if True:\n",
    "    print(\"some stamentes\")\n",
    "    print(\"hi\")"
   ]
  },
  {
   "cell_type": "code",
   "execution_count": 13,
   "metadata": {},
   "outputs": [
    {
     "name": "stdout",
     "output_type": "stream",
     "text": [
      "hello\n",
      "some stamentes\n",
      "hi\n"
     ]
    }
   ],
   "source": [
    "print(\"hello\")\n",
    "if True:\n",
    "    print(\"some stamentes\")\n",
    "    print(\"hi\")"
   ]
  },
  {
   "cell_type": "code",
   "execution_count": 14,
   "metadata": {},
   "outputs": [
    {
     "name": "stdout",
     "output_type": "stream",
     "text": [
      "program started\n",
      "hello\n",
      "thanks\n"
     ]
    }
   ],
   "source": [
    "print(\"program started\")\n",
    "if True:\n",
    "    print(\"hello\")\n",
    "else:\n",
    "        print(\"hi\")\n",
    "print(\"thanks\")"
   ]
  },
  {
   "cell_type": "code",
   "execution_count": 15,
   "metadata": {},
   "outputs": [
    {
     "name": "stdout",
     "output_type": "stream",
     "text": [
      "program started\n",
      "if block started\n",
      "hello\n",
      "if block ended\n",
      "thanks\n"
     ]
    }
   ],
   "source": [
    "print(\"program started\")\n",
    "if True:\n",
    "    print(\"if block started\")\n",
    "    print(\"hello\")\n",
    "    print(\"if block ended\")\n",
    "else:\n",
    "        print(\"else block started\")\n",
    "        print(\"hi\")\n",
    "        print(\"else block ended\")\n",
    "print(\"thanks\")"
   ]
  },
  {
   "cell_type": "code",
   "execution_count": 16,
   "metadata": {},
   "outputs": [
    {
     "name": "stdout",
     "output_type": "stream",
     "text": [
      "program started\n",
      "if block started\n",
      "hello\n",
      "if block ended\n",
      "thanks\n"
     ]
    }
   ],
   "source": [
    "print(\"program started\")\n",
    "if True:\n",
    "    print(\"if block started\")\n",
    "    print(\"hello\")\n",
    "    print(\"if block ended\")\n",
    "else:\n",
    " print(\"else block started\")\n",
    " print(\"hi\")\n",
    " print(\"else block ended\")\n",
    "print(\"thanks\")"
   ]
  },
  {
   "cell_type": "code",
   "execution_count": 17,
   "metadata": {},
   "outputs": [
    {
     "ename": "IndentationError",
     "evalue": "unexpected indent (<ipython-input-17-680556e0ae70>, line 8)",
     "output_type": "error",
     "traceback": [
      "\u001b[0;36m  File \u001b[0;32m\"<ipython-input-17-680556e0ae70>\"\u001b[0;36m, line \u001b[0;32m8\u001b[0m\n\u001b[0;31m    print(\"hi\")\u001b[0m\n\u001b[0m    ^\u001b[0m\n\u001b[0;31mIndentationError\u001b[0m\u001b[0;31m:\u001b[0m unexpected indent\n"
     ]
    }
   ],
   "source": [
    "print(\"program started\")\n",
    "if True:\n",
    "    print(\"if block started\")\n",
    "    print(\"hello\")\n",
    "    print(\"if block ended\")\n",
    "else:\n",
    " print(\"else block started\")\n",
    "    print(\"hi\")\n",
    "    print(\"else block ended\")\n",
    "print(\"thanks\")"
   ]
  },
  {
   "cell_type": "code",
   "execution_count": 18,
   "metadata": {},
   "outputs": [
    {
     "ename": "SyntaxError",
     "evalue": "invalid syntax (<ipython-input-18-cee11eb04c51>, line 6)",
     "output_type": "error",
     "traceback": [
      "\u001b[0;36m  File \u001b[0;32m\"<ipython-input-18-cee11eb04c51>\"\u001b[0;36m, line \u001b[0;32m6\u001b[0m\n\u001b[0;31m    else:\u001b[0m\n\u001b[0m       ^\u001b[0m\n\u001b[0;31mSyntaxError\u001b[0m\u001b[0;31m:\u001b[0m invalid syntax\n"
     ]
    }
   ],
   "source": [
    "print(\"program started\")\n",
    "if True:\n",
    "    print(\"if block started\")\n",
    "    print(\"hello\")\n",
    "print(\"if block ended\")\n",
    "else:\n",
    "    print(\"else block started\")\n",
    "    print(\"hi\")\n",
    "    print(\"else block ended\")\n",
    "print(\"thanks\")"
   ]
  },
  {
   "cell_type": "code",
   "execution_count": 19,
   "metadata": {},
   "outputs": [
    {
     "ename": "IndentationError",
     "evalue": "unexpected indent (<ipython-input-19-85135d0c5a87>, line 2)",
     "output_type": "error",
     "traceback": [
      "\u001b[0;36m  File \u001b[0;32m\"<ipython-input-19-85135d0c5a87>\"\u001b[0;36m, line \u001b[0;32m2\u001b[0m\n\u001b[0;31m    if True:\u001b[0m\n\u001b[0m    ^\u001b[0m\n\u001b[0;31mIndentationError\u001b[0m\u001b[0;31m:\u001b[0m unexpected indent\n"
     ]
    }
   ],
   "source": [
    "print(\"started\")\n",
    "    if True:\n",
    "        print(\"hi\")\n",
    "    else:\n",
    "        print(\"hello\")\n",
    "print(\"ended\")"
   ]
  },
  {
   "cell_type": "code",
   "execution_count": 20,
   "metadata": {},
   "outputs": [
    {
     "name": "stdout",
     "output_type": "stream",
     "text": [
      "started\n",
      "hi\n",
      "ended\n"
     ]
    }
   ],
   "source": [
    "print(\"started\")\n",
    "if True:\n",
    "    if True:\n",
    "        print(\"hi\")\n",
    "    else:\n",
    "        print(\"hello\")\n",
    "print(\"ended\")"
   ]
  },
  {
   "cell_type": "code",
   "execution_count": 21,
   "metadata": {},
   "outputs": [
    {
     "name": "stdout",
     "output_type": "stream",
     "text": [
      "sdfsdf\n"
     ]
    }
   ],
   "source": [
    "     print(\"sdfsdf\")"
   ]
  },
  {
   "cell_type": "code",
   "execution_count": null,
   "metadata": {},
   "outputs": [],
   "source": []
  }
 ],
 "metadata": {
  "kernelspec": {
   "display_name": "Python 3",
   "language": "python",
   "name": "python3"
  },
  "language_info": {
   "codemirror_mode": {
    "name": "ipython",
    "version": 3
   },
   "file_extension": ".py",
   "mimetype": "text/x-python",
   "name": "python",
   "nbconvert_exporter": "python",
   "pygments_lexer": "ipython3",
   "version": "3.7.3"
  }
 },
 "nbformat": 4,
 "nbformat_minor": 2
}
