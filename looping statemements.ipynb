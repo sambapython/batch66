{
 "cells": [
  {
   "cell_type": "code",
   "execution_count": 1,
   "metadata": {},
   "outputs": [
    {
     "name": "stdout",
     "output_type": "stream",
     "text": [
      "st1\n",
      "st2\n",
      "st3\n",
      "st4\n",
      "st5\n",
      "st6\n",
      "st7\n",
      "st8\n",
      "st9\n"
     ]
    }
   ],
   "source": [
    "#for,while,else,break,continue\n",
    "print(\"st1\")\n",
    "print(\"st2\")\n",
    "print(\"st3\")\n",
    "print(\"st4\")\n",
    "print(\"st5\")\n",
    "print(\"st6\")\n",
    "print(\"st7\")\n",
    "print(\"st8\")\n",
    "print(\"st9\")"
   ]
  },
  {
   "cell_type": "code",
   "execution_count": 2,
   "metadata": {},
   "outputs": [
    {
     "name": "stdout",
     "output_type": "stream",
     "text": [
      "st1\n",
      "st2\n",
      "st3\n",
      "st4\n",
      "st5\n",
      "st6\n",
      "st7\n",
      "st8\n",
      "st9\n"
     ]
    }
   ],
   "source": [
    "for i in range(1,10):\n",
    "    print(\"st%s\"%i)"
   ]
  },
  {
   "cell_type": "code",
   "execution_count": 3,
   "metadata": {},
   "outputs": [
    {
     "name": "stdout",
     "output_type": "stream",
     "text": [
      "0\n",
      "1\n",
      "2\n",
      "3\n",
      "4\n",
      "5\n",
      "6\n",
      "7\n",
      "8\n",
      "9\n"
     ]
    }
   ],
   "source": [
    "for i in range(10):\n",
    "    print(i)"
   ]
  },
  {
   "cell_type": "code",
   "execution_count": 4,
   "metadata": {},
   "outputs": [
    {
     "name": "stdout",
     "output_type": "stream",
     "text": [
      "program started\n",
      "EVEN\n",
      "program ended\n"
     ]
    }
   ],
   "source": [
    "print(\"program started\")\n",
    "n=12\n",
    "if n%2==0:\n",
    "    print(\"EVEN\")\n",
    "else:\n",
    "    print(\"ODD\")\n",
    "print(\"program ended\")"
   ]
  },
  {
   "cell_type": "code",
   "execution_count": 5,
   "metadata": {},
   "outputs": [
    {
     "name": "stdout",
     "output_type": "stream",
     "text": [
      "program started\n",
      "12\n"
     ]
    }
   ],
   "source": [
    "print(\"program started\")\n",
    "numbers=[12,13,23,45,47,67,86,88]\n",
    "print(numbers[0])"
   ]
  },
  {
   "cell_type": "code",
   "execution_count": 7,
   "metadata": {},
   "outputs": [
    {
     "name": "stdout",
     "output_type": "stream",
     "text": [
      "program started\n",
      "even\n",
      "odd\n"
     ]
    }
   ],
   "source": [
    "print(\"program started\")\n",
    "numbers=[12,13,23,45,47,67,86,88]\n",
    "if numbers[0]%2==0:\n",
    "    print(\"even\")\n",
    "else:\n",
    "    print(\"odd\")\n",
    "if numbers[1]%2==0:\n",
    "    print(\"even\")\n",
    "else:\n",
    "    print(\"odd\")"
   ]
  },
  {
   "cell_type": "code",
   "execution_count": 9,
   "metadata": {},
   "outputs": [
    {
     "name": "stdout",
     "output_type": "stream",
     "text": [
      "program started\n",
      "12\n",
      "13\n",
      "23\n",
      "45\n",
      "47\n",
      "67\n",
      "86\n",
      "88\n"
     ]
    }
   ],
   "source": [
    "print(\"program started\")\n",
    "numbers=[12,13,23,45,47,67,86,88]\n",
    "print(numbers[0])\n",
    "print(numbers[1])\n",
    "print(numbers[2])\n",
    "print(numbers[3])\n",
    "print(numbers[4])\n",
    "print(numbers[5])\n",
    "print(numbers[6])\n",
    "print(numbers[7])"
   ]
  },
  {
   "cell_type": "code",
   "execution_count": 10,
   "metadata": {},
   "outputs": [
    {
     "name": "stdout",
     "output_type": "stream",
     "text": [
      "0\n",
      "1\n",
      "2\n",
      "3\n",
      "4\n",
      "5\n",
      "6\n",
      "7\n"
     ]
    }
   ],
   "source": [
    "for i in range(8):\n",
    "    print(i)"
   ]
  },
  {
   "cell_type": "code",
   "execution_count": 11,
   "metadata": {},
   "outputs": [
    {
     "name": "stdout",
     "output_type": "stream",
     "text": [
      "program started\n",
      "12\n",
      "13\n",
      "23\n",
      "45\n",
      "47\n",
      "67\n",
      "86\n",
      "88\n"
     ]
    }
   ],
   "source": [
    "print(\"program started\")\n",
    "numbers=[12,13,23,45,47,67,86,88]\n",
    "for i in range(8):\n",
    "    print(numbers[i])\n",
    "print(\"thanks\")"
   ]
  },
  {
   "cell_type": "code",
   "execution_count": 12,
   "metadata": {},
   "outputs": [
    {
     "name": "stdout",
     "output_type": "stream",
     "text": [
      "program started\n",
      "iteration started\n",
      "12\n",
      "iteration started\n",
      "13\n",
      "iteration started\n",
      "23\n",
      "iteration started\n",
      "45\n",
      "iteration started\n",
      "47\n",
      "iteration started\n",
      "67\n",
      "iteration started\n",
      "86\n",
      "iteration started\n",
      "88\n",
      "thanks\n"
     ]
    }
   ],
   "source": [
    "print(\"program started\")\n",
    "numbers=[12,13,23,45,47,67,86,88]\n",
    "for n in numbers:\n",
    "    print(\"iteration started\")\n",
    "    print(n)\n",
    "print(\"thanks\")"
   ]
  },
  {
   "cell_type": "code",
   "execution_count": 14,
   "metadata": {},
   "outputs": [
    {
     "name": "stdout",
     "output_type": "stream",
     "text": [
      "program started\n",
      "EVEN\n",
      "ODD\n",
      "ODD\n",
      "ODD\n",
      "ODD\n",
      "ODD\n",
      "EVEN\n",
      "EVEN\n",
      "thanks\n"
     ]
    }
   ],
   "source": [
    "print(\"program started\")\n",
    "numbers=[12,13,23,45,47,67,86,88]\n",
    "for n in numbers:\n",
    "    if n%2==0:\n",
    "        print(\"EVEN\")\n",
    "    else:\n",
    "        print(\"ODD\")\n",
    "print(\"thanks\")"
   ]
  },
  {
   "cell_type": "code",
   "execution_count": 13,
   "metadata": {},
   "outputs": [
    {
     "data": {
      "text/plain": [
       "0"
      ]
     },
     "execution_count": 13,
     "metadata": {},
     "output_type": "execute_result"
    }
   ],
   "source": [
    "12%2"
   ]
  },
  {
   "cell_type": "code",
   "execution_count": 15,
   "metadata": {},
   "outputs": [
    {
     "name": "stdout",
     "output_type": "stream",
     "text": [
      "program started\n"
     ]
    }
   ],
   "source": [
    "print(\"program started\")\n",
    "numbers=[12,13,-23,45,-47,67,-86,88]\n",
    "# check the elements in the list or positive or negitive"
   ]
  },
  {
   "cell_type": "code",
   "execution_count": 16,
   "metadata": {},
   "outputs": [
    {
     "name": "stdout",
     "output_type": "stream",
     "text": [
      "p\n",
      "y\n",
      "t\n",
      "h\n",
      "o\n",
      "n\n"
     ]
    }
   ],
   "source": [
    "#strings\n",
    "#tuple\n",
    "#set\n",
    "#dictionary\n",
    "for i in \"python\":\n",
    "    print(i)"
   ]
  },
  {
   "cell_type": "code",
   "execution_count": null,
   "metadata": {},
   "outputs": [],
   "source": []
  }
 ],
 "metadata": {
  "kernelspec": {
   "display_name": "Python 3",
   "language": "python",
   "name": "python3"
  },
  "language_info": {
   "codemirror_mode": {
    "name": "ipython",
    "version": 3
   },
   "file_extension": ".py",
   "mimetype": "text/x-python",
   "name": "python",
   "nbconvert_exporter": "python",
   "pygments_lexer": "ipython3",
   "version": "3.7.3"
  }
 },
 "nbformat": 4,
 "nbformat_minor": 2
}
