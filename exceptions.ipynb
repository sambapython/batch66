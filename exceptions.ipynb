{
 "cells": [
  {
   "cell_type": "code",
   "execution_count": 1,
   "metadata": {},
   "outputs": [
    {
     "name": "stdout",
     "output_type": "stream",
     "text": [
      "started\n",
      "Enter a number:12\n",
      "Enter b number:6\n",
      "before conversion a=12,b=6\n",
      "after conversion a=12,b=6\n",
      "res=2.0\n",
      "ended\n"
     ]
    }
   ],
   "source": [
    "print(\"started\")\n",
    "a=input(\"Enter a number:\")\n",
    "b=input(\"Enter b number:\")\n",
    "print(f\"before conversion a={a},b={b}\")\n",
    "a=int(a)\n",
    "b=int(b)\n",
    "print(f\"after conversion a={a},b={b}\")\n",
    "res=a/b\n",
    "print(f\"res={res}\")\n",
    "print(\"ended\")"
   ]
  },
  {
   "cell_type": "code",
   "execution_count": 2,
   "metadata": {},
   "outputs": [
    {
     "name": "stdout",
     "output_type": "stream",
     "text": [
      "started\n",
      "Enter a number:12\n",
      "Enter b number:0\n",
      "before conversion a=12,b=0\n",
      "after conversion a=12,b=0\n"
     ]
    },
    {
     "ename": "ZeroDivisionError",
     "evalue": "division by zero",
     "output_type": "error",
     "traceback": [
      "\u001b[0;31m---------------------------------------------------------------------------\u001b[0m",
      "\u001b[0;31mZeroDivisionError\u001b[0m                         Traceback (most recent call last)",
      "\u001b[0;32m<ipython-input-2-a44b58121527>\u001b[0m in \u001b[0;36m<module>\u001b[0;34m\u001b[0m\n\u001b[1;32m      6\u001b[0m \u001b[0mb\u001b[0m\u001b[0;34m=\u001b[0m\u001b[0mint\u001b[0m\u001b[0;34m(\u001b[0m\u001b[0mb\u001b[0m\u001b[0;34m)\u001b[0m\u001b[0;34m\u001b[0m\u001b[0;34m\u001b[0m\u001b[0m\n\u001b[1;32m      7\u001b[0m \u001b[0mprint\u001b[0m\u001b[0;34m(\u001b[0m\u001b[0;34mf\"after conversion a={a},b={b}\"\u001b[0m\u001b[0;34m)\u001b[0m\u001b[0;34m\u001b[0m\u001b[0;34m\u001b[0m\u001b[0m\n\u001b[0;32m----> 8\u001b[0;31m \u001b[0mres\u001b[0m\u001b[0;34m=\u001b[0m\u001b[0ma\u001b[0m\u001b[0;34m/\u001b[0m\u001b[0mb\u001b[0m\u001b[0;34m\u001b[0m\u001b[0;34m\u001b[0m\u001b[0m\n\u001b[0m\u001b[1;32m      9\u001b[0m \u001b[0mprint\u001b[0m\u001b[0;34m(\u001b[0m\u001b[0;34mf\"res={res}\"\u001b[0m\u001b[0;34m)\u001b[0m\u001b[0;34m\u001b[0m\u001b[0;34m\u001b[0m\u001b[0m\n\u001b[1;32m     10\u001b[0m \u001b[0mprint\u001b[0m\u001b[0;34m(\u001b[0m\u001b[0;34m\"ended\"\u001b[0m\u001b[0;34m)\u001b[0m\u001b[0;34m\u001b[0m\u001b[0;34m\u001b[0m\u001b[0m\n",
      "\u001b[0;31mZeroDivisionError\u001b[0m: division by zero"
     ]
    }
   ],
   "source": [
    "print(\"started\")\n",
    "a=input(\"Enter a number:\")\n",
    "b=input(\"Enter b number:\")\n",
    "print(f\"before conversion a={a},b={b}\")\n",
    "a=int(a)\n",
    "b=int(b)\n",
    "print(f\"after conversion a={a},b={b}\")\n",
    "res=a/b\n",
    "print(f\"res={res}\")\n",
    "print(\"ended\")"
   ]
  },
  {
   "cell_type": "code",
   "execution_count": 3,
   "metadata": {},
   "outputs": [
    {
     "name": "stdout",
     "output_type": "stream",
     "text": [
      "started\n",
      "Enter a number:12\n",
      "Enter b number:ert\n",
      "before conversion a=12,b=ert\n"
     ]
    },
    {
     "ename": "ValueError",
     "evalue": "invalid literal for int() with base 10: 'ert'",
     "output_type": "error",
     "traceback": [
      "\u001b[0;31m---------------------------------------------------------------------------\u001b[0m",
      "\u001b[0;31mValueError\u001b[0m                                Traceback (most recent call last)",
      "\u001b[0;32m<ipython-input-3-a44b58121527>\u001b[0m in \u001b[0;36m<module>\u001b[0;34m\u001b[0m\n\u001b[1;32m      4\u001b[0m \u001b[0mprint\u001b[0m\u001b[0;34m(\u001b[0m\u001b[0;34mf\"before conversion a={a},b={b}\"\u001b[0m\u001b[0;34m)\u001b[0m\u001b[0;34m\u001b[0m\u001b[0;34m\u001b[0m\u001b[0m\n\u001b[1;32m      5\u001b[0m \u001b[0ma\u001b[0m\u001b[0;34m=\u001b[0m\u001b[0mint\u001b[0m\u001b[0;34m(\u001b[0m\u001b[0ma\u001b[0m\u001b[0;34m)\u001b[0m\u001b[0;34m\u001b[0m\u001b[0;34m\u001b[0m\u001b[0m\n\u001b[0;32m----> 6\u001b[0;31m \u001b[0mb\u001b[0m\u001b[0;34m=\u001b[0m\u001b[0mint\u001b[0m\u001b[0;34m(\u001b[0m\u001b[0mb\u001b[0m\u001b[0;34m)\u001b[0m\u001b[0;34m\u001b[0m\u001b[0;34m\u001b[0m\u001b[0m\n\u001b[0m\u001b[1;32m      7\u001b[0m \u001b[0mprint\u001b[0m\u001b[0;34m(\u001b[0m\u001b[0;34mf\"after conversion a={a},b={b}\"\u001b[0m\u001b[0;34m)\u001b[0m\u001b[0;34m\u001b[0m\u001b[0;34m\u001b[0m\u001b[0m\n\u001b[1;32m      8\u001b[0m \u001b[0mres\u001b[0m\u001b[0;34m=\u001b[0m\u001b[0ma\u001b[0m\u001b[0;34m/\u001b[0m\u001b[0mb\u001b[0m\u001b[0;34m\u001b[0m\u001b[0;34m\u001b[0m\u001b[0m\n",
      "\u001b[0;31mValueError\u001b[0m: invalid literal for int() with base 10: 'ert'"
     ]
    }
   ],
   "source": [
    "print(\"started\")\n",
    "a=input(\"Enter a number:\")\n",
    "b=input(\"Enter b number:\")\n",
    "print(f\"before conversion a={a},b={b}\")\n",
    "a=int(a)\n",
    "b=int(b)\n",
    "print(f\"after conversion a={a},b={b}\")\n",
    "res=a/b\n",
    "print(f\"res={res}\")\n",
    "print(\"ended\")"
   ]
  },
  {
   "cell_type": "code",
   "execution_count": 4,
   "metadata": {},
   "outputs": [
    {
     "name": "stdout",
     "output_type": "stream",
     "text": [
      "started\n",
      "Enter a number:12.34\n",
      "Enter b number:34.56\n",
      "before conversion a=12.34,b=34.56\n"
     ]
    },
    {
     "ename": "ValueError",
     "evalue": "invalid literal for int() with base 10: '12.34'",
     "output_type": "error",
     "traceback": [
      "\u001b[0;31m---------------------------------------------------------------------------\u001b[0m",
      "\u001b[0;31mValueError\u001b[0m                                Traceback (most recent call last)",
      "\u001b[0;32m<ipython-input-4-a44b58121527>\u001b[0m in \u001b[0;36m<module>\u001b[0;34m\u001b[0m\n\u001b[1;32m      3\u001b[0m \u001b[0mb\u001b[0m\u001b[0;34m=\u001b[0m\u001b[0minput\u001b[0m\u001b[0;34m(\u001b[0m\u001b[0;34m\"Enter b number:\"\u001b[0m\u001b[0;34m)\u001b[0m\u001b[0;34m\u001b[0m\u001b[0;34m\u001b[0m\u001b[0m\n\u001b[1;32m      4\u001b[0m \u001b[0mprint\u001b[0m\u001b[0;34m(\u001b[0m\u001b[0;34mf\"before conversion a={a},b={b}\"\u001b[0m\u001b[0;34m)\u001b[0m\u001b[0;34m\u001b[0m\u001b[0;34m\u001b[0m\u001b[0m\n\u001b[0;32m----> 5\u001b[0;31m \u001b[0ma\u001b[0m\u001b[0;34m=\u001b[0m\u001b[0mint\u001b[0m\u001b[0;34m(\u001b[0m\u001b[0ma\u001b[0m\u001b[0;34m)\u001b[0m\u001b[0;34m\u001b[0m\u001b[0;34m\u001b[0m\u001b[0m\n\u001b[0m\u001b[1;32m      6\u001b[0m \u001b[0mb\u001b[0m\u001b[0;34m=\u001b[0m\u001b[0mint\u001b[0m\u001b[0;34m(\u001b[0m\u001b[0mb\u001b[0m\u001b[0;34m)\u001b[0m\u001b[0;34m\u001b[0m\u001b[0;34m\u001b[0m\u001b[0m\n\u001b[1;32m      7\u001b[0m \u001b[0mprint\u001b[0m\u001b[0;34m(\u001b[0m\u001b[0;34mf\"after conversion a={a},b={b}\"\u001b[0m\u001b[0;34m)\u001b[0m\u001b[0;34m\u001b[0m\u001b[0;34m\u001b[0m\u001b[0m\n",
      "\u001b[0;31mValueError\u001b[0m: invalid literal for int() with base 10: '12.34'"
     ]
    }
   ],
   "source": [
    "print(\"started\")\n",
    "a=input(\"Enter a number:\")\n",
    "b=input(\"Enter b number:\")\n",
    "print(f\"before conversion a={a},b={b}\")\n",
    "a=int(a)\n",
    "b=int(b)\n",
    "print(f\"after conversion a={a},b={b}\")\n",
    "res=a/b\n",
    "print(f\"res={res}\")\n",
    "print(\"ended\")"
   ]
  },
  {
   "cell_type": "code",
   "execution_count": 5,
   "metadata": {},
   "outputs": [
    {
     "name": "stdout",
     "output_type": "stream",
     "text": [
      "started\n",
      "Enter a number:12\n",
      "Enter b number:6\n",
      "before conversion a=12,b=6\n",
      "after conversion a=12.0,b=6.0\n",
      "res=2.0\n",
      "ended\n"
     ]
    }
   ],
   "source": [
    "print(\"started\")\n",
    "a=input(\"Enter a number:\")\n",
    "b=input(\"Enter b number:\")\n",
    "print(f\"before conversion a={a},b={b}\")\n",
    "a=float(a)\n",
    "b=float(b)\n",
    "print(f\"after conversion a={a},b={b}\")\n",
    "res=a/b\n",
    "print(f\"res={res}\")\n",
    "print(\"ended\")"
   ]
  },
  {
   "cell_type": "code",
   "execution_count": 6,
   "metadata": {},
   "outputs": [
    {
     "name": "stdout",
     "output_type": "stream",
     "text": [
      "started\n",
      "Enter a number:12.34\n",
      "Enter b number:34.56\n",
      "before conversion a=12.34,b=34.56\n",
      "after conversion a=12.34,b=34.56\n",
      "res=0.3570601851851852\n",
      "ended\n"
     ]
    }
   ],
   "source": [
    "print(\"started\")\n",
    "a=input(\"Enter a number:\")\n",
    "b=input(\"Enter b number:\")\n",
    "print(f\"before conversion a={a},b={b}\")\n",
    "a=float(a)\n",
    "b=float(b)\n",
    "print(f\"after conversion a={a},b={b}\")\n",
    "res=a/b\n",
    "print(f\"res={res}\")\n",
    "print(\"ended\")"
   ]
  },
  {
   "cell_type": "code",
   "execution_count": 7,
   "metadata": {},
   "outputs": [
    {
     "name": "stdout",
     "output_type": "stream",
     "text": [
      "started\n",
      "Enter a number:12\n",
      "Enter b number:0\n",
      "before conversion a=12,b=0\n",
      "after conversion a=12.0,b=0.0\n"
     ]
    },
    {
     "ename": "ZeroDivisionError",
     "evalue": "float division by zero",
     "output_type": "error",
     "traceback": [
      "\u001b[0;31m---------------------------------------------------------------------------\u001b[0m",
      "\u001b[0;31mZeroDivisionError\u001b[0m                         Traceback (most recent call last)",
      "\u001b[0;32m<ipython-input-7-5e65c960ceff>\u001b[0m in \u001b[0;36m<module>\u001b[0;34m\u001b[0m\n\u001b[1;32m      6\u001b[0m \u001b[0mb\u001b[0m\u001b[0;34m=\u001b[0m\u001b[0mfloat\u001b[0m\u001b[0;34m(\u001b[0m\u001b[0mb\u001b[0m\u001b[0;34m)\u001b[0m\u001b[0;34m\u001b[0m\u001b[0;34m\u001b[0m\u001b[0m\n\u001b[1;32m      7\u001b[0m \u001b[0mprint\u001b[0m\u001b[0;34m(\u001b[0m\u001b[0;34mf\"after conversion a={a},b={b}\"\u001b[0m\u001b[0;34m)\u001b[0m\u001b[0;34m\u001b[0m\u001b[0;34m\u001b[0m\u001b[0m\n\u001b[0;32m----> 8\u001b[0;31m \u001b[0mres\u001b[0m\u001b[0;34m=\u001b[0m\u001b[0ma\u001b[0m\u001b[0;34m/\u001b[0m\u001b[0mb\u001b[0m\u001b[0;34m\u001b[0m\u001b[0;34m\u001b[0m\u001b[0m\n\u001b[0m\u001b[1;32m      9\u001b[0m \u001b[0mprint\u001b[0m\u001b[0;34m(\u001b[0m\u001b[0;34mf\"res={res}\"\u001b[0m\u001b[0;34m)\u001b[0m\u001b[0;34m\u001b[0m\u001b[0;34m\u001b[0m\u001b[0m\n\u001b[1;32m     10\u001b[0m \u001b[0mprint\u001b[0m\u001b[0;34m(\u001b[0m\u001b[0;34m\"ended\"\u001b[0m\u001b[0;34m)\u001b[0m\u001b[0;34m\u001b[0m\u001b[0;34m\u001b[0m\u001b[0m\n",
      "\u001b[0;31mZeroDivisionError\u001b[0m: float division by zero"
     ]
    }
   ],
   "source": [
    "print(\"started\")\n",
    "a=input(\"Enter a number:\")\n",
    "b=input(\"Enter b number:\")\n",
    "print(f\"before conversion a={a},b={b}\")\n",
    "a=float(a)\n",
    "b=float(b)\n",
    "print(f\"after conversion a={a},b={b}\")\n",
    "res=a/b\n",
    "print(f\"res={res}\")\n",
    "print(\"ended\")"
   ]
  },
  {
   "cell_type": "code",
   "execution_count": 8,
   "metadata": {},
   "outputs": [
    {
     "name": "stdout",
     "output_type": "stream",
     "text": [
      "started\n",
      "Enter a number:12\n",
      "Enter b number:ert\n",
      "before conversion a=12,b=ert\n"
     ]
    },
    {
     "ename": "ValueError",
     "evalue": "could not convert string to float: 'ert'",
     "output_type": "error",
     "traceback": [
      "\u001b[0;31m---------------------------------------------------------------------------\u001b[0m",
      "\u001b[0;31mValueError\u001b[0m                                Traceback (most recent call last)",
      "\u001b[0;32m<ipython-input-8-5e65c960ceff>\u001b[0m in \u001b[0;36m<module>\u001b[0;34m\u001b[0m\n\u001b[1;32m      4\u001b[0m \u001b[0mprint\u001b[0m\u001b[0;34m(\u001b[0m\u001b[0;34mf\"before conversion a={a},b={b}\"\u001b[0m\u001b[0;34m)\u001b[0m\u001b[0;34m\u001b[0m\u001b[0;34m\u001b[0m\u001b[0m\n\u001b[1;32m      5\u001b[0m \u001b[0ma\u001b[0m\u001b[0;34m=\u001b[0m\u001b[0mfloat\u001b[0m\u001b[0;34m(\u001b[0m\u001b[0ma\u001b[0m\u001b[0;34m)\u001b[0m\u001b[0;34m\u001b[0m\u001b[0;34m\u001b[0m\u001b[0m\n\u001b[0;32m----> 6\u001b[0;31m \u001b[0mb\u001b[0m\u001b[0;34m=\u001b[0m\u001b[0mfloat\u001b[0m\u001b[0;34m(\u001b[0m\u001b[0mb\u001b[0m\u001b[0;34m)\u001b[0m\u001b[0;34m\u001b[0m\u001b[0;34m\u001b[0m\u001b[0m\n\u001b[0m\u001b[1;32m      7\u001b[0m \u001b[0mprint\u001b[0m\u001b[0;34m(\u001b[0m\u001b[0;34mf\"after conversion a={a},b={b}\"\u001b[0m\u001b[0;34m)\u001b[0m\u001b[0;34m\u001b[0m\u001b[0;34m\u001b[0m\u001b[0m\n\u001b[1;32m      8\u001b[0m \u001b[0mres\u001b[0m\u001b[0;34m=\u001b[0m\u001b[0ma\u001b[0m\u001b[0;34m/\u001b[0m\u001b[0mb\u001b[0m\u001b[0;34m\u001b[0m\u001b[0;34m\u001b[0m\u001b[0m\n",
      "\u001b[0;31mValueError\u001b[0m: could not convert string to float: 'ert'"
     ]
    }
   ],
   "source": [
    "print(\"started\")\n",
    "a=input(\"Enter a number:\")\n",
    "b=input(\"Enter b number:\")\n",
    "print(f\"before conversion a={a},b={b}\")\n",
    "a=float(a)\n",
    "b=float(b)\n",
    "print(f\"after conversion a={a},b={b}\")\n",
    "res=a/b\n",
    "print(f\"res={res}\")\n",
    "print(\"ended\")"
   ]
  },
  {
   "cell_type": "code",
   "execution_count": 9,
   "metadata": {},
   "outputs": [
    {
     "name": "stdout",
     "output_type": "stream",
     "text": [
      "started\n",
      "Enter a number:12\n",
      "Enter b number:6\n",
      "before conversion a=12,b=6\n",
      "after conversion a=12.0,b=6.0\n",
      "res=2.0\n",
      "ended\n"
     ]
    }
   ],
   "source": [
    "try:\n",
    "    print(\"started\")\n",
    "    a=input(\"Enter a number:\")\n",
    "    b=input(\"Enter b number:\")\n",
    "    print(f\"before conversion a={a},b={b}\")\n",
    "    a=float(a)\n",
    "    b=float(b)\n",
    "    print(f\"after conversion a={a},b={b}\")\n",
    "    res=a/b\n",
    "    print(f\"res={res}\")\n",
    "    print(\"ended\")\n",
    "except:\n",
    "    print(\"some error\")"
   ]
  },
  {
   "cell_type": "code",
   "execution_count": 10,
   "metadata": {},
   "outputs": [
    {
     "name": "stdout",
     "output_type": "stream",
     "text": [
      "started\n",
      "Enter a number:12\n",
      "Enter b number:0\n",
      "before conversion a=12,b=0\n",
      "after conversion a=12.0,b=0.0\n",
      "some error\n"
     ]
    }
   ],
   "source": [
    "try:\n",
    "    print(\"started\")\n",
    "    a=input(\"Enter a number:\")\n",
    "    b=input(\"Enter b number:\")\n",
    "    print(f\"before conversion a={a},b={b}\")\n",
    "    a=float(a)\n",
    "    b=float(b)\n",
    "    print(f\"after conversion a={a},b={b}\")\n",
    "    res=a/b\n",
    "    print(f\"res={res}\")\n",
    "    print(\"ended\")\n",
    "except:\n",
    "    print(\"some error\")"
   ]
  },
  {
   "cell_type": "code",
   "execution_count": 11,
   "metadata": {},
   "outputs": [
    {
     "name": "stdout",
     "output_type": "stream",
     "text": [
      "started\n",
      "Enter a number:12\n",
      "Enter b number:6\n",
      "before conversion a=12,b=6\n",
      "after conversion a=12.0,b=6.0\n",
      "res=2.0\n",
      "ended\n",
      "main block continues\n"
     ]
    }
   ],
   "source": [
    "try:\n",
    "    print(\"started\")\n",
    "    a=input(\"Enter a number:\")\n",
    "    b=input(\"Enter b number:\")\n",
    "    print(f\"before conversion a={a},b={b}\")\n",
    "    a=float(a)\n",
    "    b=float(b)\n",
    "    print(f\"after conversion a={a},b={b}\")\n",
    "    res=a/b\n",
    "    print(f\"res={res}\")\n",
    "    print(\"ended\")\n",
    "except:\n",
    "    print(\"some error\")\n",
    "print(\"main block continues\")"
   ]
  },
  {
   "cell_type": "code",
   "execution_count": 12,
   "metadata": {},
   "outputs": [
    {
     "name": "stdout",
     "output_type": "stream",
     "text": [
      "started\n",
      "Enter a number:12\n",
      "Enter b number:0\n",
      "before conversion a=12,b=0\n",
      "after conversion a=12.0,b=0.0\n",
      "some error\n",
      "main block continues\n"
     ]
    }
   ],
   "source": [
    "try:\n",
    "    print(\"started\")\n",
    "    a=input(\"Enter a number:\")\n",
    "    b=input(\"Enter b number:\")\n",
    "    print(f\"before conversion a={a},b={b}\")\n",
    "    a=float(a)\n",
    "    b=float(b)\n",
    "    print(f\"after conversion a={a},b={b}\")\n",
    "    res=a/b\n",
    "    print(f\"res={res}\")\n",
    "    print(\"ended\")\n",
    "except:\n",
    "    print(\"some error\")\n",
    "print(\"main block continues\")"
   ]
  },
  {
   "cell_type": "code",
   "execution_count": 13,
   "metadata": {},
   "outputs": [
    {
     "name": "stdout",
     "output_type": "stream",
     "text": [
      "started\n",
      "Enter a number:12\n",
      "Enter b number:0\n",
      "before conversion a=12,b=0\n",
      "after conversion a=12.0,b=0.0\n",
      "some error\n",
      "ended\n",
      "main block continues\n"
     ]
    }
   ],
   "source": [
    "print(\"started\")\n",
    "a=input(\"Enter a number:\")\n",
    "b=input(\"Enter b number:\")\n",
    "print(f\"before conversion a={a},b={b}\")\n",
    "try:\n",
    "    a=float(a)\n",
    "    b=float(b)\n",
    "    print(f\"after conversion a={a},b={b}\")\n",
    "    res=a/b\n",
    "    print(f\"res={res}\")\n",
    "except:\n",
    "    print(\"some error\")\n",
    "print(\"ended\")\n",
    "print(\"main block continues\")"
   ]
  },
  {
   "cell_type": "code",
   "execution_count": 14,
   "metadata": {},
   "outputs": [
    {
     "name": "stdout",
     "output_type": "stream",
     "text": [
      "started\n",
      "Enter a number:12\n",
      "Enter b number:0\n",
      "before conversion a=12,b=0\n",
      "after conversion a=12.0,b=0.0\n",
      "some error\n",
      "ended\n",
      "main block continues\n"
     ]
    }
   ],
   "source": [
    "print(\"started\")\n",
    "a=input(\"Enter a number:\")\n",
    "b=input(\"Enter b number:\")\n",
    "print(f\"before conversion a={a},b={b}\")\n",
    "try:\n",
    "    a=float(a)\n",
    "    b=float(b)\n",
    "    print(f\"after conversion a={a},b={b}\")\n",
    "    res=a/b\n",
    "    print(f\"res={res}\")\n",
    "except:\n",
    "    print(\"some error\")\n",
    "print(\"ended\")\n",
    "print(\"main block continues\")"
   ]
  },
  {
   "cell_type": "code",
   "execution_count": 15,
   "metadata": {},
   "outputs": [
    {
     "name": "stdout",
     "output_type": "stream",
     "text": [
      "started\n",
      "Enter a number:qw\n",
      "Enter b number:rt\n",
      "before conversion a=qw,b=rt\n",
      "some error\n",
      "ended\n",
      "main block continues\n"
     ]
    }
   ],
   "source": [
    "print(\"started\")\n",
    "a=input(\"Enter a number:\")\n",
    "b=input(\"Enter b number:\")\n",
    "print(f\"before conversion a={a},b={b}\")\n",
    "try:\n",
    "    a=float(a)\n",
    "    b=float(b)\n",
    "    print(f\"after conversion a={a},b={b}\")\n",
    "    res=a/b\n",
    "    print(f\"res={res}\")\n",
    "except:\n",
    "    print(\"some error\")\n",
    "print(\"ended\")\n",
    "print(\"main block continues\")"
   ]
  },
  {
   "cell_type": "code",
   "execution_count": 16,
   "metadata": {},
   "outputs": [
    {
     "name": "stdout",
     "output_type": "stream",
     "text": [
      "started\n",
      "Enter a number:12\n",
      "Enter b number:6\n",
      "before conversion a=12,b=6\n",
      "after conversion a=12.0,b=6.0\n",
      "res=2.0\n",
      "ended\n",
      "main block continues\n"
     ]
    }
   ],
   "source": [
    "print(\"started\")\n",
    "a=input(\"Enter a number:\")\n",
    "b=input(\"Enter b number:\")\n",
    "print(f\"before conversion a={a},b={b}\")\n",
    "try:\n",
    "    a=float(a)\n",
    "    b=float(b)\n",
    "    print(f\"after conversion a={a},b={b}\")\n",
    "    res=a/b\n",
    "    print(f\"res={res}\")\n",
    "except Exception as err:\n",
    "    print(\"some error\")\n",
    "    print(err)\n",
    "print(\"ended\")\n",
    "print(\"main block continues\")"
   ]
  },
  {
   "cell_type": "code",
   "execution_count": 17,
   "metadata": {},
   "outputs": [
    {
     "name": "stdout",
     "output_type": "stream",
     "text": [
      "started\n",
      "Enter a number:12\n",
      "Enter b number:0\n",
      "before conversion a=12,b=0\n",
      "after conversion a=12.0,b=0.0\n",
      "some error\n",
      "float division by zero\n",
      "ended\n",
      "main block continues\n"
     ]
    }
   ],
   "source": [
    "print(\"started\")\n",
    "a=input(\"Enter a number:\")\n",
    "b=input(\"Enter b number:\")\n",
    "print(f\"before conversion a={a},b={b}\")\n",
    "try:\n",
    "    a=float(a)\n",
    "    b=float(b)\n",
    "    print(f\"after conversion a={a},b={b}\")\n",
    "    res=a/b\n",
    "    print(f\"res={res}\")\n",
    "except Exception as err:\n",
    "    print(\"some error\")\n",
    "    print(err)\n",
    "print(\"ended\")\n",
    "print(\"main block continues\")"
   ]
  },
  {
   "cell_type": "code",
   "execution_count": 18,
   "metadata": {},
   "outputs": [
    {
     "name": "stdout",
     "output_type": "stream",
     "text": [
      "started\n",
      "Enter a number:wer\n",
      "Enter b number:ert\n",
      "before conversion a=wer,b=ert\n",
      "some error\n",
      "could not convert string to float: 'wer'\n",
      "ended\n",
      "main block continues\n"
     ]
    }
   ],
   "source": [
    "print(\"started\")\n",
    "a=input(\"Enter a number:\")\n",
    "b=input(\"Enter b number:\")\n",
    "print(f\"before conversion a={a},b={b}\")\n",
    "try:\n",
    "    a=float(a)\n",
    "    b=float(b)\n",
    "    print(f\"after conversion a={a},b={b}\")\n",
    "    res=a/b\n",
    "    print(f\"res={res}\")\n",
    "except Exception as err:\n",
    "    print(\"some error\")\n",
    "    print(err)\n",
    "print(\"ended\")\n",
    "print(\"main block continues\")"
   ]
  },
  {
   "cell_type": "code",
   "execution_count": 19,
   "metadata": {},
   "outputs": [
    {
     "name": "stdout",
     "output_type": "stream",
     "text": [
      "started\n",
      "Enter a number:12\n",
      "Enter b number:6\n",
      "before conversion a=12,b=6\n",
      "after conversion a=12.0,b=6.0\n",
      "res=2.0\n",
      "ended\n",
      "main block continues\n"
     ]
    }
   ],
   "source": [
    "print(\"started\")\n",
    "a=input(\"Enter a number:\")\n",
    "b=input(\"Enter b number:\")\n",
    "print(f\"before conversion a={a},b={b}\")\n",
    "try:\n",
    "    a=float(a)\n",
    "    b=float(b)\n",
    "    print(f\"after conversion a={a},b={b}\")\n",
    "    res=a/b\n",
    "    print(f\"res={res}\")\n",
    "except ZeroDivisonError as err:\n",
    "    print(\"\\tIssue in your input\")\n",
    "    print(\"\\tb!=0\")\n",
    "except ValueError as err:\n",
    "    print(\"\\tIssue in your input\")\n",
    "    print(\"\\texpecting only numbers\")\n",
    "except Exception as err:\n",
    "    print(\"\\tsome error\")\n",
    "    print(\"\\t\",err)\n",
    "print(\"ended\")\n",
    "print(\"main block continues\")"
   ]
  },
  {
   "cell_type": "code",
   "execution_count": 21,
   "metadata": {},
   "outputs": [
    {
     "name": "stdout",
     "output_type": "stream",
     "text": [
      "started\n",
      "Enter a number:12\n",
      "Enter b number:0\n",
      "before conversion a=12,b=0\n",
      "after conversion a=12.0,b=0.0\n",
      "\tIssue in your input\n",
      "\tb!=0\n",
      "ended\n",
      "main block continues\n"
     ]
    }
   ],
   "source": [
    "print(\"started\")\n",
    "a=input(\"Enter a number:\")\n",
    "b=input(\"Enter b number:\")\n",
    "print(f\"before conversion a={a},b={b}\")\n",
    "try:\n",
    "    a=float(a)\n",
    "    b=float(b)\n",
    "    print(f\"after conversion a={a},b={b}\")\n",
    "    res=a/b\n",
    "    print(f\"res={res}\")\n",
    "except ZeroDivisionError as err:\n",
    "    print(\"\\tIssue in your input\")\n",
    "    print(\"\\tb!=0\")\n",
    "except ValueError as err:\n",
    "    print(\"\\tIssue in your input\")\n",
    "    print(\"\\texpecting only numbers\")\n",
    "except Exception as err:\n",
    "    print(\"\\tsome error\")\n",
    "    print(\"\\t\",err)\n",
    "print(\"ended\")\n",
    "print(\"main block continues\")"
   ]
  },
  {
   "cell_type": "code",
   "execution_count": 22,
   "metadata": {},
   "outputs": [
    {
     "name": "stdout",
     "output_type": "stream",
     "text": [
      "started\n",
      "Enter a number:wer\n",
      "Enter b number:rtt\n",
      "before conversion a=wer,b=rtt\n",
      "\tIssue in your input\n",
      "\texpecting only numbers\n",
      "ended\n",
      "main block continues\n"
     ]
    }
   ],
   "source": [
    "print(\"started\")\n",
    "a=input(\"Enter a number:\")\n",
    "b=input(\"Enter b number:\")\n",
    "print(f\"before conversion a={a},b={b}\")\n",
    "try:\n",
    "    a=float(a)\n",
    "    b=float(b)\n",
    "    print(f\"after conversion a={a},b={b}\")\n",
    "    res=a/b\n",
    "    print(f\"res={res}\")\n",
    "except ZeroDivisionError as err:\n",
    "    print(\"\\tIssue in your input\")\n",
    "    print(\"\\tb!=0\")\n",
    "except ValueError as err:\n",
    "    print(\"\\tIssue in your input\")\n",
    "    print(\"\\texpecting only numbers\")\n",
    "except Exception as err:\n",
    "    print(\"\\tsome error\")\n",
    "    print(\"\\t\",err)\n",
    "print(\"ended\")\n",
    "print(\"main block continues\")"
   ]
  },
  {
   "cell_type": "code",
   "execution_count": null,
   "metadata": {},
   "outputs": [],
   "source": [
    "print(\"started\")\n",
    "a=input(\"Enter a number:\")\n",
    "b=input(\"Enter b number:\")\n",
    "print(f\"before conversion a={a},b={b}\")\n",
    "try:\n",
    "    a=float(a)\n",
    "    b=float(b)\n",
    "    print(f\"after conversion a={a},b={b}\")\n",
    "    res=a/b\n",
    "    print(f\"res={res}\")\n",
    "except ZeroDivisionError as err:\n",
    "    print(\"\\tIssue in your input\")\n",
    "    print(\"\\tb!=0\")\n",
    "except ValueError as err:\n",
    "    print(\"\\tIssue in your input\")\n",
    "    print(\"\\texpecting only numbers\")\n",
    "except Exception as err:\n",
    "    print(\"\\tsome error\")\n",
    "    print(\"\\t\",err)\n",
    "print(\"ended\")\n",
    "print(\"main block continues\")"
   ]
  },
  {
   "cell_type": "code",
   "execution_count": 23,
   "metadata": {},
   "outputs": [
    {
     "name": "stdout",
     "output_type": "stream",
     "text": [
      "started\n",
      "try\n",
      "finally\n",
      "main\n"
     ]
    }
   ],
   "source": [
    "print(\"started\")\n",
    "try:\n",
    "    print(\"try\")\n",
    "except:\n",
    "    print(\"except\")\n",
    "finally:\n",
    "    print(\"finally\")\n"
   ]
  },
  {
   "cell_type": "code",
   "execution_count": 24,
   "metadata": {},
   "outputs": [
    {
     "name": "stdout",
     "output_type": "stream",
     "text": [
      "started\n",
      "try\n",
      "except\n",
      "finally\n",
      "main\n"
     ]
    }
   ],
   "source": [
    "print(\"started\")\n",
    "try:\n",
    "    print(\"try\")\n",
    "    print(1/0)\n",
    "except:\n",
    "    print(\"except\")\n",
    "finally:\n",
    "    print(\"finally\")\n",
    "print(\"main\")"
   ]
  },
  {
   "cell_type": "code",
   "execution_count": 25,
   "metadata": {},
   "outputs": [
    {
     "name": "stdout",
     "output_type": "stream",
     "text": [
      "started\n",
      "try\n",
      "except\n",
      "finally\n",
      "main\n"
     ]
    }
   ],
   "source": [
    "print(\"started\")\n",
    "try:\n",
    "    print(\"try\")\n",
    "    print(1/0)\n",
    "except:\n",
    "    print(\"except\")\n",
    "\n",
    "print(\"finally\")\n",
    "print(\"main\")"
   ]
  },
  {
   "cell_type": "code",
   "execution_count": 26,
   "metadata": {},
   "outputs": [
    {
     "name": "stdout",
     "output_type": "stream",
     "text": [
      "started\n",
      "try\n",
      "finally\n",
      "main\n"
     ]
    }
   ],
   "source": [
    "print(\"started\")\n",
    "try:\n",
    "    print(\"try\")\n",
    "    \n",
    "except:\n",
    "    print(\"except\")\n",
    "print(\"finally\")\n",
    "print(\"main\")"
   ]
  },
  {
   "cell_type": "code",
   "execution_count": 28,
   "metadata": {},
   "outputs": [
    {
     "name": "stdout",
     "output_type": "stream",
     "text": [
      "started\n",
      "try\n",
      "finally\n"
     ]
    },
    {
     "ename": "ZeroDivisionError",
     "evalue": "division by zero",
     "output_type": "error",
     "traceback": [
      "\u001b[0;31m---------------------------------------------------------------------------\u001b[0m",
      "\u001b[0;31mZeroDivisionError\u001b[0m                         Traceback (most recent call last)",
      "\u001b[0;32m<ipython-input-28-9dccebb2fbb9>\u001b[0m in \u001b[0;36m<module>\u001b[0;34m\u001b[0m\n\u001b[1;32m      3\u001b[0m \u001b[0;32mtry\u001b[0m\u001b[0;34m:\u001b[0m\u001b[0;34m\u001b[0m\u001b[0;34m\u001b[0m\u001b[0m\n\u001b[1;32m      4\u001b[0m     \u001b[0mprint\u001b[0m\u001b[0;34m(\u001b[0m\u001b[0;34m\"try\"\u001b[0m\u001b[0;34m)\u001b[0m\u001b[0;34m\u001b[0m\u001b[0;34m\u001b[0m\u001b[0m\n\u001b[0;32m----> 5\u001b[0;31m     \u001b[0mprint\u001b[0m\u001b[0;34m(\u001b[0m\u001b[0;36m1\u001b[0m\u001b[0;34m/\u001b[0m\u001b[0;36m0\u001b[0m\u001b[0;34m)\u001b[0m\u001b[0;34m\u001b[0m\u001b[0;34m\u001b[0m\u001b[0m\n\u001b[0m\u001b[1;32m      6\u001b[0m \u001b[0;32mfinally\u001b[0m\u001b[0;34m:\u001b[0m\u001b[0;34m\u001b[0m\u001b[0;34m\u001b[0m\u001b[0m\n\u001b[1;32m      7\u001b[0m     \u001b[0mprint\u001b[0m\u001b[0;34m(\u001b[0m\u001b[0;34m\"finally\"\u001b[0m\u001b[0;34m)\u001b[0m\u001b[0;34m\u001b[0m\u001b[0;34m\u001b[0m\u001b[0m\n",
      "\u001b[0;31mZeroDivisionError\u001b[0m: division by zero"
     ]
    }
   ],
   "source": [
    "print(\"started\")\n",
    "f=open(\"data.txt\",\"w\")\n",
    "try:\n",
    "    print(\"try\")\n",
    "    print(1/0)\n",
    "finally:\n",
    "    print(\"finally\")\n",
    "f.close()\n",
    "print(\"main\")"
   ]
  },
  {
   "cell_type": "code",
   "execution_count": 29,
   "metadata": {},
   "outputs": [
    {
     "name": "stdout",
     "output_type": "stream",
     "text": [
      "started\n",
      "try\n",
      "finally\n"
     ]
    },
    {
     "ename": "ZeroDivisionError",
     "evalue": "division by zero",
     "output_type": "error",
     "traceback": [
      "\u001b[0;31m---------------------------------------------------------------------------\u001b[0m",
      "\u001b[0;31mZeroDivisionError\u001b[0m                         Traceback (most recent call last)",
      "\u001b[0;32m<ipython-input-29-a7bfd0bced44>\u001b[0m in \u001b[0;36m<module>\u001b[0;34m\u001b[0m\n\u001b[1;32m      3\u001b[0m \u001b[0;32mtry\u001b[0m\u001b[0;34m:\u001b[0m\u001b[0;34m\u001b[0m\u001b[0;34m\u001b[0m\u001b[0m\n\u001b[1;32m      4\u001b[0m     \u001b[0mprint\u001b[0m\u001b[0;34m(\u001b[0m\u001b[0;34m\"try\"\u001b[0m\u001b[0;34m)\u001b[0m\u001b[0;34m\u001b[0m\u001b[0;34m\u001b[0m\u001b[0m\n\u001b[0;32m----> 5\u001b[0;31m     \u001b[0mprint\u001b[0m\u001b[0;34m(\u001b[0m\u001b[0;36m1\u001b[0m\u001b[0;34m/\u001b[0m\u001b[0;36m0\u001b[0m\u001b[0;34m)\u001b[0m\u001b[0;34m\u001b[0m\u001b[0;34m\u001b[0m\u001b[0m\n\u001b[0m\u001b[1;32m      6\u001b[0m \u001b[0;32mfinally\u001b[0m\u001b[0;34m:\u001b[0m\u001b[0;34m\u001b[0m\u001b[0;34m\u001b[0m\u001b[0m\n\u001b[1;32m      7\u001b[0m     \u001b[0mprint\u001b[0m\u001b[0;34m(\u001b[0m\u001b[0;34m\"finally\"\u001b[0m\u001b[0;34m)\u001b[0m\u001b[0;34m\u001b[0m\u001b[0;34m\u001b[0m\u001b[0m\n",
      "\u001b[0;31mZeroDivisionError\u001b[0m: division by zero"
     ]
    }
   ],
   "source": [
    "print(\"started\")\n",
    "f=open(\"data.txt\",\"w\")\n",
    "try:\n",
    "    print(\"try\")\n",
    "    print(1/0)\n",
    "finally:\n",
    "    print(\"finally\")\n",
    "    f.close()\n",
    "print(\"main\")"
   ]
  },
  {
   "cell_type": "code",
   "execution_count": 30,
   "metadata": {},
   "outputs": [
    {
     "name": "stdout",
     "output_type": "stream",
     "text": [
      "res= 10\n"
     ]
    }
   ],
   "source": [
    "def fun():\n",
    "    try:\n",
    "        return 10\n",
    "    except:\n",
    "        return 20\n",
    "    return 30\n",
    "res=fun()\n",
    "print(\"res=\",res)"
   ]
  },
  {
   "cell_type": "code",
   "execution_count": 31,
   "metadata": {},
   "outputs": [
    {
     "name": "stdout",
     "output_type": "stream",
     "text": [
      "res= 10\n"
     ]
    }
   ],
   "source": [
    "def fun():\n",
    "    try:\n",
    "        return 10\n",
    "        print(1/0)\n",
    "    except:\n",
    "        return 20\n",
    "    return 30\n",
    "res=fun()\n",
    "print(\"res=\",res)"
   ]
  },
  {
   "cell_type": "code",
   "execution_count": 32,
   "metadata": {},
   "outputs": [
    {
     "name": "stdout",
     "output_type": "stream",
     "text": [
      "res= 20\n"
     ]
    }
   ],
   "source": [
    "def fun():\n",
    "    try:\n",
    "        print(1/0)\n",
    "        return 10\n",
    "    except:\n",
    "        return 20\n",
    "    return 30\n",
    "res=fun()\n",
    "print(\"res=\",res)"
   ]
  },
  {
   "cell_type": "code",
   "execution_count": 33,
   "metadata": {},
   "outputs": [
    {
     "name": "stdout",
     "output_type": "stream",
     "text": [
      "fiunally\n",
      "res= 20\n"
     ]
    }
   ],
   "source": [
    "def fun():\n",
    "    try:\n",
    "        print(1/0)\n",
    "        return 10\n",
    "    except:\n",
    "        return 20\n",
    "    finally:\n",
    "        print(\"fiunally\")\n",
    "    return 30\n",
    "res=fun()\n",
    "print(\"res=\",res)"
   ]
  },
  {
   "cell_type": "code",
   "execution_count": 35,
   "metadata": {},
   "outputs": [
    {
     "name": "stdout",
     "output_type": "stream",
     "text": [
      "fiunally\n",
      "res= 40\n"
     ]
    }
   ],
   "source": [
    "def fun():\n",
    "    try:\n",
    "        print(1/0)\n",
    "        return 10\n",
    "    except:\n",
    "        return 20\n",
    "    finally:\n",
    "        print(\"fiunally\")\n",
    "        return 40\n",
    "    print(\"main\")\n",
    "    return 30\n",
    "res=fun()\n",
    "print(\"res=\",res)"
   ]
  },
  {
   "cell_type": "code",
   "execution_count": 36,
   "metadata": {},
   "outputs": [
    {
     "name": "stdout",
     "output_type": "stream",
     "text": [
      "try\n",
      "finally\n",
      "main\n"
     ]
    }
   ],
   "source": [
    "for i in range(10):\n",
    "    try:\n",
    "        print(\"try\")\n",
    "        break\n",
    "    except:\n",
    "        print(\"except\")\n",
    "    finally:\n",
    "        print(\"finally\")\n",
    "print(\"main\")"
   ]
  },
  {
   "cell_type": "code",
   "execution_count": 37,
   "metadata": {},
   "outputs": [
    {
     "name": "stdout",
     "output_type": "stream",
     "text": [
      "try\n",
      "try\n",
      "else\n",
      "finally\n",
      "main\n"
     ]
    }
   ],
   "source": [
    "print(\"try\")\n",
    "try:\n",
    "    print(\"try\")\n",
    "except:\n",
    "    print(\"except\")\n",
    "else:\n",
    "    print(\"else\")\n",
    "finally:\n",
    "    print(\"finally\")\n",
    "print(\"main\")"
   ]
  },
  {
   "cell_type": "code",
   "execution_count": 38,
   "metadata": {},
   "outputs": [
    {
     "name": "stdout",
     "output_type": "stream",
     "text": [
      "try\n",
      "try\n",
      "except\n",
      "finally\n",
      "main\n"
     ]
    }
   ],
   "source": [
    "print(\"try\")\n",
    "try:\n",
    "    print(\"try\")\n",
    "    print(1/0)\n",
    "except:\n",
    "    print(\"except\")\n",
    "else:\n",
    "    print(\"else\")\n",
    "finally:\n",
    "    print(\"finally\")\n",
    "print(\"main\")"
   ]
  },
  {
   "cell_type": "code",
   "execution_count": 39,
   "metadata": {},
   "outputs": [
    {
     "ename": "SingletonException",
     "evalue": "Can create only one object",
     "output_type": "error",
     "traceback": [
      "\u001b[0;31m---------------------------------------------------------------------------\u001b[0m",
      "\u001b[0;31mSingletonException\u001b[0m                        Traceback (most recent call last)",
      "\u001b[0;32m<ipython-input-39-40e57d41d482>\u001b[0m in \u001b[0;36m<module>\u001b[0;34m\u001b[0m\n\u001b[1;32m      1\u001b[0m \u001b[0;32mclass\u001b[0m \u001b[0mSingletonException\u001b[0m\u001b[0;34m(\u001b[0m\u001b[0mException\u001b[0m\u001b[0;34m)\u001b[0m\u001b[0;34m:\u001b[0m\u001b[0;34m\u001b[0m\u001b[0;34m\u001b[0m\u001b[0m\n\u001b[1;32m      2\u001b[0m     \u001b[0;32mpass\u001b[0m\u001b[0;34m\u001b[0m\u001b[0;34m\u001b[0m\u001b[0m\n\u001b[0;32m----> 3\u001b[0;31m \u001b[0;32mraise\u001b[0m \u001b[0mSingletonException\u001b[0m\u001b[0;34m(\u001b[0m\u001b[0;34m\"Can create only one object\"\u001b[0m\u001b[0;34m)\u001b[0m\u001b[0;34m\u001b[0m\u001b[0;34m\u001b[0m\u001b[0m\n\u001b[0m",
      "\u001b[0;31mSingletonException\u001b[0m: Can create only one object"
     ]
    }
   ],
   "source": [
    "class SingletonException(Exception):\n",
    "    pass\n",
    "raise SingletonException(\"Can create only one object\")"
   ]
  },
  {
   "cell_type": "code",
   "execution_count": 40,
   "metadata": {},
   "outputs": [
    {
     "ename": "ServerNotReachableException",
     "evalue": "Can't reach the server",
     "output_type": "error",
     "traceback": [
      "\u001b[0;31m---------------------------------------------------------------------------\u001b[0m",
      "\u001b[0;31mServerNotReachableException\u001b[0m               Traceback (most recent call last)",
      "\u001b[0;32m<ipython-input-40-886830c52d72>\u001b[0m in \u001b[0;36m<module>\u001b[0;34m\u001b[0m\n\u001b[1;32m      1\u001b[0m \u001b[0;32mclass\u001b[0m \u001b[0mServerNotReachableException\u001b[0m\u001b[0;34m(\u001b[0m\u001b[0mException\u001b[0m\u001b[0;34m)\u001b[0m\u001b[0;34m:\u001b[0m\u001b[0;34m\u001b[0m\u001b[0;34m\u001b[0m\u001b[0m\n\u001b[1;32m      2\u001b[0m     \u001b[0;32mpass\u001b[0m\u001b[0;34m\u001b[0m\u001b[0;34m\u001b[0m\u001b[0m\n\u001b[0;32m----> 3\u001b[0;31m \u001b[0;32mraise\u001b[0m \u001b[0mServerNotReachableException\u001b[0m\u001b[0;34m(\u001b[0m\u001b[0;34m\"Can't reach the server\"\u001b[0m\u001b[0;34m)\u001b[0m\u001b[0;34m\u001b[0m\u001b[0;34m\u001b[0m\u001b[0m\n\u001b[0m",
      "\u001b[0;31mServerNotReachableException\u001b[0m: Can't reach the server"
     ]
    }
   ],
   "source": [
    "class ServerNotReachableException(Exception):\n",
    "    pass\n",
    "raise ServerNotReachableException(\"Can't reach the server\")"
   ]
  },
  {
   "cell_type": "code",
   "execution_count": 41,
   "metadata": {},
   "outputs": [
    {
     "name": "stdout",
     "output_type": "stream",
     "text": [
      "Enter a number:12\n"
     ]
    }
   ],
   "source": [
    "class NegativeNumber(Exception):\n",
    "    pass\n",
    "a=float(input(\"Enter a number:\"))\n",
    "if a<0:\n",
    "    raise NegativeNumber(\"Enter number >0\")"
   ]
  },
  {
   "cell_type": "code",
   "execution_count": 42,
   "metadata": {},
   "outputs": [
    {
     "name": "stdout",
     "output_type": "stream",
     "text": [
      "Enter a number:-12\n"
     ]
    },
    {
     "ename": "NegativeNumber",
     "evalue": "Enter number >0",
     "output_type": "error",
     "traceback": [
      "\u001b[0;31m---------------------------------------------------------------------------\u001b[0m",
      "\u001b[0;31mNegativeNumber\u001b[0m                            Traceback (most recent call last)",
      "\u001b[0;32m<ipython-input-42-0725c84d222e>\u001b[0m in \u001b[0;36m<module>\u001b[0;34m\u001b[0m\n\u001b[1;32m      3\u001b[0m \u001b[0ma\u001b[0m\u001b[0;34m=\u001b[0m\u001b[0mfloat\u001b[0m\u001b[0;34m(\u001b[0m\u001b[0minput\u001b[0m\u001b[0;34m(\u001b[0m\u001b[0;34m\"Enter a number:\"\u001b[0m\u001b[0;34m)\u001b[0m\u001b[0;34m)\u001b[0m\u001b[0;34m\u001b[0m\u001b[0;34m\u001b[0m\u001b[0m\n\u001b[1;32m      4\u001b[0m \u001b[0;32mif\u001b[0m \u001b[0ma\u001b[0m\u001b[0;34m<\u001b[0m\u001b[0;36m0\u001b[0m\u001b[0;34m:\u001b[0m\u001b[0;34m\u001b[0m\u001b[0;34m\u001b[0m\u001b[0m\n\u001b[0;32m----> 5\u001b[0;31m     \u001b[0;32mraise\u001b[0m \u001b[0mNegativeNumber\u001b[0m\u001b[0;34m(\u001b[0m\u001b[0;34m\"Enter number >0\"\u001b[0m\u001b[0;34m)\u001b[0m\u001b[0;34m\u001b[0m\u001b[0;34m\u001b[0m\u001b[0m\n\u001b[0m",
      "\u001b[0;31mNegativeNumber\u001b[0m: Enter number >0"
     ]
    }
   ],
   "source": [
    "class NegativeNumber(Exception):\n",
    "    pass\n",
    "a=float(input(\"Enter a number:\"))\n",
    "if a<0:\n",
    "    raise NegativeNumber(\"Enter number >0\")"
   ]
  },
  {
   "cell_type": "code",
   "execution_count": 43,
   "metadata": {},
   "outputs": [
    {
     "ename": "FileNotFoundError",
     "evalue": "[Errno 2] No such file or directory: 'data2.txt'",
     "output_type": "error",
     "traceback": [
      "\u001b[0;31m---------------------------------------------------------------------------\u001b[0m",
      "\u001b[0;31mFileNotFoundError\u001b[0m                         Traceback (most recent call last)",
      "\u001b[0;32m<ipython-input-43-13a6bdb0a4ca>\u001b[0m in \u001b[0;36m<module>\u001b[0;34m\u001b[0m\n\u001b[0;32m----> 1\u001b[0;31m \u001b[0mf\u001b[0m\u001b[0;34m=\u001b[0m\u001b[0mopen\u001b[0m\u001b[0;34m(\u001b[0m\u001b[0;34m\"data2.txt\"\u001b[0m\u001b[0;34m)\u001b[0m\u001b[0;34m\u001b[0m\u001b[0;34m\u001b[0m\u001b[0m\n\u001b[0m",
      "\u001b[0;31mFileNotFoundError\u001b[0m: [Errno 2] No such file or directory: 'data2.txt'"
     ]
    }
   ],
   "source": [
    "f=open(\"data2.txt\")"
   ]
  },
  {
   "cell_type": "code",
   "execution_count": 44,
   "metadata": {},
   "outputs": [
    {
     "data": {
      "text/plain": [
       "(Exception, BaseException, object)"
      ]
     },
     "execution_count": 44,
     "metadata": {},
     "output_type": "execute_result"
    }
   ],
   "source": [
    "Exception.__mro__"
   ]
  },
  {
   "cell_type": "code",
   "execution_count": 46,
   "metadata": {},
   "outputs": [
    {
     "name": "stdout",
     "output_type": "stream",
     "text": [
      "['__cause__', '__class__', '__context__', '__delattr__', '__dict__', '__dir__', '__doc__', '__eq__', '__format__', '__ge__', '__getattribute__', '__gt__', '__hash__', '__init__', '__init_subclass__', '__le__', '__lt__', '__ne__', '__new__', '__reduce__', '__reduce_ex__', '__repr__', '__setattr__', '__setstate__', '__sizeof__', '__str__', '__subclasshook__', '__suppress_context__', '__traceback__', 'args', 'with_traceback']\n"
     ]
    }
   ],
   "source": [
    "print(dir(Exception))"
   ]
  },
  {
   "cell_type": "code",
   "execution_count": 48,
   "metadata": {},
   "outputs": [
    {
     "ename": "ModuleNotFoundError",
     "evalue": "No module named 'exception'",
     "output_type": "error",
     "traceback": [
      "\u001b[0;31m---------------------------------------------------------------------------\u001b[0m",
      "\u001b[0;31mModuleNotFoundError\u001b[0m                       Traceback (most recent call last)",
      "\u001b[0;32m<ipython-input-48-a1375f7a90d0>\u001b[0m in \u001b[0;36m<module>\u001b[0;34m\u001b[0m\n\u001b[0;32m----> 1\u001b[0;31m \u001b[0;32mimport\u001b[0m \u001b[0mexception\u001b[0m\u001b[0;34m\u001b[0m\u001b[0;34m\u001b[0m\u001b[0m\n\u001b[0m",
      "\u001b[0;31mModuleNotFoundError\u001b[0m: No module named 'exception'"
     ]
    }
   ],
   "source": [
    "import exception"
   ]
  },
  {
   "cell_type": "code",
   "execution_count": 1,
   "metadata": {},
   "outputs": [
    {
     "name": "stdout",
     "output_type": "stream",
     "text": [
      "jay,3\n"
     ]
    }
   ],
   "source": [
    "d={\"name\":\"jay\",\"age\":3}\n",
    "print(\"%(name)s,%(age)s\"%d)"
   ]
  },
  {
   "cell_type": "code",
   "execution_count": null,
   "metadata": {},
   "outputs": [],
   "source": []
  }
 ],
 "metadata": {
  "kernelspec": {
   "display_name": "Python 3",
   "language": "python",
   "name": "python3"
  },
  "language_info": {
   "codemirror_mode": {
    "name": "ipython",
    "version": 3
   },
   "file_extension": ".py",
   "mimetype": "text/x-python",
   "name": "python",
   "nbconvert_exporter": "python",
   "pygments_lexer": "ipython3",
   "version": "3.7.3"
  }
 },
 "nbformat": 4,
 "nbformat_minor": 2
}
